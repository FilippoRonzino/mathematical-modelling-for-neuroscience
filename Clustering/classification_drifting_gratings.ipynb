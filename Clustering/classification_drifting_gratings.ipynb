{
 "cells": [
  {
   "cell_type": "code",
   "execution_count": 2,
   "metadata": {},
   "outputs": [],
   "source": [
    "import os\n",
    "import numpy as np\n",
    "import pandas as pd\n",
    "import matplotlib.pyplot as plt\n",
    "import matplotlib\n",
    "import seaborn as sns\n",
    "from sklearn.ensemble import RandomForestRegressor\n",
    "from sklearn.model_selection import train_test_split\n",
    "from sklearn.metrics import mean_squared_error\n",
    "from sklearn.preprocessing import StandardScaler\n",
    "from sklearn.decomposition import PCA\n",
    "from sklearn.cluster import KMeans, AgglomerativeClustering, DBSCAN\n",
    "from sklearn.preprocessing import LabelEncoder\n",
    "import xgboost as xgb\n",
    "from sklearn.metrics import classification_report, accuracy_score, confusion_matrix, roc_auc_score"
   ]
  },
  {
   "cell_type": "code",
   "execution_count": 31,
   "metadata": {},
   "outputs": [
    {
     "data": {
      "application/vnd.microsoft.datawrangler.viewer.v0+json": {
       "columns": [
        {
         "name": "index",
         "rawType": "int64",
         "type": "integer"
        },
        {
         "name": "stimulus_presentation_id",
         "rawType": "int64",
         "type": "integer"
        },
        {
         "name": "unit_id",
         "rawType": "int64",
         "type": "integer"
        },
        {
         "name": "orientation",
         "rawType": "float64",
         "type": "float"
        },
        {
         "name": "temporal_frequency",
         "rawType": "float64",
         "type": "float"
        },
        {
         "name": "spikes_per_second",
         "rawType": "float64",
         "type": "float"
        },
        {
         "name": "area",
         "rawType": "object",
         "type": "string"
        }
       ],
       "conversionMethod": "pd.DataFrame",
       "ref": "1d5cc6b1-b367-4361-962c-9c5fc99e80f5",
       "rows": [
        [
         "0",
         "3798",
         "951088664",
         "0.0",
         "15.0",
         "12.489571208042056",
         "APN"
        ],
        [
         "1",
         "3798",
         "951088679",
         "0.0",
         "15.0",
         "11.989988359720375",
         "APN"
        ],
        [
         "2",
         "3798",
         "951088721",
         "0.0",
         "15.0",
         "12.489571208042056",
         "APN"
        ],
        [
         "3",
         "3798",
         "951088823",
         "0.0",
         "15.0",
         "0.9991656966433645",
         "APN"
        ],
        [
         "4",
         "3798",
         "951088862",
         "0.0",
         "15.0",
         "38.96746216909122",
         "APN"
        ],
        [
         "5",
         "3798",
         "951088891",
         "0.0",
         "15.0",
         "0.9991656966433645",
         "APN"
        ],
        [
         "6",
         "3798",
         "951088939",
         "0.0",
         "15.0",
         "12.98915405636374",
         "APN"
        ],
        [
         "7",
         "3798",
         "951088948",
         "0.0",
         "15.0",
         "66.94410167510543",
         "APN"
        ],
        [
         "8",
         "3798",
         "951088957",
         "0.0",
         "15.0",
         "2.9974970899300937",
         "APN"
        ],
        [
         "9",
         "3798",
         "951088968",
         "0.0",
         "15.0",
         "48.959119135524865",
         "APN"
        ],
        [
         "10",
         "3798",
         "951089004",
         "0.0",
         "15.0",
         "11.490405511398693",
         "APN"
        ],
        [
         "11",
         "3798",
         "951089020",
         "0.0",
         "15.0",
         "64.9457702818187",
         "APN"
        ],
        [
         "12",
         "3798",
         "951089071",
         "0.0",
         "15.0",
         "0.9991656966433645",
         "APN"
        ],
        [
         "13",
         "3798",
         "951089083",
         "0.0",
         "15.0",
         "26.47789096104916",
         "APN"
        ],
        [
         "14",
         "3798",
         "951089095",
         "0.0",
         "15.0",
         "3.497079938251776",
         "APN"
        ],
        [
         "15",
         "3798",
         "951089130",
         "0.0",
         "15.0",
         "25.97830811272748",
         "APN"
        ],
        [
         "16",
         "3798",
         "951089164",
         "0.0",
         "15.0",
         "33.472050837552715",
         "APN"
        ],
        [
         "17",
         "3798",
         "951089174",
         "0.0",
         "15.0",
         "22.980811022797386",
         "MB"
        ],
        [
         "18",
         "3798",
         "951089184",
         "0.0",
         "15.0",
         "0.9991656966433645",
         "APN"
        ],
        [
         "19",
         "3798",
         "951089195",
         "0.0",
         "15.0",
         "84.4295013663643",
         "NOT"
        ],
        [
         "20",
         "3798",
         "951089339",
         "0.0",
         "15.0",
         "6.994159876503552",
         "NOT"
        ],
        [
         "21",
         "3798",
         "951089429",
         "0.0",
         "15.0",
         "34.97079938251776",
         "NOT"
        ],
        [
         "22",
         "3798",
         "951089459",
         "0.0",
         "15.0",
         "0.49958284832168226",
         "NOT"
        ],
        [
         "23",
         "3798",
         "951089488",
         "0.0",
         "15.0",
         "81.43200427643421",
         "NOT"
        ],
        [
         "24",
         "3798",
         "951089538",
         "0.0",
         "15.0",
         "70.94076446167888",
         "NOT"
        ],
        [
         "25",
         "3798",
         "951089592",
         "0.0",
         "15.0",
         "5.495411331538505",
         "NOT"
        ],
        [
         "26",
         "3798",
         "951089704",
         "0.0",
         "15.0",
         "8.99249126979028",
         "NOT"
        ],
        [
         "27",
         "3798",
         "951089925",
         "0.0",
         "15.0",
         "1.998331393286729",
         "NOT"
        ],
        [
         "28",
         "3798",
         "951090214",
         "0.0",
         "15.0",
         "24.479559567762433",
         "DG"
        ],
        [
         "29",
         "3798",
         "951090343",
         "0.0",
         "15.0",
         "2.4979142416084112",
         "CA1"
        ],
        [
         "30",
         "3798",
         "951090551",
         "0.0",
         "15.0",
         "9.492074118111963",
         "CA1"
        ],
        [
         "31",
         "3798",
         "951090679",
         "0.0",
         "15.0",
         "6.49457702818187",
         "CA1"
        ],
        [
         "32",
         "3798",
         "951090729",
         "0.0",
         "15.0",
         "5.495411331538505",
         "CA1"
        ],
        [
         "33",
         "3798",
         "951090804",
         "0.0",
         "15.0",
         "1.4987485449650468",
         "CA1"
        ],
        [
         "34",
         "3798",
         "951090856",
         "0.0",
         "15.0",
         "1.4987485449650468",
         "CA1"
        ],
        [
         "35",
         "3798",
         "951090924",
         "0.0",
         "15.0",
         "2.4979142416084112",
         "CA1"
        ],
        [
         "36",
         "3798",
         "951090982",
         "0.0",
         "15.0",
         "4.49624563489514",
         "CA1"
        ],
        [
         "37",
         "3798",
         "951091025",
         "0.0",
         "15.0",
         "2.9974970899300937",
         "CA1"
        ],
        [
         "38",
         "3798",
         "951091188",
         "0.0",
         "15.0",
         "17.98498253958056",
         "CA1"
        ],
        [
         "39",
         "3798",
         "951091287",
         "0.0",
         "15.0",
         "3.996662786573458",
         "CA1"
        ],
        [
         "40",
         "3798",
         "951091304",
         "0.0",
         "15.0",
         "14.987485449650467",
         "CA1"
        ],
        [
         "41",
         "3798",
         "951091412",
         "0.0",
         "15.0",
         "2.9974970899300937",
         "CA1"
        ],
        [
         "42",
         "3798",
         "951091444",
         "0.0",
         "15.0",
         "10.99082266307701",
         "CA1"
        ],
        [
         "43",
         "3798",
         "951091492",
         "0.0",
         "15.0",
         "8.492908421468599",
         "CA1"
        ],
        [
         "44",
         "3798",
         "951091758",
         "0.0",
         "15.0",
         "6.994159876503552",
         "CA1"
        ],
        [
         "45",
         "3798",
         "951091785",
         "0.0",
         "15.0",
         "19.48373108454561",
         "CA1"
        ],
        [
         "46",
         "3798",
         "951091890",
         "0.0",
         "15.0",
         "2.9974970899300937",
         "CA1"
        ],
        [
         "47",
         "3798",
         "951091914",
         "0.0",
         "15.0",
         "3.996662786573458",
         "CA1"
        ],
        [
         "48",
         "3798",
         "951092050",
         "0.0",
         "15.0",
         "22.980811022797386",
         "VISam"
        ],
        [
         "49",
         "3798",
         "951092075",
         "0.0",
         "15.0",
         "9.991656966433645",
         "VISam"
        ]
       ],
       "shape": {
        "columns": 6,
        "rows": 378168
       }
      },
      "text/html": [
       "<div>\n",
       "<style scoped>\n",
       "    .dataframe tbody tr th:only-of-type {\n",
       "        vertical-align: middle;\n",
       "    }\n",
       "\n",
       "    .dataframe tbody tr th {\n",
       "        vertical-align: top;\n",
       "    }\n",
       "\n",
       "    .dataframe thead th {\n",
       "        text-align: right;\n",
       "    }\n",
       "</style>\n",
       "<table border=\"1\" class=\"dataframe\">\n",
       "  <thead>\n",
       "    <tr style=\"text-align: right;\">\n",
       "      <th></th>\n",
       "      <th>stimulus_presentation_id</th>\n",
       "      <th>unit_id</th>\n",
       "      <th>orientation</th>\n",
       "      <th>temporal_frequency</th>\n",
       "      <th>spikes_per_second</th>\n",
       "      <th>area</th>\n",
       "    </tr>\n",
       "  </thead>\n",
       "  <tbody>\n",
       "    <tr>\n",
       "      <th>0</th>\n",
       "      <td>3798</td>\n",
       "      <td>951088664</td>\n",
       "      <td>0.0</td>\n",
       "      <td>15.0</td>\n",
       "      <td>12.489571</td>\n",
       "      <td>APN</td>\n",
       "    </tr>\n",
       "    <tr>\n",
       "      <th>1</th>\n",
       "      <td>3798</td>\n",
       "      <td>951088679</td>\n",
       "      <td>0.0</td>\n",
       "      <td>15.0</td>\n",
       "      <td>11.989988</td>\n",
       "      <td>APN</td>\n",
       "    </tr>\n",
       "    <tr>\n",
       "      <th>2</th>\n",
       "      <td>3798</td>\n",
       "      <td>951088721</td>\n",
       "      <td>0.0</td>\n",
       "      <td>15.0</td>\n",
       "      <td>12.489571</td>\n",
       "      <td>APN</td>\n",
       "    </tr>\n",
       "    <tr>\n",
       "      <th>3</th>\n",
       "      <td>3798</td>\n",
       "      <td>951088823</td>\n",
       "      <td>0.0</td>\n",
       "      <td>15.0</td>\n",
       "      <td>0.999166</td>\n",
       "      <td>APN</td>\n",
       "    </tr>\n",
       "    <tr>\n",
       "      <th>4</th>\n",
       "      <td>3798</td>\n",
       "      <td>951088862</td>\n",
       "      <td>0.0</td>\n",
       "      <td>15.0</td>\n",
       "      <td>38.967462</td>\n",
       "      <td>APN</td>\n",
       "    </tr>\n",
       "    <tr>\n",
       "      <th>...</th>\n",
       "      <td>...</td>\n",
       "      <td>...</td>\n",
       "      <td>...</td>\n",
       "      <td>...</td>\n",
       "      <td>...</td>\n",
       "      <td>...</td>\n",
       "    </tr>\n",
       "    <tr>\n",
       "      <th>396805</th>\n",
       "      <td>49432</td>\n",
       "      <td>951117127</td>\n",
       "      <td>180.0</td>\n",
       "      <td>1.0</td>\n",
       "      <td>11.490348</td>\n",
       "      <td>VISrl</td>\n",
       "    </tr>\n",
       "    <tr>\n",
       "      <th>396806</th>\n",
       "      <td>49432</td>\n",
       "      <td>951117252</td>\n",
       "      <td>180.0</td>\n",
       "      <td>1.0</td>\n",
       "      <td>10.990768</td>\n",
       "      <td>LP</td>\n",
       "    </tr>\n",
       "    <tr>\n",
       "      <th>396807</th>\n",
       "      <td>49432</td>\n",
       "      <td>951117258</td>\n",
       "      <td>180.0</td>\n",
       "      <td>1.0</td>\n",
       "      <td>2.997482</td>\n",
       "      <td>LP</td>\n",
       "    </tr>\n",
       "    <tr>\n",
       "      <th>396808</th>\n",
       "      <td>49432</td>\n",
       "      <td>951117264</td>\n",
       "      <td>180.0</td>\n",
       "      <td>1.0</td>\n",
       "      <td>10.491187</td>\n",
       "      <td>LP</td>\n",
       "    </tr>\n",
       "    <tr>\n",
       "      <th>396809</th>\n",
       "      <td>49432</td>\n",
       "      <td>951117389</td>\n",
       "      <td>180.0</td>\n",
       "      <td>1.0</td>\n",
       "      <td>0.499580</td>\n",
       "      <td>VISrl</td>\n",
       "    </tr>\n",
       "  </tbody>\n",
       "</table>\n",
       "<p>378168 rows × 6 columns</p>\n",
       "</div>"
      ],
      "text/plain": [
       "        stimulus_presentation_id    unit_id  orientation  temporal_frequency  \\\n",
       "0                           3798  951088664          0.0                15.0   \n",
       "1                           3798  951088679          0.0                15.0   \n",
       "2                           3798  951088721          0.0                15.0   \n",
       "3                           3798  951088823          0.0                15.0   \n",
       "4                           3798  951088862          0.0                15.0   \n",
       "...                          ...        ...          ...                 ...   \n",
       "396805                     49432  951117127        180.0                 1.0   \n",
       "396806                     49432  951117252        180.0                 1.0   \n",
       "396807                     49432  951117258        180.0                 1.0   \n",
       "396808                     49432  951117264        180.0                 1.0   \n",
       "396809                     49432  951117389        180.0                 1.0   \n",
       "\n",
       "        spikes_per_second   area  \n",
       "0               12.489571    APN  \n",
       "1               11.989988    APN  \n",
       "2               12.489571    APN  \n",
       "3                0.999166    APN  \n",
       "4               38.967462    APN  \n",
       "...                   ...    ...  \n",
       "396805          11.490348  VISrl  \n",
       "396806          10.990768     LP  \n",
       "396807           2.997482     LP  \n",
       "396808          10.491187     LP  \n",
       "396809           0.499580  VISrl  \n",
       "\n",
       "[378168 rows x 6 columns]"
      ]
     },
     "execution_count": 31,
     "metadata": {},
     "output_type": "execute_result"
    }
   ],
   "source": [
    "# import the data\n",
    "dataset = pd.read_parquet('../ourdata/drifting_dataset_session_798911424.parquet')\n",
    "dataset"
   ]
  },
  {
   "cell_type": "markdown",
   "metadata": {},
   "source": [
    "We now take a look at the areas of the brain in our dataset:"
   ]
  },
  {
   "cell_type": "code",
   "execution_count": 32,
   "metadata": {},
   "outputs": [
    {
     "data": {
      "text/plain": [
       "array(['APN', 'MB', 'NOT', 'DG', 'CA1', 'VISam', 'LP', 'ProS', 'SUB',\n",
       "       'VISp', 'CA3', 'VISl', 'LGv', 'CA2', 'VISal', 'TH', 'Eth', 'VISrl'],\n",
       "      dtype=object)"
      ]
     },
     "execution_count": 32,
     "metadata": {},
     "output_type": "execute_result"
    }
   ],
   "source": [
    "# see the different areas of the brain in our dataset\n",
    "dataset['area'].unique()"
   ]
  },
  {
   "cell_type": "code",
   "execution_count": 33,
   "metadata": {},
   "outputs": [],
   "source": [
    "n_classes = len(dataset['area'].unique())"
   ]
  },
  {
   "cell_type": "code",
   "execution_count": 6,
   "metadata": {},
   "outputs": [],
   "source": [
    "# dataset['area'] = dataset['area'].apply(lambda x: \n",
    "#     'Visual' if x in ['VISp', 'VISal', 'VISmma', 'VISrl', 'VISam', 'VISl'] else \n",
    "#     'Hippocampus' if x in ['CA1', 'CA2', 'CA3', 'DG', 'SUB', 'ProS'] else \n",
    "#     'Thalamus' if x in ['LP', 'LGd', 'POL', 'APN'] else \n",
    "#     'Other') "
   ]
  },
  {
   "cell_type": "code",
   "execution_count": 34,
   "metadata": {},
   "outputs": [
    {
     "name": "stdout",
     "output_type": "stream",
     "text": [
      "378168\n"
     ]
    }
   ],
   "source": [
    "# we drop the rows with nans\n",
    "dataset = dataset.dropna()\n",
    "print(dataset.shape[0])"
   ]
  },
  {
   "cell_type": "code",
   "execution_count": 35,
   "metadata": {},
   "outputs": [
    {
     "data": {
      "application/vnd.microsoft.datawrangler.viewer.v0+json": {
       "columns": [
        {
         "name": "index",
         "rawType": "int64",
         "type": "integer"
        },
        {
         "name": "stimulus_presentation_id",
         "rawType": "int64",
         "type": "integer"
        },
        {
         "name": "unit_id",
         "rawType": "int64",
         "type": "integer"
        },
        {
         "name": "orientation",
         "rawType": "float64",
         "type": "float"
        },
        {
         "name": "temporal_frequency",
         "rawType": "float64",
         "type": "float"
        },
        {
         "name": "spikes_per_second",
         "rawType": "float64",
         "type": "float"
        },
        {
         "name": "area",
         "rawType": "object",
         "type": "string"
        }
       ],
       "conversionMethod": "pd.DataFrame",
       "ref": "265675da-efe1-4c20-9209-19b40aad6e46",
       "rows": [
        [
         "7",
         "3798",
         "951088948",
         "0.0",
         "15.0",
         "66.94410167510543",
         "APN"
        ],
        [
         "11",
         "3798",
         "951089020",
         "0.0",
         "15.0",
         "64.9457702818187",
         "APN"
        ],
        [
         "19",
         "3798",
         "951089195",
         "0.0",
         "15.0",
         "84.4295013663643",
         "NOT"
        ],
        [
         "23",
         "3798",
         "951089488",
         "0.0",
         "15.0",
         "81.43200427643421",
         "NOT"
        ],
        [
         "24",
         "3798",
         "951089538",
         "0.0",
         "15.0",
         "70.94076446167888",
         "NOT"
        ],
        [
         "74",
         "3798",
         "951093080",
         "0.0",
         "15.0",
         "56.4528618603501",
         "VISam"
        ],
        [
         "84",
         "3798",
         "951093608",
         "0.0",
         "15.0",
         "51.95661622545496",
         "VISam"
        ],
        [
         "142",
         "3798",
         "951096171",
         "0.0",
         "15.0",
         "66.94410167510543",
         "DG"
        ],
        [
         "163",
         "3798",
         "951097547",
         "0.0",
         "15.0",
         "75.93659294489571",
         "VISam"
        ],
        [
         "198",
         "3798",
         "951098928",
         "0.0",
         "15.0",
         "52.95578192209832",
         "VISam"
        ],
        [
         "249",
         "3798",
         "951101983",
         "0.0",
         "15.0",
         "138.384448985106",
         "SUB"
        ],
        [
         "285",
         "3798",
         "951103332",
         "0.0",
         "15.0",
         "69.94159876503552",
         "VISp"
        ],
        [
         "297",
         "3798",
         "951103632",
         "0.0",
         "15.0",
         "71.93993015832224",
         "VISp"
        ],
        [
         "314",
         "3798",
         "951104192",
         "0.0",
         "15.0",
         "65.94493597846206",
         "VISp"
        ],
        [
         "348",
         "3798",
         "951106725",
         "0.0",
         "15.0",
         "83.43033566972095",
         "CA1"
        ],
        [
         "363",
         "3798",
         "951107474",
         "0.0",
         "15.0",
         "54.45453046706337",
         "CA1"
        ],
        [
         "391",
         "3798",
         "951108911",
         "0.0",
         "15.0",
         "63.44702173685365",
         "VISl"
        ],
        [
         "406",
         "3798",
         "951109282",
         "0.0",
         "15.0",
         "54.45453046706337",
         "VISl"
        ],
        [
         "410",
         "3798",
         "951109319",
         "0.0",
         "15.0",
         "69.44201591671384",
         "VISl"
        ],
        [
         "423",
         "3798",
         "951109594",
         "0.0",
         "15.0",
         "81.9315871247559",
         "VISl"
        ],
        [
         "438",
         "3798",
         "951110547",
         "0.0",
         "15.0",
         "57.951610405315144",
         "LGv"
        ],
        [
         "439",
         "3798",
         "951110604",
         "0.0",
         "15.0",
         "90.92407839454617",
         "LGv"
        ],
        [
         "442",
         "3798",
         "951110620",
         "0.0",
         "15.0",
         "57.951610405315144",
         "LGv"
        ],
        [
         "470",
         "3798",
         "951111734",
         "0.0",
         "15.0",
         "64.44618743349702",
         "CA1"
        ],
        [
         "501",
         "3798",
         "951112712",
         "0.0",
         "15.0",
         "71.44034731000056",
         "VISal"
        ],
        [
         "531",
         "3798",
         "951113271",
         "0.0",
         "15.0",
         "117.90155220391702",
         "VISal"
        ],
        [
         "553",
         "3798",
         "951114520",
         "0.0",
         "15.0",
         "63.94660458517533",
         "APN"
        ],
        [
         "556",
         "3798",
         "951114629",
         "0.0",
         "15.0",
         "86.42783275965104",
         "Eth"
        ],
        [
         "595",
         "3798",
         "951116003",
         "0.0",
         "15.0",
         "78.9340900348258",
         "CA1"
        ],
        [
         "606",
         "3798",
         "951116440",
         "0.0",
         "15.0",
         "56.4528618603501",
         "CA1"
        ],
        [
         "607",
         "3798",
         "951116459",
         "0.0",
         "15.0",
         "66.44451882678375",
         "CA1"
        ],
        [
         "659",
         "3799",
         "951088948",
         "180.0",
         "2.0",
         "68.94208864553505",
         "APN"
        ],
        [
         "661",
         "3799",
         "951088968",
         "180.0",
         "2.0",
         "51.45677630789935",
         "APN"
        ],
        [
         "663",
         "3799",
         "951089020",
         "180.0",
         "2.0",
         "63.94628512049627",
         "APN"
        ],
        [
         "669",
         "3799",
         "951089174",
         "180.0",
         "2.0",
         "74.93705287558157",
         "MB"
        ],
        [
         "671",
         "3799",
         "951089195",
         "180.0",
         "2.0",
         "54.95383877542648",
         "NOT"
        ],
        [
         "676",
         "3799",
         "951089488",
         "180.0",
         "2.0",
         "71.93957076055831",
         "NOT"
        ],
        [
         "678",
         "3799",
         "951089538",
         "180.0",
         "2.0",
         "89.92446345069789",
         "NOT"
        ],
        [
         "796",
         "3799",
         "951096171",
         "180.0",
         "2.0",
         "71.43999040805443",
         "DG"
        ],
        [
         "816",
         "3799",
         "951097547",
         "180.0",
         "2.0",
         "57.95132089044975",
         "VISam"
        ],
        [
         "907",
         "3799",
         "951101983",
         "180.0",
         "2.0",
         "70.44082970304667",
         "SUB"
        ],
        [
         "944",
         "3799",
         "951103332",
         "180.0",
         "2.0",
         "72.93873146556606",
         "VISp"
        ],
        [
         "1018",
         "3799",
         "951106725",
         "180.0",
         "2.0",
         "75.43663322808544",
         "CA1"
        ],
        [
         "1031",
         "3799",
         "951107474",
         "180.0",
         "2.0",
         "52.95551736541098",
         "CA1"
        ],
        [
         "1055",
         "3799",
         "951108911",
         "180.0",
         "2.0",
         "52.95551736541098",
         "VISl"
        ],
        [
         "1106",
         "3799",
         "951110547",
         "180.0",
         "2.0",
         "56.95216018544199",
         "LGv"
        ],
        [
         "1107",
         "3799",
         "951110604",
         "180.0",
         "2.0",
         "103.41313296830256",
         "LGv"
        ],
        [
         "1109",
         "3799",
         "951110614",
         "180.0",
         "2.0",
         "88.92530274569013",
         "LGv"
        ],
        [
         "1110",
         "3799",
         "951110620",
         "180.0",
         "2.0",
         "76.93537428559708",
         "LGv"
        ],
        [
         "1113",
         "3799",
         "951110675",
         "180.0",
         "2.0",
         "53.45509771791485",
         "LGv"
        ]
       ],
       "shape": {
        "columns": 6,
        "rows": 5370
       }
      },
      "text/html": [
       "<div>\n",
       "<style scoped>\n",
       "    .dataframe tbody tr th:only-of-type {\n",
       "        vertical-align: middle;\n",
       "    }\n",
       "\n",
       "    .dataframe tbody tr th {\n",
       "        vertical-align: top;\n",
       "    }\n",
       "\n",
       "    .dataframe thead th {\n",
       "        text-align: right;\n",
       "    }\n",
       "</style>\n",
       "<table border=\"1\" class=\"dataframe\">\n",
       "  <thead>\n",
       "    <tr style=\"text-align: right;\">\n",
       "      <th></th>\n",
       "      <th>stimulus_presentation_id</th>\n",
       "      <th>unit_id</th>\n",
       "      <th>orientation</th>\n",
       "      <th>temporal_frequency</th>\n",
       "      <th>spikes_per_second</th>\n",
       "      <th>area</th>\n",
       "    </tr>\n",
       "  </thead>\n",
       "  <tbody>\n",
       "    <tr>\n",
       "      <th>7</th>\n",
       "      <td>3798</td>\n",
       "      <td>951088948</td>\n",
       "      <td>0.0</td>\n",
       "      <td>15.0</td>\n",
       "      <td>66.944102</td>\n",
       "      <td>APN</td>\n",
       "    </tr>\n",
       "    <tr>\n",
       "      <th>11</th>\n",
       "      <td>3798</td>\n",
       "      <td>951089020</td>\n",
       "      <td>0.0</td>\n",
       "      <td>15.0</td>\n",
       "      <td>64.945770</td>\n",
       "      <td>APN</td>\n",
       "    </tr>\n",
       "    <tr>\n",
       "      <th>19</th>\n",
       "      <td>3798</td>\n",
       "      <td>951089195</td>\n",
       "      <td>0.0</td>\n",
       "      <td>15.0</td>\n",
       "      <td>84.429501</td>\n",
       "      <td>NOT</td>\n",
       "    </tr>\n",
       "    <tr>\n",
       "      <th>23</th>\n",
       "      <td>3798</td>\n",
       "      <td>951089488</td>\n",
       "      <td>0.0</td>\n",
       "      <td>15.0</td>\n",
       "      <td>81.432004</td>\n",
       "      <td>NOT</td>\n",
       "    </tr>\n",
       "    <tr>\n",
       "      <th>24</th>\n",
       "      <td>3798</td>\n",
       "      <td>951089538</td>\n",
       "      <td>0.0</td>\n",
       "      <td>15.0</td>\n",
       "      <td>70.940764</td>\n",
       "      <td>NOT</td>\n",
       "    </tr>\n",
       "    <tr>\n",
       "      <th>...</th>\n",
       "      <td>...</td>\n",
       "      <td>...</td>\n",
       "      <td>...</td>\n",
       "      <td>...</td>\n",
       "      <td>...</td>\n",
       "      <td>...</td>\n",
       "    </tr>\n",
       "    <tr>\n",
       "      <th>396537</th>\n",
       "      <td>49432</td>\n",
       "      <td>951107266</td>\n",
       "      <td>180.0</td>\n",
       "      <td>1.0</td>\n",
       "      <td>64.445865</td>\n",
       "      <td>CA1</td>\n",
       "    </tr>\n",
       "    <tr>\n",
       "      <th>396546</th>\n",
       "      <td>49432</td>\n",
       "      <td>951108120</td>\n",
       "      <td>180.0</td>\n",
       "      <td>1.0</td>\n",
       "      <td>72.938731</td>\n",
       "      <td>CA1</td>\n",
       "    </tr>\n",
       "    <tr>\n",
       "      <th>396614</th>\n",
       "      <td>49432</td>\n",
       "      <td>951110614</td>\n",
       "      <td>180.0</td>\n",
       "      <td>1.0</td>\n",
       "      <td>66.444187</td>\n",
       "      <td>LGv</td>\n",
       "    </tr>\n",
       "    <tr>\n",
       "      <th>396615</th>\n",
       "      <td>49432</td>\n",
       "      <td>951110620</td>\n",
       "      <td>180.0</td>\n",
       "      <td>1.0</td>\n",
       "      <td>55.453419</td>\n",
       "      <td>LGv</td>\n",
       "    </tr>\n",
       "    <tr>\n",
       "      <th>396726</th>\n",
       "      <td>49432</td>\n",
       "      <td>951114629</td>\n",
       "      <td>180.0</td>\n",
       "      <td>1.0</td>\n",
       "      <td>63.946285</td>\n",
       "      <td>Eth</td>\n",
       "    </tr>\n",
       "  </tbody>\n",
       "</table>\n",
       "<p>5370 rows × 6 columns</p>\n",
       "</div>"
      ],
      "text/plain": [
       "        stimulus_presentation_id    unit_id  orientation  temporal_frequency  \\\n",
       "7                           3798  951088948          0.0                15.0   \n",
       "11                          3798  951089020          0.0                15.0   \n",
       "19                          3798  951089195          0.0                15.0   \n",
       "23                          3798  951089488          0.0                15.0   \n",
       "24                          3798  951089538          0.0                15.0   \n",
       "...                          ...        ...          ...                 ...   \n",
       "396537                     49432  951107266        180.0                 1.0   \n",
       "396546                     49432  951108120        180.0                 1.0   \n",
       "396614                     49432  951110614        180.0                 1.0   \n",
       "396615                     49432  951110620        180.0                 1.0   \n",
       "396726                     49432  951114629        180.0                 1.0   \n",
       "\n",
       "        spikes_per_second area  \n",
       "7               66.944102  APN  \n",
       "11              64.945770  APN  \n",
       "19              84.429501  NOT  \n",
       "23              81.432004  NOT  \n",
       "24              70.940764  NOT  \n",
       "...                   ...  ...  \n",
       "396537          64.445865  CA1  \n",
       "396546          72.938731  CA1  \n",
       "396614          66.444187  LGv  \n",
       "396615          55.453419  LGv  \n",
       "396726          63.946285  Eth  \n",
       "\n",
       "[5370 rows x 6 columns]"
      ]
     },
     "execution_count": 35,
     "metadata": {},
     "output_type": "execute_result"
    }
   ],
   "source": [
    "# we filter for neurons that are spiking\n",
    "dataset = dataset[dataset['spikes_per_second'] > 50]\n",
    "dataset"
   ]
  },
  {
   "cell_type": "markdown",
   "metadata": {},
   "source": [
    "## Clustering"
   ]
  },
  {
   "cell_type": "markdown",
   "metadata": {},
   "source": [
    "We now try to use two unsupervised algorithms to cluster the data (KMeans and DBSCAN)"
   ]
  },
  {
   "cell_type": "code",
   "execution_count": 9,
   "metadata": {},
   "outputs": [],
   "source": [
    "#dataset = dataset.sample(22000, random_state=42)"
   ]
  },
  {
   "cell_type": "code",
   "execution_count": 36,
   "metadata": {},
   "outputs": [
    {
     "data": {
      "image/png": "[encoded data removed]",
      "text/plain": [
       "<Figure size 1200x400 with 1 Axes>"
      ]
     },
     "metadata": {},
     "output_type": "display_data"
    }
   ],
   "source": [
    "plt.figure(figsize=(12, 4))\n",
    "sns.scatterplot(x=dataset['temporal_frequency'], y=dataset['orientation'])\n",
    "plt.title('Feature space')\n",
    "plt.show()"
   ]
  },
  {
   "cell_type": "markdown",
   "metadata": {},
   "source": [
    "As the feature space has few elements and is rather regular, we do not expect unsupervised algorithms to work effectively"
   ]
  },
  {
   "cell_type": "code",
   "execution_count": 37,
   "metadata": {},
   "outputs": [],
   "source": [
    "features = ['temporal_frequency', 'orientation']\n",
    "X = dataset[features]\n",
    "Y = dataset['area']  \n",
    "\n",
    "# Standardize features\n",
    "scaler = StandardScaler()\n",
    "X_scaled = scaler.fit_transform(X)"
   ]
  },
  {
   "cell_type": "code",
   "execution_count": 43,
   "metadata": {},
   "outputs": [
    {
     "data": {
      "image/png": "[encoded data removed]",
      "text/plain": [
       "<Figure size 1200x400 with 1 Axes>"
      ]
     },
     "metadata": {},
     "output_type": "display_data"
    }
   ],
   "source": [
    "# Apply K-Means clustering\n",
    "kmeans = KMeans(n_clusters=n_classes, random_state=42, n_init=10)\n",
    "kmeans_labels = kmeans.fit_predict(X_scaled)\n",
    "\n",
    "dataset['KMeans_Cluster'] = kmeans_labels\n",
    "\n",
    "# Visualize K-Means Clusters\n",
    "plt.figure(figsize=(12, 4))\n",
    "sns.scatterplot(x=dataset['temporal_frequency'], y=dataset['orientation'], hue=dataset['KMeans_Cluster'], palette='viridis', legend=False)\n",
    "plt.title('K-Means Clustering')\n",
    "plt.show()"
   ]
  },
  {
   "cell_type": "code",
   "execution_count": 41,
   "metadata": {},
   "outputs": [
    {
     "data": {
      "image/png": "[encoded data removed]",
      "text/plain": [
       "<Figure size 1200x400 with 1 Axes>"
      ]
     },
     "metadata": {},
     "output_type": "display_data"
    }
   ],
   "source": [
    "# Apply Hierarchical Clustering\n",
    "agglo = AgglomerativeClustering(n_clusters=n_classes)\n",
    "agglo_labels = agglo.fit_predict(X_scaled)\n",
    "dataset['Hierarchical_Cluster'] = agglo_labels\n",
    "\n",
    "# Visualize Hierarchical Clusters\n",
    "plt.figure(figsize=(12, 4))\n",
    "sns.scatterplot(x=dataset['temporal_frequency'], y=dataset['orientation'], hue=dataset['Hierarchical_Cluster'], palette='coolwarm', legend=False)\n",
    "plt.title('Hierarchical Clustering')\n",
    "plt.show()"
   ]
  },
  {
   "cell_type": "code",
   "execution_count": 47,
   "metadata": {},
   "outputs": [
    {
     "data": {
      "image/png": "[encoded data removed]",
      "text/plain": [
       "<Figure size 1200x400 with 1 Axes>"
      ]
     },
     "metadata": {},
     "output_type": "display_data"
    }
   ],
   "source": [
    "# Apply DBSCAN\n",
    "dbscan = DBSCAN(eps=0.5, min_samples=5)\n",
    "dbscan_labels = dbscan.fit_predict(X_scaled)\n",
    "dataset['DBSCAN_Cluster'] = dbscan_labels\n",
    "\n",
    "# Visualize DBSCAN Clusters\n",
    "plt.figure(figsize=(12, 4))\n",
    "sns.scatterplot(x=dataset['temporal_frequency'], y=dataset['orientation'], hue=dataset['DBSCAN_Cluster'], palette='Set1', legend=False)\n",
    "plt.title('DBSCAN Clustering')\n",
    "plt.show()"
   ]
  },
  {
   "cell_type": "code",
   "execution_count": 48,
   "metadata": {},
   "outputs": [
    {
     "data": {
      "image/png": "[encoded data removed]",
      "text/plain": [
       "<Figure size 1500x500 with 3 Axes>"
      ]
     },
     "metadata": {},
     "output_type": "display_data"
    }
   ],
   "source": [
    "plt.figure(figsize=(15, 5))\n",
    "\n",
    "# Plot for K-Means Clustering\n",
    "plt.subplot(1, 3, 1)\n",
    "sns.boxplot(x='KMeans_Cluster', y='area', data=dataset)\n",
    "plt.title('K-Means Clustering vs Brain Area')\n",
    "plt.xlabel('K-Means Cluster')\n",
    "plt.ylabel('Brain Area')\n",
    "\n",
    "# Plot for Hierarchical Clustering\n",
    "plt.subplot(1, 3, 2)\n",
    "sns.boxplot(x='Hierarchical_Cluster', y='area', data=dataset)\n",
    "plt.title('Hierarchical Clustering vs Brain Area')\n",
    "plt.xlabel('Hierarchical Cluster')\n",
    "plt.ylabel('Brain Area')\n",
    "\n",
    "# Plot for DBSCAN Clustering\n",
    "plt.subplot(1, 3, 3)\n",
    "sns.boxplot(x='DBSCAN_Cluster', y='area', data=dataset)\n",
    "plt.title('DBSCAN Clustering vs Brain Area')\n",
    "plt.xlabel('DBSCAN Cluster')\n",
    "plt.ylabel('Brain Area')\n",
    "\n",
    "# Adjust layout for better visualization\n",
    "plt.tight_layout()\n",
    "plt.show()"
   ]
  },
  {
   "cell_type": "markdown",
   "metadata": {},
   "source": [
    "## Supervised classification: XGBoost"
   ]
  },
  {
   "cell_type": "code",
   "execution_count": 49,
   "metadata": {},
   "outputs": [],
   "source": [
    "# Split data into training and testing sets\n",
    "label_encoder = LabelEncoder()\n",
    "Y = label_encoder.fit_transform(Y)\n",
    "X_train, X_test, Y_train, Y_test = train_test_split(X, Y, test_size=0.2, random_state=10)\n",
    "\n",
    "xgb_model = xgb.XGBClassifier(n_estimators=100, random_state=10)\n",
    "xgb_model.fit(X_train, Y_train)\n",
    "\n",
    "# Make predictions\n",
    "Y_pred = xgb_model.predict(X_test)"
   ]
  },
  {
   "cell_type": "code",
   "execution_count": 50,
   "metadata": {},
   "outputs": [
    {
     "name": "stderr",
     "output_type": "stream",
     "text": [
      "/Users/edoardoghirardo/miniconda/envs/envallen/lib/python3.11/site-packages/sklearn/metrics/_classification.py:1565: UndefinedMetricWarning: Precision is ill-defined and being set to 0.0 in labels with no predicted samples. Use `zero_division` parameter to control this behavior.\n",
      "  _warn_prf(average, modifier, f\"{metric.capitalize()} is\", len(result))\n",
      "/Users/edoardoghirardo/miniconda/envs/envallen/lib/python3.11/site-packages/sklearn/metrics/_classification.py:1565: UndefinedMetricWarning: Precision is ill-defined and being set to 0.0 in labels with no predicted samples. Use `zero_division` parameter to control this behavior.\n",
      "  _warn_prf(average, modifier, f\"{metric.capitalize()} is\", len(result))\n",
      "/Users/edoardoghirardo/miniconda/envs/envallen/lib/python3.11/site-packages/sklearn/metrics/_classification.py:1565: UndefinedMetricWarning: Precision is ill-defined and being set to 0.0 in labels with no predicted samples. Use `zero_division` parameter to control this behavior.\n",
      "  _warn_prf(average, modifier, f\"{metric.capitalize()} is\", len(result))\n"
     ]
    },
    {
     "name": "stdout",
     "output_type": "stream",
     "text": [
      "Classification Report:\n",
      "              precision    recall  f1-score   support\n",
      "\n",
      "           0       0.00      0.00      0.00        85\n",
      "           1       0.21      0.04      0.07       166\n",
      "           3       0.00      0.00      0.00        33\n",
      "           4       0.00      0.00      0.00       108\n",
      "           5       0.00      0.00      0.00        62\n",
      "           6       0.00      0.00      0.00        24\n",
      "           7       0.00      0.00      0.00        23\n",
      "           8       0.35      0.98      0.52       373\n",
      "           9       0.00      0.00      0.00        89\n",
      "          10       0.00      0.00      0.00         1\n",
      "          11       0.00      0.00      0.00        29\n",
      "          12       0.00      0.00      0.00        41\n",
      "          13       0.00      0.00      0.00        17\n",
      "          14       0.00      0.00      0.00        21\n",
      "          15       0.00      0.00      0.00         2\n",
      "\n",
      "    accuracy                           0.35      1074\n",
      "   macro avg       0.04      0.07      0.04      1074\n",
      "weighted avg       0.15      0.35      0.19      1074\n",
      "\n"
     ]
    },
    {
     "data": {
      "image/png": "[encoded data removed]",
      "text/plain": [
       "<Figure size 800x600 with 2 Axes>"
      ]
     },
     "metadata": {},
     "output_type": "display_data"
    },
    {
     "name": "stdout",
     "output_type": "stream",
     "text": [
      "Accuracy: 0.3473\n"
     ]
    }
   ],
   "source": [
    "# Calculate accuracy\n",
    "accuracy = accuracy_score(Y_test, Y_pred)\n",
    "\n",
    "# Generate classification report\n",
    "class_report = classification_report(Y_test, Y_pred)\n",
    "\n",
    "# Compute confusion matrix\n",
    "conf_matrix = confusion_matrix(Y_test, Y_pred)\n",
    "\n",
    "# Display classification report\n",
    "print(\"Classification Report:\")\n",
    "print(class_report)\n",
    "\n",
    "# Plot confusion matrix\n",
    "plt.figure(figsize=(8,6))\n",
    "sns.heatmap(conf_matrix, annot=True, fmt='d', cmap='Blues', xticklabels=label_encoder.classes_, yticklabels=label_encoder.classes_)\n",
    "plt.xlabel('Predicted')\n",
    "plt.ylabel('Actual')\n",
    "plt.title('Confusion Matrix')\n",
    "plt.show()\n",
    "\n",
    "# Print accuracy\n",
    "print(f'Accuracy: {accuracy:.4f}')\n",
    "\n",
    "# Compute ROC-AUC score if binary classification\n",
    "if len(label_encoder.classes_) == 2:\n",
    "    auc_score = roc_auc_score(Y_test, Y_pred)\n",
    "    print(f'ROC-AUC Score: {auc_score:.4f}')"
   ]
  },
  {
   "cell_type": "code",
   "execution_count": 18,
   "metadata": {},
   "outputs": [
    {
     "data": {
      "application/vnd.microsoft.datawrangler.viewer.v0+json": {
       "columns": [
        {
         "name": "index",
         "rawType": "int64",
         "type": "integer"
        },
        {
         "name": "stimulus_presentation_id",
         "rawType": "int64",
         "type": "integer"
        },
        {
         "name": "unit_id",
         "rawType": "int64",
         "type": "integer"
        },
        {
         "name": "orientation",
         "rawType": "float64",
         "type": "float"
        },
        {
         "name": "temporal_frequency",
         "rawType": "float64",
         "type": "float"
        },
        {
         "name": "spikes_per_second",
         "rawType": "float64",
         "type": "float"
        },
        {
         "name": "area",
         "rawType": "object",
         "type": "string"
        },
        {
         "name": "KMeans_Cluster",
         "rawType": "int32",
         "type": "integer"
        },
        {
         "name": "Hierarchical_Cluster",
         "rawType": "int64",
         "type": "integer"
        },
        {
         "name": "DBSCAN_Cluster",
         "rawType": "int64",
         "type": "integer"
        }
       ],
       "conversionMethod": "pd.DataFrame",
       "ref": "37b5b564-9e06-410e-9534-7835ef301941",
       "rows": [
        [
         "7",
         "3798",
         "951088948",
         "0.0",
         "15.0",
         "66.94410167510543",
         "APN",
         "3",
         "12",
         "0"
        ],
        [
         "11",
         "3798",
         "951089020",
         "0.0",
         "15.0",
         "64.9457702818187",
         "APN",
         "3",
         "12",
         "0"
        ],
        [
         "19",
         "3798",
         "951089195",
         "0.0",
         "15.0",
         "84.4295013663643",
         "NOT",
         "3",
         "12",
         "0"
        ],
        [
         "23",
         "3798",
         "951089488",
         "0.0",
         "15.0",
         "81.43200427643421",
         "NOT",
         "3",
         "12",
         "0"
        ],
        [
         "24",
         "3798",
         "951089538",
         "0.0",
         "15.0",
         "70.94076446167888",
         "NOT",
         "3",
         "12",
         "0"
        ],
        [
         "74",
         "3798",
         "951093080",
         "0.0",
         "15.0",
         "56.4528618603501",
         "VISam",
         "3",
         "12",
         "0"
        ],
        [
         "84",
         "3798",
         "951093608",
         "0.0",
         "15.0",
         "51.95661622545496",
         "VISam",
         "3",
         "12",
         "0"
        ],
        [
         "142",
         "3798",
         "951096171",
         "0.0",
         "15.0",
         "66.94410167510543",
         "DG",
         "3",
         "12",
         "0"
        ],
        [
         "163",
         "3798",
         "951097547",
         "0.0",
         "15.0",
         "75.93659294489571",
         "VISam",
         "3",
         "12",
         "0"
        ],
        [
         "198",
         "3798",
         "951098928",
         "0.0",
         "15.0",
         "52.95578192209832",
         "VISam",
         "3",
         "12",
         "0"
        ],
        [
         "249",
         "3798",
         "951101983",
         "0.0",
         "15.0",
         "138.384448985106",
         "SUB",
         "3",
         "12",
         "0"
        ],
        [
         "285",
         "3798",
         "951103332",
         "0.0",
         "15.0",
         "69.94159876503552",
         "VISp",
         "3",
         "12",
         "0"
        ],
        [
         "297",
         "3798",
         "951103632",
         "0.0",
         "15.0",
         "71.93993015832224",
         "VISp",
         "3",
         "12",
         "0"
        ],
        [
         "314",
         "3798",
         "951104192",
         "0.0",
         "15.0",
         "65.94493597846206",
         "VISp",
         "3",
         "12",
         "0"
        ],
        [
         "348",
         "3798",
         "951106725",
         "0.0",
         "15.0",
         "83.43033566972095",
         "CA1",
         "3",
         "12",
         "0"
        ],
        [
         "363",
         "3798",
         "951107474",
         "0.0",
         "15.0",
         "54.45453046706337",
         "CA1",
         "3",
         "12",
         "0"
        ],
        [
         "391",
         "3798",
         "951108911",
         "0.0",
         "15.0",
         "63.44702173685365",
         "VISl",
         "3",
         "12",
         "0"
        ],
        [
         "406",
         "3798",
         "951109282",
         "0.0",
         "15.0",
         "54.45453046706337",
         "VISl",
         "3",
         "12",
         "0"
        ],
        [
         "410",
         "3798",
         "951109319",
         "0.0",
         "15.0",
         "69.44201591671384",
         "VISl",
         "3",
         "12",
         "0"
        ],
        [
         "423",
         "3798",
         "951109594",
         "0.0",
         "15.0",
         "81.9315871247559",
         "VISl",
         "3",
         "12",
         "0"
        ],
        [
         "438",
         "3798",
         "951110547",
         "0.0",
         "15.0",
         "57.951610405315144",
         "LGv",
         "3",
         "12",
         "0"
        ],
        [
         "439",
         "3798",
         "951110604",
         "0.0",
         "15.0",
         "90.92407839454617",
         "LGv",
         "3",
         "12",
         "0"
        ],
        [
         "442",
         "3798",
         "951110620",
         "0.0",
         "15.0",
         "57.951610405315144",
         "LGv",
         "3",
         "12",
         "0"
        ],
        [
         "470",
         "3798",
         "951111734",
         "0.0",
         "15.0",
         "64.44618743349702",
         "CA1",
         "3",
         "12",
         "0"
        ],
        [
         "501",
         "3798",
         "951112712",
         "0.0",
         "15.0",
         "71.44034731000056",
         "VISal",
         "3",
         "12",
         "0"
        ],
        [
         "531",
         "3798",
         "951113271",
         "0.0",
         "15.0",
         "117.90155220391702",
         "VISal",
         "3",
         "12",
         "0"
        ],
        [
         "553",
         "3798",
         "951114520",
         "0.0",
         "15.0",
         "63.94660458517533",
         "APN",
         "3",
         "12",
         "0"
        ],
        [
         "556",
         "3798",
         "951114629",
         "0.0",
         "15.0",
         "86.42783275965104",
         "Eth",
         "3",
         "12",
         "0"
        ],
        [
         "595",
         "3798",
         "951116003",
         "0.0",
         "15.0",
         "78.9340900348258",
         "CA1",
         "3",
         "12",
         "0"
        ],
        [
         "606",
         "3798",
         "951116440",
         "0.0",
         "15.0",
         "56.4528618603501",
         "CA1",
         "3",
         "12",
         "0"
        ],
        [
         "607",
         "3798",
         "951116459",
         "0.0",
         "15.0",
         "66.44451882678375",
         "CA1",
         "3",
         "12",
         "0"
        ],
        [
         "659",
         "3799",
         "951088948",
         "180.0",
         "2.0",
         "68.94208864553505",
         "APN",
         "7",
         "16",
         "1"
        ],
        [
         "661",
         "3799",
         "951088968",
         "180.0",
         "2.0",
         "51.45677630789935",
         "APN",
         "7",
         "16",
         "1"
        ],
        [
         "663",
         "3799",
         "951089020",
         "180.0",
         "2.0",
         "63.94628512049627",
         "APN",
         "7",
         "16",
         "1"
        ],
        [
         "669",
         "3799",
         "951089174",
         "180.0",
         "2.0",
         "74.93705287558157",
         "MB",
         "7",
         "16",
         "1"
        ],
        [
         "671",
         "3799",
         "951089195",
         "180.0",
         "2.0",
         "54.95383877542648",
         "NOT",
         "7",
         "16",
         "1"
        ],
        [
         "676",
         "3799",
         "951089488",
         "180.0",
         "2.0",
         "71.93957076055831",
         "NOT",
         "7",
         "16",
         "1"
        ],
        [
         "678",
         "3799",
         "951089538",
         "180.0",
         "2.0",
         "89.92446345069789",
         "NOT",
         "7",
         "16",
         "1"
        ],
        [
         "796",
         "3799",
         "951096171",
         "180.0",
         "2.0",
         "71.43999040805443",
         "DG",
         "7",
         "16",
         "1"
        ],
        [
         "816",
         "3799",
         "951097547",
         "180.0",
         "2.0",
         "57.95132089044975",
         "VISam",
         "7",
         "16",
         "1"
        ],
        [
         "907",
         "3799",
         "951101983",
         "180.0",
         "2.0",
         "70.44082970304667",
         "SUB",
         "7",
         "16",
         "1"
        ],
        [
         "944",
         "3799",
         "951103332",
         "180.0",
         "2.0",
         "72.93873146556606",
         "VISp",
         "7",
         "16",
         "1"
        ],
        [
         "1018",
         "3799",
         "951106725",
         "180.0",
         "2.0",
         "75.43663322808544",
         "CA1",
         "7",
         "16",
         "1"
        ],
        [
         "1031",
         "3799",
         "951107474",
         "180.0",
         "2.0",
         "52.95551736541098",
         "CA1",
         "7",
         "16",
         "1"
        ],
        [
         "1055",
         "3799",
         "951108911",
         "180.0",
         "2.0",
         "52.95551736541098",
         "VISl",
         "7",
         "16",
         "1"
        ],
        [
         "1106",
         "3799",
         "951110547",
         "180.0",
         "2.0",
         "56.95216018544199",
         "LGv",
         "7",
         "16",
         "1"
        ],
        [
         "1107",
         "3799",
         "951110604",
         "180.0",
         "2.0",
         "103.41313296830256",
         "LGv",
         "7",
         "16",
         "1"
        ],
        [
         "1109",
         "3799",
         "951110614",
         "180.0",
         "2.0",
         "88.92530274569013",
         "LGv",
         "7",
         "16",
         "1"
        ],
        [
         "1110",
         "3799",
         "951110620",
         "180.0",
         "2.0",
         "76.93537428559708",
         "LGv",
         "7",
         "16",
         "1"
        ],
        [
         "1113",
         "3799",
         "951110675",
         "180.0",
         "2.0",
         "53.45509771791485",
         "LGv",
         "7",
         "16",
         "1"
        ]
       ],
       "shape": {
        "columns": 9,
        "rows": 5370
       }
      },
      "text/html": [
       "<div>\n",
       "<style scoped>\n",
       "    .dataframe tbody tr th:only-of-type {\n",
       "        vertical-align: middle;\n",
       "    }\n",
       "\n",
       "    .dataframe tbody tr th {\n",
       "        vertical-align: top;\n",
       "    }\n",
       "\n",
       "    .dataframe thead th {\n",
       "        text-align: right;\n",
       "    }\n",
       "</style>\n",
       "<table border=\"1\" class=\"dataframe\">\n",
       "  <thead>\n",
       "    <tr style=\"text-align: right;\">\n",
       "      <th></th>\n",
       "      <th>stimulus_presentation_id</th>\n",
       "      <th>unit_id</th>\n",
       "      <th>orientation</th>\n",
       "      <th>temporal_frequency</th>\n",
       "      <th>spikes_per_second</th>\n",
       "      <th>area</th>\n",
       "      <th>KMeans_Cluster</th>\n",
       "      <th>Hierarchical_Cluster</th>\n",
       "      <th>DBSCAN_Cluster</th>\n",
       "    </tr>\n",
       "  </thead>\n",
       "  <tbody>\n",
       "    <tr>\n",
       "      <th>7</th>\n",
       "      <td>3798</td>\n",
       "      <td>951088948</td>\n",
       "      <td>0.0</td>\n",
       "      <td>15.0</td>\n",
       "      <td>66.944102</td>\n",
       "      <td>APN</td>\n",
       "      <td>3</td>\n",
       "      <td>12</td>\n",
       "      <td>0</td>\n",
       "    </tr>\n",
       "    <tr>\n",
       "      <th>11</th>\n",
       "      <td>3798</td>\n",
       "      <td>951089020</td>\n",
       "      <td>0.0</td>\n",
       "      <td>15.0</td>\n",
       "      <td>64.945770</td>\n",
       "      <td>APN</td>\n",
       "      <td>3</td>\n",
       "      <td>12</td>\n",
       "      <td>0</td>\n",
       "    </tr>\n",
       "    <tr>\n",
       "      <th>19</th>\n",
       "      <td>3798</td>\n",
       "      <td>951089195</td>\n",
       "      <td>0.0</td>\n",
       "      <td>15.0</td>\n",
       "      <td>84.429501</td>\n",
       "      <td>NOT</td>\n",
       "      <td>3</td>\n",
       "      <td>12</td>\n",
       "      <td>0</td>\n",
       "    </tr>\n",
       "    <tr>\n",
       "      <th>23</th>\n",
       "      <td>3798</td>\n",
       "      <td>951089488</td>\n",
       "      <td>0.0</td>\n",
       "      <td>15.0</td>\n",
       "      <td>81.432004</td>\n",
       "      <td>NOT</td>\n",
       "      <td>3</td>\n",
       "      <td>12</td>\n",
       "      <td>0</td>\n",
       "    </tr>\n",
       "    <tr>\n",
       "      <th>24</th>\n",
       "      <td>3798</td>\n",
       "      <td>951089538</td>\n",
       "      <td>0.0</td>\n",
       "      <td>15.0</td>\n",
       "      <td>70.940764</td>\n",
       "      <td>NOT</td>\n",
       "      <td>3</td>\n",
       "      <td>12</td>\n",
       "      <td>0</td>\n",
       "    </tr>\n",
       "    <tr>\n",
       "      <th>...</th>\n",
       "      <td>...</td>\n",
       "      <td>...</td>\n",
       "      <td>...</td>\n",
       "      <td>...</td>\n",
       "      <td>...</td>\n",
       "      <td>...</td>\n",
       "      <td>...</td>\n",
       "      <td>...</td>\n",
       "      <td>...</td>\n",
       "    </tr>\n",
       "    <tr>\n",
       "      <th>396537</th>\n",
       "      <td>49432</td>\n",
       "      <td>951107266</td>\n",
       "      <td>180.0</td>\n",
       "      <td>1.0</td>\n",
       "      <td>64.445865</td>\n",
       "      <td>CA1</td>\n",
       "      <td>7</td>\n",
       "      <td>16</td>\n",
       "      <td>1</td>\n",
       "    </tr>\n",
       "    <tr>\n",
       "      <th>396546</th>\n",
       "      <td>49432</td>\n",
       "      <td>951108120</td>\n",
       "      <td>180.0</td>\n",
       "      <td>1.0</td>\n",
       "      <td>72.938731</td>\n",
       "      <td>CA1</td>\n",
       "      <td>7</td>\n",
       "      <td>16</td>\n",
       "      <td>1</td>\n",
       "    </tr>\n",
       "    <tr>\n",
       "      <th>396614</th>\n",
       "      <td>49432</td>\n",
       "      <td>951110614</td>\n",
       "      <td>180.0</td>\n",
       "      <td>1.0</td>\n",
       "      <td>66.444187</td>\n",
       "      <td>LGv</td>\n",
       "      <td>7</td>\n",
       "      <td>16</td>\n",
       "      <td>1</td>\n",
       "    </tr>\n",
       "    <tr>\n",
       "      <th>396615</th>\n",
       "      <td>49432</td>\n",
       "      <td>951110620</td>\n",
       "      <td>180.0</td>\n",
       "      <td>1.0</td>\n",
       "      <td>55.453419</td>\n",
       "      <td>LGv</td>\n",
       "      <td>7</td>\n",
       "      <td>16</td>\n",
       "      <td>1</td>\n",
       "    </tr>\n",
       "    <tr>\n",
       "      <th>396726</th>\n",
       "      <td>49432</td>\n",
       "      <td>951114629</td>\n",
       "      <td>180.0</td>\n",
       "      <td>1.0</td>\n",
       "      <td>63.946285</td>\n",
       "      <td>Eth</td>\n",
       "      <td>7</td>\n",
       "      <td>16</td>\n",
       "      <td>1</td>\n",
       "    </tr>\n",
       "  </tbody>\n",
       "</table>\n",
       "<p>5370 rows × 9 columns</p>\n",
       "</div>"
      ],
      "text/plain": [
       "        stimulus_presentation_id    unit_id  orientation  temporal_frequency  \\\n",
       "7                           3798  951088948          0.0                15.0   \n",
       "11                          3798  951089020          0.0                15.0   \n",
       "19                          3798  951089195          0.0                15.0   \n",
       "23                          3798  951089488          0.0                15.0   \n",
       "24                          3798  951089538          0.0                15.0   \n",
       "...                          ...        ...          ...                 ...   \n",
       "396537                     49432  951107266        180.0                 1.0   \n",
       "396546                     49432  951108120        180.0                 1.0   \n",
       "396614                     49432  951110614        180.0                 1.0   \n",
       "396615                     49432  951110620        180.0                 1.0   \n",
       "396726                     49432  951114629        180.0                 1.0   \n",
       "\n",
       "        spikes_per_second area  KMeans_Cluster  Hierarchical_Cluster  \\\n",
       "7               66.944102  APN               3                    12   \n",
       "11              64.945770  APN               3                    12   \n",
       "19              84.429501  NOT               3                    12   \n",
       "23              81.432004  NOT               3                    12   \n",
       "24              70.940764  NOT               3                    12   \n",
       "...                   ...  ...             ...                   ...   \n",
       "396537          64.445865  CA1               7                    16   \n",
       "396546          72.938731  CA1               7                    16   \n",
       "396614          66.444187  LGv               7                    16   \n",
       "396615          55.453419  LGv               7                    16   \n",
       "396726          63.946285  Eth               7                    16   \n",
       "\n",
       "        DBSCAN_Cluster  \n",
       "7                    0  \n",
       "11                   0  \n",
       "19                   0  \n",
       "23                   0  \n",
       "24                   0  \n",
       "...                ...  \n",
       "396537               1  \n",
       "396546               1  \n",
       "396614               1  \n",
       "396615               1  \n",
       "396726               1  \n",
       "\n",
       "[5370 rows x 9 columns]"
      ]
     },
     "execution_count": 18,
     "metadata": {},
     "output_type": "execute_result"
    }
   ],
   "source": [
    "dataset"
   ]
  },
  {
   "cell_type": "code",
   "execution_count": null,
   "metadata": {},
   "outputs": [
    {
     "data": {
      "image/png": "[encoded data removed]",
      "text/plain": [
       "<Figure size 1500x800 with 2 Axes>"
      ]
     },
     "metadata": {},
     "output_type": "display_data"
    }
   ],
   "source": [
    "# Group by orientation and calculate the average spikes_per_second for each area\n",
    "grouped_orientation = dataset.groupby(['orientation', 'area'])['spikes_per_second'].mean().reset_index()\n",
    "\n",
    "# Pivot the data for easier visualization\n",
    "pivot_orientation = grouped_orientation.pivot_table(index='orientation', columns='area', values='spikes_per_second', fill_value=0)\n",
    "\n",
    "# Plot the heatmap for orientation\n",
    "plt.figure(figsize=(15, 8))\n",
    "sns.heatmap(pivot_orientation, cmap='viridis', annot=False, cbar_kws={'label': 'Average Spikes per Second'})\n",
    "plt.title('Most Active Brain Areas by Orientation')\n",
    "plt.xlabel('Brain Area')\n",
    "plt.ylabel('Orientation')\n",
    "plt.tight_layout()\n",
    "plt.show()"
   ]
  },
  {
   "cell_type": "code",
   "execution_count": 21,
   "metadata": {},
   "outputs": [
    {
     "data": {
      "image/png": "[encoded data removed]",
      "text/plain": [
       "<Figure size 1500x800 with 2 Axes>"
      ]
     },
     "metadata": {},
     "output_type": "display_data"
    }
   ],
   "source": [
    "# Group by temporal_frequency and calculate the average spikes_per_second for each area\n",
    "grouped_frequency = dataset.groupby(['temporal_frequency', 'area'])['spikes_per_second'].mean().reset_index()\n",
    "\n",
    "# Pivot the data for easier visualization\n",
    "pivot_frequency = grouped_frequency.pivot_table(index='temporal_frequency', columns='area', values='spikes_per_second', fill_value=0)\n",
    "\n",
    "# Plot the heatmap for temporal frequency\n",
    "plt.figure(figsize=(15, 8))\n",
    "sns.heatmap(pivot_frequency, cmap='viridis', annot=False, cbar_kws={'label': 'Average Spikes per Second'})\n",
    "plt.title('Most Active Brain Areas by Temporal Frequency')\n",
    "plt.xlabel('Brain Area')\n",
    "plt.ylabel('Temporal Frequency')\n",
    "plt.tight_layout()\n",
    "plt.show()"
   ]
  },
  {
   "cell_type": "code",
   "execution_count": null,
   "metadata": {},
   "outputs": [],
   "source": []
  }
 ],
 "metadata": {
  "kernelspec": {
   "display_name": "envallen",
   "language": "python",
   "name": "python3"
  },
  "language_info": {
   "codemirror_mode": {
    "name": "ipython",
    "version": 3
   },
   "file_extension": ".py",
   "mimetype": "text/x-python",
   "name": "python",
   "nbconvert_exporter": "python",
   "pygments_lexer": "ipython3",
   "version": "3.11.11"
  }
 },
 "nbformat": 4,
 "nbformat_minor": 2
}
