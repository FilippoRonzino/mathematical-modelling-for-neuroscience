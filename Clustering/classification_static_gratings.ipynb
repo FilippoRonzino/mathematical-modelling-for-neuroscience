{
 "cells": [
  {
   "cell_type": "code",
   "execution_count": 1,
   "metadata": {},
   "outputs": [],
   "source": [
    "import os\n",
    "import numpy as np\n",
    "import pandas as pd\n",
    "import matplotlib.pyplot as plt\n",
    "import matplotlib\n",
    "import seaborn as sns\n",
    "from sklearn.ensemble import RandomForestRegressor\n",
    "from sklearn.model_selection import train_test_split\n",
    "from sklearn.metrics import mean_squared_error\n",
    "from sklearn.preprocessing import StandardScaler\n",
    "from sklearn.decomposition import PCA\n",
    "from sklearn.cluster import KMeans, AgglomerativeClustering, DBSCAN\n",
    "from sklearn.preprocessing import LabelEncoder\n",
    "import xgboost as xgb\n",
    "from sklearn.metrics import classification_report, accuracy_score, confusion_matrix, roc_auc_score"
   ]
  },
  {
   "cell_type": "code",
   "execution_count": 15,
   "metadata": {},
   "outputs": [
    {
     "data": {
      "application/vnd.microsoft.datawrangler.viewer.v0+json": {
       "columns": [
        {
         "name": "index",
         "rawType": "int64",
         "type": "integer"
        },
        {
         "name": "stimulus_presentation_id",
         "rawType": "int64",
         "type": "integer"
        },
        {
         "name": "unit_id",
         "rawType": "int64",
         "type": "integer"
        },
        {
         "name": "orientation",
         "rawType": "float64",
         "type": "float"
        },
        {
         "name": "spatial_frequency",
         "rawType": "float64",
         "type": "float"
        },
        {
         "name": "spikes_per_second",
         "rawType": "float64",
         "type": "float"
        },
        {
         "name": "area",
         "rawType": "object",
         "type": "string"
        }
       ],
       "conversionMethod": "pd.DataFrame",
       "ref": "01b91b15-6a3e-496d-adb5-f6b37a0ad569",
       "rows": [
        [
         "0",
         "49434",
         "951088664",
         "150.0",
         "0.02",
         "11.989964719874036",
         "APN"
        ],
        [
         "1",
         "49434",
         "951088679",
         "150.0",
         "0.02",
         "7.993309813249358",
         "APN"
        ],
        [
         "2",
         "49434",
         "951088721",
         "150.0",
         "0.02",
         "31.97323925299743",
         "APN"
        ],
        [
         "3",
         "49434",
         "951088823",
         "150.0",
         "0.02",
         "3.996654906624679",
         "APN"
        ],
        [
         "4",
         "49434",
         "951088862",
         "150.0",
         "0.02",
         "19.983274533123396",
         "APN"
        ],
        [
         "5",
         "49434",
         "951088948",
         "150.0",
         "0.02",
         "47.959858879496146",
         "APN"
        ],
        [
         "6",
         "49434",
         "951088968",
         "150.0",
         "0.02",
         "47.959858879496146",
         "APN"
        ],
        [
         "7",
         "49434",
         "951089004",
         "150.0",
         "0.02",
         "7.993309813249358",
         "APN"
        ],
        [
         "8",
         "49434",
         "951089020",
         "150.0",
         "0.02",
         "47.959858879496146",
         "APN"
        ],
        [
         "9",
         "49434",
         "951089071",
         "150.0",
         "0.02",
         "31.97323925299743",
         "APN"
        ],
        [
         "10",
         "49434",
         "951089083",
         "150.0",
         "0.02",
         "15.986619626498715",
         "APN"
        ],
        [
         "11",
         "49434",
         "951089142",
         "150.0",
         "0.02",
         "11.989964719874036",
         "APN"
        ],
        [
         "12",
         "49434",
         "951089164",
         "150.0",
         "0.02",
         "19.983274533123396",
         "APN"
        ],
        [
         "13",
         "49434",
         "951089174",
         "150.0",
         "0.02",
         "79.93309813249358",
         "MB"
        ],
        [
         "14",
         "49434",
         "951089195",
         "150.0",
         "0.02",
         "27.976584346372753",
         "NOT"
        ],
        [
         "15",
         "49434",
         "951089220",
         "150.0",
         "0.02",
         "19.983274533123396",
         "NOT"
        ],
        [
         "16",
         "49434",
         "951089270",
         "150.0",
         "0.02",
         "3.996654906624679",
         "NOT"
        ],
        [
         "17",
         "49434",
         "951089339",
         "150.0",
         "0.02",
         "11.989964719874036",
         "NOT"
        ],
        [
         "18",
         "49434",
         "951089429",
         "150.0",
         "0.02",
         "31.97323925299743",
         "NOT"
        ],
        [
         "19",
         "49434",
         "951089459",
         "150.0",
         "0.02",
         "27.976584346372753",
         "NOT"
        ],
        [
         "20",
         "49434",
         "951089488",
         "150.0",
         "0.02",
         "43.96320397287147",
         "NOT"
        ],
        [
         "21",
         "49434",
         "951089511",
         "150.0",
         "0.02",
         "19.983274533123396",
         "NOT"
        ],
        [
         "22",
         "49434",
         "951089538",
         "150.0",
         "0.02",
         "83.92975303911825",
         "NOT"
        ],
        [
         "23",
         "49434",
         "951089592",
         "150.0",
         "0.02",
         "23.979929439748073",
         "NOT"
        ],
        [
         "24",
         "49434",
         "951089614",
         "150.0",
         "0.02",
         "7.993309813249358",
         "NOT"
        ],
        [
         "25",
         "49434",
         "951089704",
         "150.0",
         "0.02",
         "7.993309813249358",
         "NOT"
        ],
        [
         "26",
         "49434",
         "951089789",
         "150.0",
         "0.02",
         "7.993309813249358",
         "NOT"
        ],
        [
         "27",
         "49434",
         "951089925",
         "150.0",
         "0.02",
         "15.986619626498715",
         "NOT"
        ],
        [
         "28",
         "49434",
         "951090214",
         "150.0",
         "0.02",
         "11.989964719874036",
         "DG"
        ],
        [
         "29",
         "49434",
         "951090343",
         "150.0",
         "0.02",
         "11.989964719874036",
         "CA1"
        ],
        [
         "30",
         "49434",
         "951090551",
         "150.0",
         "0.02",
         "15.986619626498715",
         "CA1"
        ],
        [
         "31",
         "49434",
         "951090729",
         "150.0",
         "0.02",
         "3.996654906624679",
         "CA1"
        ],
        [
         "32",
         "49434",
         "951090804",
         "150.0",
         "0.02",
         "3.996654906624679",
         "CA1"
        ],
        [
         "33",
         "49434",
         "951090982",
         "150.0",
         "0.02",
         "19.983274533123396",
         "CA1"
        ],
        [
         "34",
         "49434",
         "951091188",
         "150.0",
         "0.02",
         "11.989964719874036",
         "CA1"
        ],
        [
         "35",
         "49434",
         "951091287",
         "150.0",
         "0.02",
         "7.993309813249358",
         "CA1"
        ],
        [
         "36",
         "49434",
         "951091304",
         "150.0",
         "0.02",
         "15.986619626498715",
         "CA1"
        ],
        [
         "37",
         "49434",
         "951091412",
         "150.0",
         "0.02",
         "7.993309813249358",
         "CA1"
        ],
        [
         "38",
         "49434",
         "951091444",
         "150.0",
         "0.02",
         "11.989964719874036",
         "CA1"
        ],
        [
         "39",
         "49434",
         "951091475",
         "150.0",
         "0.02",
         "7.993309813249358",
         "CA1"
        ],
        [
         "40",
         "49434",
         "951091623",
         "150.0",
         "0.02",
         "3.996654906624679",
         "CA1"
        ],
        [
         "41",
         "49434",
         "951091758",
         "150.0",
         "0.02",
         "15.986619626498715",
         "CA1"
        ],
        [
         "42",
         "49434",
         "951091785",
         "150.0",
         "0.02",
         "15.986619626498715",
         "CA1"
        ],
        [
         "43",
         "49434",
         "951091890",
         "150.0",
         "0.02",
         "7.993309813249358",
         "CA1"
        ],
        [
         "44",
         "49434",
         "951091914",
         "150.0",
         "0.02",
         "7.993309813249358",
         "CA1"
        ],
        [
         "45",
         "49434",
         "951091929",
         "150.0",
         "0.02",
         "3.996654906624679",
         "CA1"
        ],
        [
         "46",
         "49434",
         "951092050",
         "150.0",
         "0.02",
         "11.989964719874036",
         "VISam"
        ],
        [
         "47",
         "49434",
         "951092075",
         "150.0",
         "0.02",
         "7.993309813249358",
         "VISam"
        ],
        [
         "48",
         "49434",
         "951092303",
         "150.0",
         "0.02",
         "15.986619626498715",
         "VISam"
        ],
        [
         "49",
         "49434",
         "951092369",
         "150.0",
         "0.02",
         "39.96654906624679",
         "VISam"
        ]
       ],
       "shape": {
        "columns": 6,
        "rows": 2577804
       }
      },
      "text/html": [
       "<div>\n",
       "<style scoped>\n",
       "    .dataframe tbody tr th:only-of-type {\n",
       "        vertical-align: middle;\n",
       "    }\n",
       "\n",
       "    .dataframe tbody tr th {\n",
       "        vertical-align: top;\n",
       "    }\n",
       "\n",
       "    .dataframe thead th {\n",
       "        text-align: right;\n",
       "    }\n",
       "</style>\n",
       "<table border=\"1\" class=\"dataframe\">\n",
       "  <thead>\n",
       "    <tr style=\"text-align: right;\">\n",
       "      <th></th>\n",
       "      <th>stimulus_presentation_id</th>\n",
       "      <th>unit_id</th>\n",
       "      <th>orientation</th>\n",
       "      <th>spatial_frequency</th>\n",
       "      <th>spikes_per_second</th>\n",
       "      <th>area</th>\n",
       "    </tr>\n",
       "  </thead>\n",
       "  <tbody>\n",
       "    <tr>\n",
       "      <th>0</th>\n",
       "      <td>49434</td>\n",
       "      <td>951088664</td>\n",
       "      <td>150.0</td>\n",
       "      <td>0.02</td>\n",
       "      <td>11.989965</td>\n",
       "      <td>APN</td>\n",
       "    </tr>\n",
       "    <tr>\n",
       "      <th>1</th>\n",
       "      <td>49434</td>\n",
       "      <td>951088679</td>\n",
       "      <td>150.0</td>\n",
       "      <td>0.02</td>\n",
       "      <td>7.993310</td>\n",
       "      <td>APN</td>\n",
       "    </tr>\n",
       "    <tr>\n",
       "      <th>2</th>\n",
       "      <td>49434</td>\n",
       "      <td>951088721</td>\n",
       "      <td>150.0</td>\n",
       "      <td>0.02</td>\n",
       "      <td>31.973239</td>\n",
       "      <td>APN</td>\n",
       "    </tr>\n",
       "    <tr>\n",
       "      <th>3</th>\n",
       "      <td>49434</td>\n",
       "      <td>951088823</td>\n",
       "      <td>150.0</td>\n",
       "      <td>0.02</td>\n",
       "      <td>3.996655</td>\n",
       "      <td>APN</td>\n",
       "    </tr>\n",
       "    <tr>\n",
       "      <th>4</th>\n",
       "      <td>49434</td>\n",
       "      <td>951088862</td>\n",
       "      <td>150.0</td>\n",
       "      <td>0.02</td>\n",
       "      <td>19.983275</td>\n",
       "      <td>APN</td>\n",
       "    </tr>\n",
       "    <tr>\n",
       "      <th>...</th>\n",
       "      <td>...</td>\n",
       "      <td>...</td>\n",
       "      <td>...</td>\n",
       "      <td>...</td>\n",
       "      <td>...</td>\n",
       "      <td>...</td>\n",
       "    </tr>\n",
       "    <tr>\n",
       "      <th>2660769</th>\n",
       "      <td>70389</td>\n",
       "      <td>951117252</td>\n",
       "      <td>0.0</td>\n",
       "      <td>0.16</td>\n",
       "      <td>3.996591</td>\n",
       "      <td>LP</td>\n",
       "    </tr>\n",
       "    <tr>\n",
       "      <th>2660770</th>\n",
       "      <td>70389</td>\n",
       "      <td>951117258</td>\n",
       "      <td>0.0</td>\n",
       "      <td>0.16</td>\n",
       "      <td>15.986363</td>\n",
       "      <td>LP</td>\n",
       "    </tr>\n",
       "    <tr>\n",
       "      <th>2660771</th>\n",
       "      <td>70389</td>\n",
       "      <td>951117264</td>\n",
       "      <td>0.0</td>\n",
       "      <td>0.16</td>\n",
       "      <td>7.993182</td>\n",
       "      <td>LP</td>\n",
       "    </tr>\n",
       "    <tr>\n",
       "      <th>2660772</th>\n",
       "      <td>70389</td>\n",
       "      <td>951117365</td>\n",
       "      <td>0.0</td>\n",
       "      <td>0.16</td>\n",
       "      <td>3.996591</td>\n",
       "      <td>CA1</td>\n",
       "    </tr>\n",
       "    <tr>\n",
       "      <th>2660773</th>\n",
       "      <td>70389</td>\n",
       "      <td>951117389</td>\n",
       "      <td>0.0</td>\n",
       "      <td>0.16</td>\n",
       "      <td>3.996591</td>\n",
       "      <td>VISrl</td>\n",
       "    </tr>\n",
       "  </tbody>\n",
       "</table>\n",
       "<p>2577804 rows × 6 columns</p>\n",
       "</div>"
      ],
      "text/plain": [
       "         stimulus_presentation_id    unit_id  orientation  spatial_frequency  \\\n",
       "0                           49434  951088664        150.0               0.02   \n",
       "1                           49434  951088679        150.0               0.02   \n",
       "2                           49434  951088721        150.0               0.02   \n",
       "3                           49434  951088823        150.0               0.02   \n",
       "4                           49434  951088862        150.0               0.02   \n",
       "...                           ...        ...          ...                ...   \n",
       "2660769                     70389  951117252          0.0               0.16   \n",
       "2660770                     70389  951117258          0.0               0.16   \n",
       "2660771                     70389  951117264          0.0               0.16   \n",
       "2660772                     70389  951117365          0.0               0.16   \n",
       "2660773                     70389  951117389          0.0               0.16   \n",
       "\n",
       "         spikes_per_second   area  \n",
       "0                11.989965    APN  \n",
       "1                 7.993310    APN  \n",
       "2                31.973239    APN  \n",
       "3                 3.996655    APN  \n",
       "4                19.983275    APN  \n",
       "...                    ...    ...  \n",
       "2660769           3.996591     LP  \n",
       "2660770          15.986363     LP  \n",
       "2660771           7.993182     LP  \n",
       "2660772           3.996591    CA1  \n",
       "2660773           3.996591  VISrl  \n",
       "\n",
       "[2577804 rows x 6 columns]"
      ]
     },
     "execution_count": 15,
     "metadata": {},
     "output_type": "execute_result"
    }
   ],
   "source": [
    "# import the data\n",
    "dataset = pd.read_parquet('../ourdata/static_dataset_session_798911424.parquet')\n",
    "dataset"
   ]
  },
  {
   "cell_type": "markdown",
   "metadata": {},
   "source": [
    "We now take a look at the areas of the brain in our dataset:"
   ]
  },
  {
   "cell_type": "code",
   "execution_count": 16,
   "metadata": {},
   "outputs": [
    {
     "data": {
      "text/plain": [
       "array(['APN', 'MB', 'NOT', 'DG', 'CA1', 'VISam', 'LP', 'ProS', 'SUB',\n",
       "       'VISp', 'CA3', 'VISl', 'LGv', 'CA2', 'VISal', 'TH', 'Eth', 'VISrl'],\n",
       "      dtype=object)"
      ]
     },
     "execution_count": 16,
     "metadata": {},
     "output_type": "execute_result"
    }
   ],
   "source": [
    "# see the different areas of the brain in our dataset\n",
    "dataset['area'].unique()"
   ]
  },
  {
   "cell_type": "code",
   "execution_count": 4,
   "metadata": {},
   "outputs": [],
   "source": [
    "n_classes = len(dataset['area'].unique())"
   ]
  },
  {
   "cell_type": "code",
   "execution_count": 5,
   "metadata": {},
   "outputs": [],
   "source": [
    "# dataset['area'] = dataset['area'].apply(lambda x: \n",
    "#     'Visual' if x in ['VISp', 'VISal', 'VISmma', 'VISrl', 'VISam', 'VISl'] else \n",
    "#     'Hippocampus' if x in ['CA1', 'CA2', 'CA3', 'DG', 'SUB', 'ProS'] else \n",
    "#     'Thalamus' if x in ['LP', 'LGd', 'POL', 'APN'] else \n",
    "#     'Other') "
   ]
  },
  {
   "cell_type": "code",
   "execution_count": 17,
   "metadata": {},
   "outputs": [
    {
     "name": "stdout",
     "output_type": "stream",
     "text": [
      "2577804\n"
     ]
    }
   ],
   "source": [
    "# we drop the rows with nans\n",
    "dataset = dataset.dropna()\n",
    "print(dataset.shape[0])"
   ]
  },
  {
   "cell_type": "code",
   "execution_count": 18,
   "metadata": {},
   "outputs": [
    {
     "data": {
      "application/vnd.microsoft.datawrangler.viewer.v0+json": {
       "columns": [
        {
         "name": "index",
         "rawType": "int64",
         "type": "integer"
        },
        {
         "name": "stimulus_presentation_id",
         "rawType": "int64",
         "type": "integer"
        },
        {
         "name": "unit_id",
         "rawType": "int64",
         "type": "integer"
        },
        {
         "name": "orientation",
         "rawType": "float64",
         "type": "float"
        },
        {
         "name": "spatial_frequency",
         "rawType": "float64",
         "type": "float"
        },
        {
         "name": "spikes_per_second",
         "rawType": "float64",
         "type": "float"
        },
        {
         "name": "area",
         "rawType": "object",
         "type": "string"
        }
       ],
       "conversionMethod": "pd.DataFrame",
       "ref": "b4382330-35db-4d9a-bc89-f1cb86878084",
       "rows": [
        [
         "13",
         "49434",
         "951089174",
         "150.0",
         "0.02",
         "79.93309813249358",
         "MB"
        ],
        [
         "22",
         "49434",
         "951089538",
         "150.0",
         "0.02",
         "83.92975303911825",
         "NOT"
        ],
        [
         "72",
         "49434",
         "951093608",
         "150.0",
         "0.02",
         "55.95316869274551",
         "VISam"
        ],
        [
         "103",
         "49434",
         "951096171",
         "150.0",
         "0.02",
         "55.95316869274551",
         "DG"
        ],
        [
         "182",
         "49434",
         "951101983",
         "150.0",
         "0.02",
         "107.90968247886633",
         "SUB"
        ],
        [
         "208",
         "49434",
         "951103332",
         "150.0",
         "0.02",
         "91.92306285236762",
         "VISp"
        ],
        [
         "216",
         "49434",
         "951103632",
         "150.0",
         "0.02",
         "79.93309813249358",
         "VISp"
        ],
        [
         "251",
         "49434",
         "951106476",
         "150.0",
         "0.02",
         "55.95316869274551",
         "CA1"
        ],
        [
         "262",
         "49434",
         "951107266",
         "150.0",
         "0.02",
         "51.95651378612083",
         "CA1"
        ],
        [
         "268",
         "49434",
         "951108120",
         "150.0",
         "0.02",
         "63.94647850599486",
         "CA1"
        ],
        [
         "308",
         "49434",
         "951109435",
         "150.0",
         "0.02",
         "99.91637266561698",
         "VISl"
        ],
        [
         "322",
         "49434",
         "951110614",
         "150.0",
         "0.02",
         "67.94313341261955",
         "LGv"
        ],
        [
         "391",
         "49434",
         "951113271",
         "150.0",
         "0.02",
         "51.95651378612083",
         "VISal"
        ],
        [
         "397",
         "49434",
         "951113514",
         "150.0",
         "0.02",
         "59.949823599370184",
         "VISal"
        ],
        [
         "399",
         "49434",
         "951113717",
         "150.0",
         "0.02",
         "51.95651378612083",
         "VISal"
        ],
        [
         "408",
         "49434",
         "951114629",
         "150.0",
         "0.02",
         "63.94647850599486",
         "Eth"
        ],
        [
         "412",
         "49434",
         "951114745",
         "150.0",
         "0.02",
         "55.95316869274551",
         "LP"
        ],
        [
         "430",
         "49434",
         "951115497",
         "150.0",
         "0.02",
         "63.94647850599486",
         "LP"
        ],
        [
         "477",
         "49435",
         "951088948",
         "0.0",
         "0.16",
         "51.95651378612083",
         "APN"
        ],
        [
         "480",
         "49435",
         "951089020",
         "0.0",
         "0.16",
         "63.94647850599486",
         "APN"
        ],
        [
         "485",
         "49435",
         "951089174",
         "0.0",
         "0.16",
         "139.88292173186377",
         "MB"
        ],
        [
         "487",
         "49435",
         "951089220",
         "0.0",
         "0.16",
         "63.94647850599486",
         "NOT"
        ],
        [
         "493",
         "49435",
         "951089538",
         "0.0",
         "0.16",
         "123.89630210536505",
         "NOT"
        ],
        [
         "517",
         "49435",
         "951092437",
         "0.0",
         "0.16",
         "87.92640794574294",
         "VISam"
        ],
        [
         "533",
         "49435",
         "951093283",
         "0.0",
         "0.16",
         "83.92975303911825",
         "VISam"
        ],
        [
         "537",
         "49435",
         "951093608",
         "0.0",
         "0.16",
         "55.95316869274551",
         "VISam"
        ],
        [
         "542",
         "49435",
         "951093821",
         "0.0",
         "0.16",
         "59.949823599370184",
         "VISam"
        ],
        [
         "569",
         "49435",
         "951096171",
         "0.0",
         "0.16",
         "59.949823599370184",
         "DG"
        ],
        [
         "582",
         "49435",
         "951097547",
         "0.0",
         "0.16",
         "51.95651378612083",
         "VISam"
        ],
        [
         "610",
         "49435",
         "951098928",
         "0.0",
         "0.16",
         "55.95316869274551",
         "VISam"
        ],
        [
         "650",
         "49435",
         "951101983",
         "0.0",
         "0.16",
         "99.91637266561698",
         "SUB"
        ],
        [
         "663",
         "49435",
         "951102834",
         "0.0",
         "0.16",
         "71.93978831924422",
         "VISp"
        ],
        [
         "674",
         "49435",
         "951103332",
         "0.0",
         "0.16",
         "119.89964719874037",
         "VISp"
        ],
        [
         "683",
         "49435",
         "951103632",
         "0.0",
         "0.16",
         "91.92306285236762",
         "VISp"
        ],
        [
         "695",
         "49435",
         "951103958",
         "0.0",
         "0.16",
         "59.949823599370184",
         "VISp"
        ],
        [
         "736",
         "49435",
         "951107266",
         "0.0",
         "0.16",
         "55.95316869274551",
         "CA1"
        ],
        [
         "742",
         "49435",
         "951108120",
         "0.0",
         "0.16",
         "51.95651378612083",
         "CA1"
        ],
        [
         "758",
         "49435",
         "951108911",
         "0.0",
         "0.16",
         "55.95316869274551",
         "VISl"
        ],
        [
         "774",
         "49435",
         "951109319",
         "0.0",
         "0.16",
         "63.94647850599486",
         "VISl"
        ],
        [
         "779",
         "49435",
         "951109435",
         "0.0",
         "0.16",
         "51.95651378612083",
         "VISl"
        ],
        [
         "800",
         "49435",
         "951110661",
         "0.0",
         "0.16",
         "59.949823599370184",
         "LGv"
        ],
        [
         "801",
         "49435",
         "951110675",
         "0.0",
         "0.16",
         "51.95651378612083",
         "LGv"
        ],
        [
         "864",
         "49435",
         "951113271",
         "0.0",
         "0.16",
         "59.949823599370184",
         "VISal"
        ],
        [
         "951",
         "49435",
         "951117127",
         "0.0",
         "0.16",
         "59.949823599370184",
         "VISrl"
        ],
        [
         "959",
         "49436",
         "951088948",
         "30.0",
         "0.04",
         "59.94982359893436",
         "APN"
        ],
        [
         "968",
         "49436",
         "951089174",
         "30.0",
         "0.04",
         "91.92306285169934",
         "MB"
        ],
        [
         "970",
         "49436",
         "951089220",
         "30.0",
         "0.04",
         "51.95651378574311",
         "NOT"
        ],
        [
         "976",
         "49436",
         "951089538",
         "30.0",
         "0.04",
         "99.9163726648906",
         "NOT"
        ],
        [
         "1005",
         "49436",
         "951092594",
         "30.0",
         "0.04",
         "51.95651378574311",
         "VISam"
        ],
        [
         "1019",
         "49436",
         "951093283",
         "30.0",
         "0.04",
         "67.9431334121256",
         "VISam"
        ]
       ],
       "shape": {
        "columns": 6,
        "rows": 76297
       }
      },
      "text/html": [
       "<div>\n",
       "<style scoped>\n",
       "    .dataframe tbody tr th:only-of-type {\n",
       "        vertical-align: middle;\n",
       "    }\n",
       "\n",
       "    .dataframe tbody tr th {\n",
       "        vertical-align: top;\n",
       "    }\n",
       "\n",
       "    .dataframe thead th {\n",
       "        text-align: right;\n",
       "    }\n",
       "</style>\n",
       "<table border=\"1\" class=\"dataframe\">\n",
       "  <thead>\n",
       "    <tr style=\"text-align: right;\">\n",
       "      <th></th>\n",
       "      <th>stimulus_presentation_id</th>\n",
       "      <th>unit_id</th>\n",
       "      <th>orientation</th>\n",
       "      <th>spatial_frequency</th>\n",
       "      <th>spikes_per_second</th>\n",
       "      <th>area</th>\n",
       "    </tr>\n",
       "  </thead>\n",
       "  <tbody>\n",
       "    <tr>\n",
       "      <th>13</th>\n",
       "      <td>49434</td>\n",
       "      <td>951089174</td>\n",
       "      <td>150.0</td>\n",
       "      <td>0.02</td>\n",
       "      <td>79.933098</td>\n",
       "      <td>MB</td>\n",
       "    </tr>\n",
       "    <tr>\n",
       "      <th>22</th>\n",
       "      <td>49434</td>\n",
       "      <td>951089538</td>\n",
       "      <td>150.0</td>\n",
       "      <td>0.02</td>\n",
       "      <td>83.929753</td>\n",
       "      <td>NOT</td>\n",
       "    </tr>\n",
       "    <tr>\n",
       "      <th>72</th>\n",
       "      <td>49434</td>\n",
       "      <td>951093608</td>\n",
       "      <td>150.0</td>\n",
       "      <td>0.02</td>\n",
       "      <td>55.953169</td>\n",
       "      <td>VISam</td>\n",
       "    </tr>\n",
       "    <tr>\n",
       "      <th>103</th>\n",
       "      <td>49434</td>\n",
       "      <td>951096171</td>\n",
       "      <td>150.0</td>\n",
       "      <td>0.02</td>\n",
       "      <td>55.953169</td>\n",
       "      <td>DG</td>\n",
       "    </tr>\n",
       "    <tr>\n",
       "      <th>182</th>\n",
       "      <td>49434</td>\n",
       "      <td>951101983</td>\n",
       "      <td>150.0</td>\n",
       "      <td>0.02</td>\n",
       "      <td>107.909682</td>\n",
       "      <td>SUB</td>\n",
       "    </tr>\n",
       "    <tr>\n",
       "      <th>...</th>\n",
       "      <td>...</td>\n",
       "      <td>...</td>\n",
       "      <td>...</td>\n",
       "      <td>...</td>\n",
       "      <td>...</td>\n",
       "      <td>...</td>\n",
       "    </tr>\n",
       "    <tr>\n",
       "      <th>2660492</th>\n",
       "      <td>70389</td>\n",
       "      <td>951101525</td>\n",
       "      <td>0.0</td>\n",
       "      <td>0.16</td>\n",
       "      <td>59.948862</td>\n",
       "      <td>SUB</td>\n",
       "    </tr>\n",
       "    <tr>\n",
       "      <th>2660505</th>\n",
       "      <td>70389</td>\n",
       "      <td>951102034</td>\n",
       "      <td>0.0</td>\n",
       "      <td>0.16</td>\n",
       "      <td>51.955680</td>\n",
       "      <td>SUB</td>\n",
       "    </tr>\n",
       "    <tr>\n",
       "      <th>2660544</th>\n",
       "      <td>70389</td>\n",
       "      <td>951103632</td>\n",
       "      <td>0.0</td>\n",
       "      <td>0.16</td>\n",
       "      <td>51.955680</td>\n",
       "      <td>VISp</td>\n",
       "    </tr>\n",
       "    <tr>\n",
       "      <th>2660715</th>\n",
       "      <td>70389</td>\n",
       "      <td>951114629</td>\n",
       "      <td>0.0</td>\n",
       "      <td>0.16</td>\n",
       "      <td>63.945453</td>\n",
       "      <td>Eth</td>\n",
       "    </tr>\n",
       "    <tr>\n",
       "      <th>2660750</th>\n",
       "      <td>70389</td>\n",
       "      <td>951116459</td>\n",
       "      <td>0.0</td>\n",
       "      <td>0.16</td>\n",
       "      <td>87.924998</td>\n",
       "      <td>CA1</td>\n",
       "    </tr>\n",
       "  </tbody>\n",
       "</table>\n",
       "<p>76297 rows × 6 columns</p>\n",
       "</div>"
      ],
      "text/plain": [
       "         stimulus_presentation_id    unit_id  orientation  spatial_frequency  \\\n",
       "13                          49434  951089174        150.0               0.02   \n",
       "22                          49434  951089538        150.0               0.02   \n",
       "72                          49434  951093608        150.0               0.02   \n",
       "103                         49434  951096171        150.0               0.02   \n",
       "182                         49434  951101983        150.0               0.02   \n",
       "...                           ...        ...          ...                ...   \n",
       "2660492                     70389  951101525          0.0               0.16   \n",
       "2660505                     70389  951102034          0.0               0.16   \n",
       "2660544                     70389  951103632          0.0               0.16   \n",
       "2660715                     70389  951114629          0.0               0.16   \n",
       "2660750                     70389  951116459          0.0               0.16   \n",
       "\n",
       "         spikes_per_second   area  \n",
       "13               79.933098     MB  \n",
       "22               83.929753    NOT  \n",
       "72               55.953169  VISam  \n",
       "103              55.953169     DG  \n",
       "182             107.909682    SUB  \n",
       "...                    ...    ...  \n",
       "2660492          59.948862    SUB  \n",
       "2660505          51.955680    SUB  \n",
       "2660544          51.955680   VISp  \n",
       "2660715          63.945453    Eth  \n",
       "2660750          87.924998    CA1  \n",
       "\n",
       "[76297 rows x 6 columns]"
      ]
     },
     "execution_count": 18,
     "metadata": {},
     "output_type": "execute_result"
    }
   ],
   "source": [
    "# we filter for neurons that are spiking\n",
    "dataset = dataset[dataset['spikes_per_second'] > 50]\n",
    "dataset"
   ]
  },
  {
   "cell_type": "markdown",
   "metadata": {},
   "source": [
    "## Clustering"
   ]
  },
  {
   "cell_type": "markdown",
   "metadata": {},
   "source": [
    "We now try to use two unsupervised algorithms to cluster the data (KMeans and DBSCAN)"
   ]
  },
  {
   "cell_type": "code",
   "execution_count": 8,
   "metadata": {},
   "outputs": [],
   "source": [
    "dataset = dataset.sample(22000, random_state=42)"
   ]
  },
  {
   "cell_type": "code",
   "execution_count": 9,
   "metadata": {},
   "outputs": [
    {
     "data": {
      "image/png": "[encoded data removed]",
      "text/plain": [
       "<Figure size 1200x400 with 1 Axes>"
      ]
     },
     "metadata": {},
     "output_type": "display_data"
    }
   ],
   "source": [
    "plt.figure(figsize=(12, 4))\n",
    "sns.scatterplot(x=dataset['spatial_frequency'], y=dataset['orientation'])\n",
    "plt.title('Feature space')\n",
    "plt.show()"
   ]
  },
  {
   "cell_type": "markdown",
   "metadata": {},
   "source": [
    "As the feature space has few elements and is rather regular, we do not expect unsupervised algorithms to work effectively"
   ]
  },
  {
   "cell_type": "code",
   "execution_count": 10,
   "metadata": {},
   "outputs": [],
   "source": [
    "features = ['spatial_frequency', 'orientation']\n",
    "X = dataset[features]\n",
    "Y = dataset['area']  \n",
    "\n",
    "# Standardize features\n",
    "scaler = StandardScaler()\n",
    "X_scaled = scaler.fit_transform(X)"
   ]
  },
  {
   "cell_type": "code",
   "execution_count": 11,
   "metadata": {},
   "outputs": [
    {
     "data": {
      "image/png": "[encoded data removed]",
      "text/plain": [
       "<Figure size 1200x400 with 1 Axes>"
      ]
     },
     "metadata": {},
     "output_type": "display_data"
    }
   ],
   "source": [
    "# Apply K-Means clustering\n",
    "kmeans = KMeans(n_clusters=n_classes, random_state=42, n_init=10)\n",
    "kmeans_labels = kmeans.fit_predict(X_scaled)\n",
    "\n",
    "dataset['KMeans_Cluster'] = kmeans_labels\n",
    "\n",
    "# Visualize K-Means Clusters\n",
    "plt.figure(figsize=(12, 4))\n",
    "sns.scatterplot(x=dataset['spatial_frequency'], y=dataset['orientation'], hue=dataset['KMeans_Cluster'], palette='viridis', legend=False)\n",
    "plt.title('K-Means Clustering')\n",
    "plt.show()"
   ]
  },
  {
   "cell_type": "code",
   "execution_count": 12,
   "metadata": {},
   "outputs": [
    {
     "data": {
      "image/png": "[encoded data removed]",
      "text/plain": [
       "<Figure size 1200x400 with 1 Axes>"
      ]
     },
     "metadata": {},
     "output_type": "display_data"
    }
   ],
   "source": [
    "# Apply Hierarchical Clustering\n",
    "agglo = AgglomerativeClustering(n_clusters=n_classes)\n",
    "agglo_labels = agglo.fit_predict(X_scaled)\n",
    "dataset['Hierarchical_Cluster'] = agglo_labels\n",
    "\n",
    "# Visualize Hierarchical Clusters\n",
    "plt.figure(figsize=(12, 4))\n",
    "sns.scatterplot(x=dataset['spatial_frequency'], y=dataset['orientation'], hue=dataset['Hierarchical_Cluster'], palette='coolwarm', legend=False)\n",
    "plt.title('Hierarchical Clustering')\n",
    "plt.show()"
   ]
  },
  {
   "cell_type": "code",
   "execution_count": 13,
   "metadata": {},
   "outputs": [
    {
     "data": {
      "image/png": "[encoded data removed]",
      "text/plain": [
       "<Figure size 1200x400 with 1 Axes>"
      ]
     },
     "metadata": {},
     "output_type": "display_data"
    }
   ],
   "source": [
    "# Apply DBSCAN\n",
    "dbscan = DBSCAN(eps=0.5, min_samples=5)\n",
    "dbscan_labels = dbscan.fit_predict(X_scaled)\n",
    "dataset['DBSCAN_Cluster'] = dbscan_labels\n",
    "\n",
    "# Visualize DBSCAN Clusters\n",
    "plt.figure(figsize=(12, 4))\n",
    "sns.scatterplot(x=dataset['spatial_frequency'], y=dataset['orientation'], hue=dataset['DBSCAN_Cluster'], palette='Set1', legend=False)\n",
    "plt.title('DBSCAN Clustering')\n",
    "plt.show()"
   ]
  },
  {
   "cell_type": "code",
   "execution_count": 14,
   "metadata": {},
   "outputs": [
    {
     "data": {
      "image/png": "[encoded data removed]",
      "text/plain": [
       "<Figure size 1500x500 with 3 Axes>"
      ]
     },
     "metadata": {},
     "output_type": "display_data"
    }
   ],
   "source": [
    "plt.figure(figsize=(15, 5))\n",
    "\n",
    "# Plot for K-Means Clustering\n",
    "plt.subplot(1, 3, 1)\n",
    "sns.boxplot(x='KMeans_Cluster', y='area', data=dataset)\n",
    "plt.title('K-Means Clustering vs Brain Area')\n",
    "plt.xlabel('K-Means Cluster')\n",
    "plt.ylabel('Brain Area')\n",
    "\n",
    "# Plot for Hierarchical Clustering\n",
    "plt.subplot(1, 3, 2)\n",
    "sns.boxplot(x='Hierarchical_Cluster', y='area', data=dataset)\n",
    "plt.title('Hierarchical Clustering vs Brain Area')\n",
    "plt.xlabel('Hierarchical Cluster')\n",
    "plt.ylabel('Brain Area')\n",
    "\n",
    "# Plot for DBSCAN Clustering\n",
    "plt.subplot(1, 3, 3)\n",
    "sns.boxplot(x='DBSCAN_Cluster', y='area', data=dataset)\n",
    "plt.title('DBSCAN Clustering vs Brain Area')\n",
    "plt.xlabel('DBSCAN Cluster')\n",
    "plt.ylabel('Brain Area')\n",
    "\n",
    "# Adjust layout for better visualization\n",
    "plt.tight_layout()\n",
    "plt.show()"
   ]
  },
  {
   "cell_type": "markdown",
   "metadata": {},
   "source": [
    "## Supervised classification: XGBoost"
   ]
  },
  {
   "cell_type": "code",
   "execution_count": 19,
   "metadata": {},
   "outputs": [],
   "source": [
    "# Split data into training and testing sets\n",
    "label_encoder = LabelEncoder()\n",
    "Y = label_encoder.fit_transform(Y)\n",
    "X_train, X_test, Y_train, Y_test = train_test_split(X, Y, test_size=0.2, random_state=10)\n",
    "\n",
    "xgb_model = xgb.XGBClassifier(n_estimators=100, random_state=10)\n",
    "xgb_model.fit(X_train, Y_train)\n",
    "\n",
    "# Make predictions\n",
    "Y_pred = xgb_model.predict(X_test)"
   ]
  },
  {
   "cell_type": "code",
   "execution_count": 20,
   "metadata": {},
   "outputs": [
    {
     "name": "stderr",
     "output_type": "stream",
     "text": [
      "/Users/edoardoghirardo/miniconda/envs/envallen/lib/python3.11/site-packages/sklearn/metrics/_classification.py:1565: UndefinedMetricWarning: Precision is ill-defined and being set to 0.0 in labels with no predicted samples. Use `zero_division` parameter to control this behavior.\n",
      "  _warn_prf(average, modifier, f\"{metric.capitalize()} is\", len(result))\n",
      "/Users/edoardoghirardo/miniconda/envs/envallen/lib/python3.11/site-packages/sklearn/metrics/_classification.py:1565: UndefinedMetricWarning: Precision is ill-defined and being set to 0.0 in labels with no predicted samples. Use `zero_division` parameter to control this behavior.\n",
      "  _warn_prf(average, modifier, f\"{metric.capitalize()} is\", len(result))\n",
      "/Users/edoardoghirardo/miniconda/envs/envallen/lib/python3.11/site-packages/sklearn/metrics/_classification.py:1565: UndefinedMetricWarning: Precision is ill-defined and being set to 0.0 in labels with no predicted samples. Use `zero_division` parameter to control this behavior.\n",
      "  _warn_prf(average, modifier, f\"{metric.capitalize()} is\", len(result))\n"
     ]
    },
    {
     "name": "stdout",
     "output_type": "stream",
     "text": [
      "Classification Report:\n",
      "              precision    recall  f1-score   support\n",
      "\n",
      "           0       0.00      0.00      0.00       515\n",
      "           1       0.23      1.00      0.38      1022\n",
      "           2       0.00      0.00      0.00        55\n",
      "           3       0.00      0.00      0.00        88\n",
      "           4       0.00      0.00      0.00       174\n",
      "           5       0.00      0.00      0.00       238\n",
      "           6       0.00      0.00      0.00       330\n",
      "           7       0.00      0.00      0.00       107\n",
      "           8       0.00      0.00      0.00       393\n",
      "           9       0.00      0.00      0.00        16\n",
      "          10       0.00      0.00      0.00       466\n",
      "          11       0.00      0.00      0.00        24\n",
      "          12       0.00      0.00      0.00       192\n",
      "          13       0.00      0.00      0.00       206\n",
      "          14       0.00      0.00      0.00       162\n",
      "          15       0.00      0.00      0.00       368\n",
      "          16       0.00      0.00      0.00        44\n",
      "\n",
      "    accuracy                           0.23      4400\n",
      "   macro avg       0.01      0.06      0.02      4400\n",
      "weighted avg       0.05      0.23      0.09      4400\n",
      "\n"
     ]
    },
    {
     "data": {
      "image/png": "[encoded data removed]",
      "text/plain": [
       "<Figure size 800x600 with 2 Axes>"
      ]
     },
     "metadata": {},
     "output_type": "display_data"
    },
    {
     "name": "stdout",
     "output_type": "stream",
     "text": [
      "Accuracy: 0.2323\n"
     ]
    }
   ],
   "source": [
    "# Calculate accuracy\n",
    "accuracy = accuracy_score(Y_test, Y_pred)\n",
    "\n",
    "# Generate classification report\n",
    "class_report = classification_report(Y_test, Y_pred)\n",
    "\n",
    "# Compute confusion matrix\n",
    "conf_matrix = confusion_matrix(Y_test, Y_pred)\n",
    "\n",
    "# Display classification report\n",
    "print(\"Classification Report:\")\n",
    "print(class_report)\n",
    "\n",
    "# Plot confusion matrix\n",
    "plt.figure(figsize=(8,6))\n",
    "sns.heatmap(conf_matrix, annot=True, fmt='d', cmap='Blues', xticklabels=label_encoder.classes_, yticklabels=label_encoder.classes_)\n",
    "plt.xlabel('Predicted')\n",
    "plt.ylabel('Actual')\n",
    "plt.title('Confusion Matrix')\n",
    "plt.show()\n",
    "\n",
    "# Print accuracy\n",
    "print(f'Accuracy: {accuracy:.4f}')\n",
    "\n",
    "# Compute ROC-AUC score if binary classification\n",
    "if len(label_encoder.classes_) == 2:\n",
    "    auc_score = roc_auc_score(Y_test, Y_pred)\n",
    "    print(f'ROC-AUC Score: {auc_score:.4f}')"
   ]
  },
  {
   "cell_type": "code",
   "execution_count": 21,
   "metadata": {},
   "outputs": [
    {
     "data": {
      "application/vnd.microsoft.datawrangler.viewer.v0+json": {
       "columns": [
        {
         "name": "index",
         "rawType": "int64",
         "type": "integer"
        },
        {
         "name": "stimulus_presentation_id",
         "rawType": "int64",
         "type": "integer"
        },
        {
         "name": "unit_id",
         "rawType": "int64",
         "type": "integer"
        },
        {
         "name": "orientation",
         "rawType": "float64",
         "type": "float"
        },
        {
         "name": "spatial_frequency",
         "rawType": "float64",
         "type": "float"
        },
        {
         "name": "spikes_per_second",
         "rawType": "float64",
         "type": "float"
        },
        {
         "name": "area",
         "rawType": "object",
         "type": "string"
        }
       ],
       "conversionMethod": "pd.DataFrame",
       "ref": "780b0750-75ca-461f-a5d6-1287e21ca462",
       "rows": [
        [
         "13",
         "49434",
         "951089174",
         "150.0",
         "0.02",
         "79.93309813249358",
         "MB"
        ],
        [
         "22",
         "49434",
         "951089538",
         "150.0",
         "0.02",
         "83.92975303911825",
         "NOT"
        ],
        [
         "72",
         "49434",
         "951093608",
         "150.0",
         "0.02",
         "55.95316869274551",
         "VISam"
        ],
        [
         "103",
         "49434",
         "951096171",
         "150.0",
         "0.02",
         "55.95316869274551",
         "DG"
        ],
        [
         "182",
         "49434",
         "951101983",
         "150.0",
         "0.02",
         "107.90968247886633",
         "SUB"
        ],
        [
         "208",
         "49434",
         "951103332",
         "150.0",
         "0.02",
         "91.92306285236762",
         "VISp"
        ],
        [
         "216",
         "49434",
         "951103632",
         "150.0",
         "0.02",
         "79.93309813249358",
         "VISp"
        ],
        [
         "251",
         "49434",
         "951106476",
         "150.0",
         "0.02",
         "55.95316869274551",
         "CA1"
        ],
        [
         "262",
         "49434",
         "951107266",
         "150.0",
         "0.02",
         "51.95651378612083",
         "CA1"
        ],
        [
         "268",
         "49434",
         "951108120",
         "150.0",
         "0.02",
         "63.94647850599486",
         "CA1"
        ],
        [
         "308",
         "49434",
         "951109435",
         "150.0",
         "0.02",
         "99.91637266561698",
         "VISl"
        ],
        [
         "322",
         "49434",
         "951110614",
         "150.0",
         "0.02",
         "67.94313341261955",
         "LGv"
        ],
        [
         "391",
         "49434",
         "951113271",
         "150.0",
         "0.02",
         "51.95651378612083",
         "VISal"
        ],
        [
         "397",
         "49434",
         "951113514",
         "150.0",
         "0.02",
         "59.949823599370184",
         "VISal"
        ],
        [
         "399",
         "49434",
         "951113717",
         "150.0",
         "0.02",
         "51.95651378612083",
         "VISal"
        ],
        [
         "408",
         "49434",
         "951114629",
         "150.0",
         "0.02",
         "63.94647850599486",
         "Eth"
        ],
        [
         "412",
         "49434",
         "951114745",
         "150.0",
         "0.02",
         "55.95316869274551",
         "LP"
        ],
        [
         "430",
         "49434",
         "951115497",
         "150.0",
         "0.02",
         "63.94647850599486",
         "LP"
        ],
        [
         "477",
         "49435",
         "951088948",
         "0.0",
         "0.16",
         "51.95651378612083",
         "APN"
        ],
        [
         "480",
         "49435",
         "951089020",
         "0.0",
         "0.16",
         "63.94647850599486",
         "APN"
        ],
        [
         "485",
         "49435",
         "951089174",
         "0.0",
         "0.16",
         "139.88292173186377",
         "MB"
        ],
        [
         "487",
         "49435",
         "951089220",
         "0.0",
         "0.16",
         "63.94647850599486",
         "NOT"
        ],
        [
         "493",
         "49435",
         "951089538",
         "0.0",
         "0.16",
         "123.89630210536505",
         "NOT"
        ],
        [
         "517",
         "49435",
         "951092437",
         "0.0",
         "0.16",
         "87.92640794574294",
         "VISam"
        ],
        [
         "533",
         "49435",
         "951093283",
         "0.0",
         "0.16",
         "83.92975303911825",
         "VISam"
        ],
        [
         "537",
         "49435",
         "951093608",
         "0.0",
         "0.16",
         "55.95316869274551",
         "VISam"
        ],
        [
         "542",
         "49435",
         "951093821",
         "0.0",
         "0.16",
         "59.949823599370184",
         "VISam"
        ],
        [
         "569",
         "49435",
         "951096171",
         "0.0",
         "0.16",
         "59.949823599370184",
         "DG"
        ],
        [
         "582",
         "49435",
         "951097547",
         "0.0",
         "0.16",
         "51.95651378612083",
         "VISam"
        ],
        [
         "610",
         "49435",
         "951098928",
         "0.0",
         "0.16",
         "55.95316869274551",
         "VISam"
        ],
        [
         "650",
         "49435",
         "951101983",
         "0.0",
         "0.16",
         "99.91637266561698",
         "SUB"
        ],
        [
         "663",
         "49435",
         "951102834",
         "0.0",
         "0.16",
         "71.93978831924422",
         "VISp"
        ],
        [
         "674",
         "49435",
         "951103332",
         "0.0",
         "0.16",
         "119.89964719874037",
         "VISp"
        ],
        [
         "683",
         "49435",
         "951103632",
         "0.0",
         "0.16",
         "91.92306285236762",
         "VISp"
        ],
        [
         "695",
         "49435",
         "951103958",
         "0.0",
         "0.16",
         "59.949823599370184",
         "VISp"
        ],
        [
         "736",
         "49435",
         "951107266",
         "0.0",
         "0.16",
         "55.95316869274551",
         "CA1"
        ],
        [
         "742",
         "49435",
         "951108120",
         "0.0",
         "0.16",
         "51.95651378612083",
         "CA1"
        ],
        [
         "758",
         "49435",
         "951108911",
         "0.0",
         "0.16",
         "55.95316869274551",
         "VISl"
        ],
        [
         "774",
         "49435",
         "951109319",
         "0.0",
         "0.16",
         "63.94647850599486",
         "VISl"
        ],
        [
         "779",
         "49435",
         "951109435",
         "0.0",
         "0.16",
         "51.95651378612083",
         "VISl"
        ],
        [
         "800",
         "49435",
         "951110661",
         "0.0",
         "0.16",
         "59.949823599370184",
         "LGv"
        ],
        [
         "801",
         "49435",
         "951110675",
         "0.0",
         "0.16",
         "51.95651378612083",
         "LGv"
        ],
        [
         "864",
         "49435",
         "951113271",
         "0.0",
         "0.16",
         "59.949823599370184",
         "VISal"
        ],
        [
         "951",
         "49435",
         "951117127",
         "0.0",
         "0.16",
         "59.949823599370184",
         "VISrl"
        ],
        [
         "959",
         "49436",
         "951088948",
         "30.0",
         "0.04",
         "59.94982359893436",
         "APN"
        ],
        [
         "968",
         "49436",
         "951089174",
         "30.0",
         "0.04",
         "91.92306285169934",
         "MB"
        ],
        [
         "970",
         "49436",
         "951089220",
         "30.0",
         "0.04",
         "51.95651378574311",
         "NOT"
        ],
        [
         "976",
         "49436",
         "951089538",
         "30.0",
         "0.04",
         "99.9163726648906",
         "NOT"
        ],
        [
         "1005",
         "49436",
         "951092594",
         "30.0",
         "0.04",
         "51.95651378574311",
         "VISam"
        ],
        [
         "1019",
         "49436",
         "951093283",
         "30.0",
         "0.04",
         "67.9431334121256",
         "VISam"
        ]
       ],
       "shape": {
        "columns": 6,
        "rows": 76297
       }
      },
      "text/html": [
       "<div>\n",
       "<style scoped>\n",
       "    .dataframe tbody tr th:only-of-type {\n",
       "        vertical-align: middle;\n",
       "    }\n",
       "\n",
       "    .dataframe tbody tr th {\n",
       "        vertical-align: top;\n",
       "    }\n",
       "\n",
       "    .dataframe thead th {\n",
       "        text-align: right;\n",
       "    }\n",
       "</style>\n",
       "<table border=\"1\" class=\"dataframe\">\n",
       "  <thead>\n",
       "    <tr style=\"text-align: right;\">\n",
       "      <th></th>\n",
       "      <th>stimulus_presentation_id</th>\n",
       "      <th>unit_id</th>\n",
       "      <th>orientation</th>\n",
       "      <th>spatial_frequency</th>\n",
       "      <th>spikes_per_second</th>\n",
       "      <th>area</th>\n",
       "    </tr>\n",
       "  </thead>\n",
       "  <tbody>\n",
       "    <tr>\n",
       "      <th>13</th>\n",
       "      <td>49434</td>\n",
       "      <td>951089174</td>\n",
       "      <td>150.0</td>\n",
       "      <td>0.02</td>\n",
       "      <td>79.933098</td>\n",
       "      <td>MB</td>\n",
       "    </tr>\n",
       "    <tr>\n",
       "      <th>22</th>\n",
       "      <td>49434</td>\n",
       "      <td>951089538</td>\n",
       "      <td>150.0</td>\n",
       "      <td>0.02</td>\n",
       "      <td>83.929753</td>\n",
       "      <td>NOT</td>\n",
       "    </tr>\n",
       "    <tr>\n",
       "      <th>72</th>\n",
       "      <td>49434</td>\n",
       "      <td>951093608</td>\n",
       "      <td>150.0</td>\n",
       "      <td>0.02</td>\n",
       "      <td>55.953169</td>\n",
       "      <td>VISam</td>\n",
       "    </tr>\n",
       "    <tr>\n",
       "      <th>103</th>\n",
       "      <td>49434</td>\n",
       "      <td>951096171</td>\n",
       "      <td>150.0</td>\n",
       "      <td>0.02</td>\n",
       "      <td>55.953169</td>\n",
       "      <td>DG</td>\n",
       "    </tr>\n",
       "    <tr>\n",
       "      <th>182</th>\n",
       "      <td>49434</td>\n",
       "      <td>951101983</td>\n",
       "      <td>150.0</td>\n",
       "      <td>0.02</td>\n",
       "      <td>107.909682</td>\n",
       "      <td>SUB</td>\n",
       "    </tr>\n",
       "    <tr>\n",
       "      <th>...</th>\n",
       "      <td>...</td>\n",
       "      <td>...</td>\n",
       "      <td>...</td>\n",
       "      <td>...</td>\n",
       "      <td>...</td>\n",
       "      <td>...</td>\n",
       "    </tr>\n",
       "    <tr>\n",
       "      <th>2660492</th>\n",
       "      <td>70389</td>\n",
       "      <td>951101525</td>\n",
       "      <td>0.0</td>\n",
       "      <td>0.16</td>\n",
       "      <td>59.948862</td>\n",
       "      <td>SUB</td>\n",
       "    </tr>\n",
       "    <tr>\n",
       "      <th>2660505</th>\n",
       "      <td>70389</td>\n",
       "      <td>951102034</td>\n",
       "      <td>0.0</td>\n",
       "      <td>0.16</td>\n",
       "      <td>51.955680</td>\n",
       "      <td>SUB</td>\n",
       "    </tr>\n",
       "    <tr>\n",
       "      <th>2660544</th>\n",
       "      <td>70389</td>\n",
       "      <td>951103632</td>\n",
       "      <td>0.0</td>\n",
       "      <td>0.16</td>\n",
       "      <td>51.955680</td>\n",
       "      <td>VISp</td>\n",
       "    </tr>\n",
       "    <tr>\n",
       "      <th>2660715</th>\n",
       "      <td>70389</td>\n",
       "      <td>951114629</td>\n",
       "      <td>0.0</td>\n",
       "      <td>0.16</td>\n",
       "      <td>63.945453</td>\n",
       "      <td>Eth</td>\n",
       "    </tr>\n",
       "    <tr>\n",
       "      <th>2660750</th>\n",
       "      <td>70389</td>\n",
       "      <td>951116459</td>\n",
       "      <td>0.0</td>\n",
       "      <td>0.16</td>\n",
       "      <td>87.924998</td>\n",
       "      <td>CA1</td>\n",
       "    </tr>\n",
       "  </tbody>\n",
       "</table>\n",
       "<p>76297 rows × 6 columns</p>\n",
       "</div>"
      ],
      "text/plain": [
       "         stimulus_presentation_id    unit_id  orientation  spatial_frequency  \\\n",
       "13                          49434  951089174        150.0               0.02   \n",
       "22                          49434  951089538        150.0               0.02   \n",
       "72                          49434  951093608        150.0               0.02   \n",
       "103                         49434  951096171        150.0               0.02   \n",
       "182                         49434  951101983        150.0               0.02   \n",
       "...                           ...        ...          ...                ...   \n",
       "2660492                     70389  951101525          0.0               0.16   \n",
       "2660505                     70389  951102034          0.0               0.16   \n",
       "2660544                     70389  951103632          0.0               0.16   \n",
       "2660715                     70389  951114629          0.0               0.16   \n",
       "2660750                     70389  951116459          0.0               0.16   \n",
       "\n",
       "         spikes_per_second   area  \n",
       "13               79.933098     MB  \n",
       "22               83.929753    NOT  \n",
       "72               55.953169  VISam  \n",
       "103              55.953169     DG  \n",
       "182             107.909682    SUB  \n",
       "...                    ...    ...  \n",
       "2660492          59.948862    SUB  \n",
       "2660505          51.955680    SUB  \n",
       "2660544          51.955680   VISp  \n",
       "2660715          63.945453    Eth  \n",
       "2660750          87.924998    CA1  \n",
       "\n",
       "[76297 rows x 6 columns]"
      ]
     },
     "execution_count": 21,
     "metadata": {},
     "output_type": "execute_result"
    }
   ],
   "source": [
    "dataset"
   ]
  },
  {
   "cell_type": "code",
   "execution_count": null,
   "metadata": {},
   "outputs": [
    {
     "data": {
      "image/png": "[encoded data removed]",
      "text/plain": [
       "<Figure size 1500x800 with 2 Axes>"
      ]
     },
     "metadata": {},
     "output_type": "display_data"
    }
   ],
   "source": [
    "# Group by orientation and calculate the average spikes_per_second for each area\n",
    "grouped_orientation = dataset.groupby(['orientation', 'area'])['spikes_per_second'].mean().reset_index()\n",
    "\n",
    "# Pivot the data for easier visualization\n",
    "pivot_orientation = grouped_orientation.pivot_table(index='orientation', columns='area', values='spikes_per_second', fill_value=0)\n",
    "\n",
    "# Plot the heatmap for orientation\n",
    "plt.figure(figsize=(15, 8))\n",
    "sns.heatmap(pivot_orientation, cmap='viridis', annot=False, cbar_kws={'label': 'Average Spikes per Second'})\n",
    "plt.title('Most Active Brain Areas by Orientation')\n",
    "plt.xlabel('Brain Area')\n",
    "plt.ylabel('Orientation')\n",
    "plt.tight_layout()\n",
    "plt.show()"
   ]
  },
  {
   "cell_type": "code",
   "execution_count": null,
   "metadata": {},
   "outputs": [
    {
     "data": {
      "image/png": "[encoded data removed]",
      "text/plain": [
       "<Figure size 1500x800 with 2 Axes>"
      ]
     },
     "metadata": {},
     "output_type": "display_data"
    }
   ],
   "source": [
    "# Group by spatial_frequency and calculate the average spikes_per_second for each area\n",
    "grouped_frequency = dataset.groupby(['spatial_frequency', 'area'])['spikes_per_second'].mean().reset_index()\n",
    "\n",
    "# Pivot the data for easier visualization\n",
    "pivot_frequency = grouped_frequency.pivot_table(index='spatial_frequency', columns='area', values='spikes_per_second', fill_value=0)\n",
    "\n",
    "# Plot the heatmap for temporal frequency\n",
    "plt.figure(figsize=(15, 8))\n",
    "sns.heatmap(pivot_frequency, cmap='viridis', annot=False, cbar_kws={'label': 'Average Spikes per Second'})\n",
    "plt.title('Most Active Brain Areas by Temporal Frequency')\n",
    "plt.xlabel('Brain Area')\n",
    "plt.ylabel('Temporal Frequency')\n",
    "plt.tight_layout()\n",
    "plt.show()"
   ]
  },
  {
   "cell_type": "code",
   "execution_count": null,
   "metadata": {},
   "outputs": [],
   "source": []
  }
 ],
 "metadata": {
  "kernelspec": {
   "display_name": "envallen",
   "language": "python",
   "name": "python3"
  },
  "language_info": {
   "codemirror_mode": {
    "name": "ipython",
    "version": 3
   },
   "file_extension": ".py",
   "mimetype": "text/x-python",
   "name": "python",
   "nbconvert_exporter": "python",
   "pygments_lexer": "ipython3",
   "version": "3.11.11"
  }
 },
 "nbformat": 4,
 "nbformat_minor": 2
}
