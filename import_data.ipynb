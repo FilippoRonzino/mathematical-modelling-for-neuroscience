{
 "cells": [
  {
   "cell_type": "code",
   "execution_count": 1,
   "metadata": {},
   "outputs": [
    {
     "name": "stderr",
     "output_type": "stream",
     "text": [
      "/Users/edoardoghirardo/miniconda/envs/envallen/lib/python3.11/site-packages/tqdm/auto.py:21: TqdmWarning: IProgress not found. Please update jupyter and ipywidgets. See https://ipywidgets.readthedocs.io/en/stable/user_install.html\n",
      "  from .autonotebook import tqdm as notebook_tqdm\n"
     ]
    }
   ],
   "source": [
    "from allensdk.brain_observatory.ecephys.ecephys_project_cache import EcephysProjectCache\n",
    "import os\n",
    "import numpy as np\n",
    "import pandas as pd\n",
    "import matplotlib.pyplot as plt\n",
    "import matplotlib"
   ]
  },
  {
   "cell_type": "code",
   "execution_count": 2,
   "metadata": {},
   "outputs": [],
   "source": [
    "data_dir = \"./allendata\"\n",
    "manifest_path = os.path.join(data_dir, \"manifest.json\")\n",
    "cache = EcephysProjectCache.from_warehouse(manifest=manifest_path)"
   ]
  },
  {
   "cell_type": "code",
   "execution_count": 3,
   "metadata": {},
   "outputs": [
    {
     "data": {
      "application/vnd.microsoft.datawrangler.viewer.v0+json": {
       "columns": [
        {
         "name": "id",
         "rawType": "int64",
         "type": "integer"
        },
        {
         "name": "published_at",
         "rawType": "object",
         "type": "string"
        },
        {
         "name": "specimen_id",
         "rawType": "int64",
         "type": "integer"
        },
        {
         "name": "session_type",
         "rawType": "object",
         "type": "string"
        },
        {
         "name": "age_in_days",
         "rawType": "float64",
         "type": "float"
        },
        {
         "name": "sex",
         "rawType": "object",
         "type": "string"
        },
        {
         "name": "full_genotype",
         "rawType": "object",
         "type": "string"
        },
        {
         "name": "unit_count",
         "rawType": "int64",
         "type": "integer"
        },
        {
         "name": "channel_count",
         "rawType": "int64",
         "type": "integer"
        },
        {
         "name": "probe_count",
         "rawType": "int64",
         "type": "integer"
        },
        {
         "name": "ecephys_structure_acronyms",
         "rawType": "object",
         "type": "string"
        }
       ],
       "conversionMethod": "pd.DataFrame",
       "ref": "1ec19943-fe42-406a-ab3b-8bb735f2daec",
       "rows": [
        [
         "715093703",
         "2019-10-03T00:00:00Z",
         "699733581",
         "brain_observatory_1.1",
         "118.0",
         "M",
         "Sst-IRES-Cre/wt;Ai32(RCL-ChR2(H134R)_EYFP)/wt",
         "884",
         "2219",
         "6",
         "['CA1' 'VISrl' nan 'PO' 'LP' 'LGd' 'CA3' 'DG' 'VISl' 'PoT' 'VISp' 'grey'\n 'VISpm' 'APN' 'MB' 'VISam']"
        ],
        [
         "719161530",
         "2019-10-03T00:00:00Z",
         "703279284",
         "brain_observatory_1.1",
         "122.0",
         "M",
         "Sst-IRES-Cre/wt;Ai32(RCL-ChR2(H134R)_EYFP)/wt",
         "755",
         "2214",
         "6",
         "['TH' 'Eth' 'APN' 'POL' 'LP' 'DG' 'CA1' 'VISpm' nan 'NOT' 'MB' 'SUB'\n 'VISp' 'VISam' 'grey' 'VL' 'CA3' 'CA2' 'VISl' 'PO' 'VPM' 'LGd' 'VISal'\n 'VISrl']"
        ],
        [
         "721123822",
         "2019-10-03T00:00:00Z",
         "707296982",
         "brain_observatory_1.1",
         "125.0",
         "M",
         "Pvalb-IRES-Cre/wt;Ai32(RCL-ChR2(H134R)_EYFP)/wt",
         "444",
         "2229",
         "6",
         "['MB' 'SCig' 'PPT' 'NOT' 'DG' 'CA1' 'VISam' nan 'LP' 'VIS' 'ProS' 'VISp'\n 'LGv' 'CA3' 'VISl' 'APN' 'POL' 'LGd' 'HPF' 'VISal' 'VISrl']"
        ],
        [
         "732592105",
         "2019-10-03T00:00:00Z",
         "717038288",
         "brain_observatory_1.1",
         "100.0",
         "M",
         "wt/wt",
         "824",
         "1847",
         "5",
         "['grey' 'VISpm' nan 'VISp' 'VISl' 'VISal' 'VISrl']"
        ],
        [
         "737581020",
         "2019-10-03T00:00:00Z",
         "718643567",
         "brain_observatory_1.1",
         "108.0",
         "M",
         "wt/wt",
         "568",
         "2218",
         "6",
         "['grey' 'VISmma' nan 'VISpm' 'VISp' 'VISl' 'VISrl']"
        ]
       ],
       "shape": {
        "columns": 10,
        "rows": 5
       }
      },
      "text/html": [
       "<div>\n",
       "<style scoped>\n",
       "    .dataframe tbody tr th:only-of-type {\n",
       "        vertical-align: middle;\n",
       "    }\n",
       "\n",
       "    .dataframe tbody tr th {\n",
       "        vertical-align: top;\n",
       "    }\n",
       "\n",
       "    .dataframe thead th {\n",
       "        text-align: right;\n",
       "    }\n",
       "</style>\n",
       "<table border=\"1\" class=\"dataframe\">\n",
       "  <thead>\n",
       "    <tr style=\"text-align: right;\">\n",
       "      <th></th>\n",
       "      <th>published_at</th>\n",
       "      <th>specimen_id</th>\n",
       "      <th>session_type</th>\n",
       "      <th>age_in_days</th>\n",
       "      <th>sex</th>\n",
       "      <th>full_genotype</th>\n",
       "      <th>unit_count</th>\n",
       "      <th>channel_count</th>\n",
       "      <th>probe_count</th>\n",
       "      <th>ecephys_structure_acronyms</th>\n",
       "    </tr>\n",
       "    <tr>\n",
       "      <th>id</th>\n",
       "      <th></th>\n",
       "      <th></th>\n",
       "      <th></th>\n",
       "      <th></th>\n",
       "      <th></th>\n",
       "      <th></th>\n",
       "      <th></th>\n",
       "      <th></th>\n",
       "      <th></th>\n",
       "      <th></th>\n",
       "    </tr>\n",
       "  </thead>\n",
       "  <tbody>\n",
       "    <tr>\n",
       "      <th>715093703</th>\n",
       "      <td>2019-10-03T00:00:00Z</td>\n",
       "      <td>699733581</td>\n",
       "      <td>brain_observatory_1.1</td>\n",
       "      <td>118.0</td>\n",
       "      <td>M</td>\n",
       "      <td>Sst-IRES-Cre/wt;Ai32(RCL-ChR2(H134R)_EYFP)/wt</td>\n",
       "      <td>884</td>\n",
       "      <td>2219</td>\n",
       "      <td>6</td>\n",
       "      <td>[CA1, VISrl, nan, PO, LP, LGd, CA3, DG, VISl, ...</td>\n",
       "    </tr>\n",
       "    <tr>\n",
       "      <th>719161530</th>\n",
       "      <td>2019-10-03T00:00:00Z</td>\n",
       "      <td>703279284</td>\n",
       "      <td>brain_observatory_1.1</td>\n",
       "      <td>122.0</td>\n",
       "      <td>M</td>\n",
       "      <td>Sst-IRES-Cre/wt;Ai32(RCL-ChR2(H134R)_EYFP)/wt</td>\n",
       "      <td>755</td>\n",
       "      <td>2214</td>\n",
       "      <td>6</td>\n",
       "      <td>[TH, Eth, APN, POL, LP, DG, CA1, VISpm, nan, N...</td>\n",
       "    </tr>\n",
       "    <tr>\n",
       "      <th>721123822</th>\n",
       "      <td>2019-10-03T00:00:00Z</td>\n",
       "      <td>707296982</td>\n",
       "      <td>brain_observatory_1.1</td>\n",
       "      <td>125.0</td>\n",
       "      <td>M</td>\n",
       "      <td>Pvalb-IRES-Cre/wt;Ai32(RCL-ChR2(H134R)_EYFP)/wt</td>\n",
       "      <td>444</td>\n",
       "      <td>2229</td>\n",
       "      <td>6</td>\n",
       "      <td>[MB, SCig, PPT, NOT, DG, CA1, VISam, nan, LP, ...</td>\n",
       "    </tr>\n",
       "    <tr>\n",
       "      <th>732592105</th>\n",
       "      <td>2019-10-03T00:00:00Z</td>\n",
       "      <td>717038288</td>\n",
       "      <td>brain_observatory_1.1</td>\n",
       "      <td>100.0</td>\n",
       "      <td>M</td>\n",
       "      <td>wt/wt</td>\n",
       "      <td>824</td>\n",
       "      <td>1847</td>\n",
       "      <td>5</td>\n",
       "      <td>[grey, VISpm, nan, VISp, VISl, VISal, VISrl]</td>\n",
       "    </tr>\n",
       "    <tr>\n",
       "      <th>737581020</th>\n",
       "      <td>2019-10-03T00:00:00Z</td>\n",
       "      <td>718643567</td>\n",
       "      <td>brain_observatory_1.1</td>\n",
       "      <td>108.0</td>\n",
       "      <td>M</td>\n",
       "      <td>wt/wt</td>\n",
       "      <td>568</td>\n",
       "      <td>2218</td>\n",
       "      <td>6</td>\n",
       "      <td>[grey, VISmma, nan, VISpm, VISp, VISl, VISrl]</td>\n",
       "    </tr>\n",
       "  </tbody>\n",
       "</table>\n",
       "</div>"
      ],
      "text/plain": [
       "                   published_at  specimen_id           session_type  \\\n",
       "id                                                                    \n",
       "715093703  2019-10-03T00:00:00Z    699733581  brain_observatory_1.1   \n",
       "719161530  2019-10-03T00:00:00Z    703279284  brain_observatory_1.1   \n",
       "721123822  2019-10-03T00:00:00Z    707296982  brain_observatory_1.1   \n",
       "732592105  2019-10-03T00:00:00Z    717038288  brain_observatory_1.1   \n",
       "737581020  2019-10-03T00:00:00Z    718643567  brain_observatory_1.1   \n",
       "\n",
       "           age_in_days sex                                    full_genotype  \\\n",
       "id                                                                            \n",
       "715093703        118.0   M    Sst-IRES-Cre/wt;Ai32(RCL-ChR2(H134R)_EYFP)/wt   \n",
       "719161530        122.0   M    Sst-IRES-Cre/wt;Ai32(RCL-ChR2(H134R)_EYFP)/wt   \n",
       "721123822        125.0   M  Pvalb-IRES-Cre/wt;Ai32(RCL-ChR2(H134R)_EYFP)/wt   \n",
       "732592105        100.0   M                                            wt/wt   \n",
       "737581020        108.0   M                                            wt/wt   \n",
       "\n",
       "           unit_count  channel_count  probe_count  \\\n",
       "id                                                  \n",
       "715093703         884           2219            6   \n",
       "719161530         755           2214            6   \n",
       "721123822         444           2229            6   \n",
       "732592105         824           1847            5   \n",
       "737581020         568           2218            6   \n",
       "\n",
       "                                  ecephys_structure_acronyms  \n",
       "id                                                            \n",
       "715093703  [CA1, VISrl, nan, PO, LP, LGd, CA3, DG, VISl, ...  \n",
       "719161530  [TH, Eth, APN, POL, LP, DG, CA1, VISpm, nan, N...  \n",
       "721123822  [MB, SCig, PPT, NOT, DG, CA1, VISam, nan, LP, ...  \n",
       "732592105       [grey, VISpm, nan, VISp, VISl, VISal, VISrl]  \n",
       "737581020      [grey, VISmma, nan, VISpm, VISp, VISl, VISrl]  "
      ]
     },
     "execution_count": 3,
     "metadata": {},
     "output_type": "execute_result"
    }
   ],
   "source": [
    "sessions = cache.get_session_table() #Returns a Pandas dataframe\n",
    "sessions.head() #Sneak peek of the table"
   ]
  },
  {
   "cell_type": "code",
   "execution_count": 4,
   "metadata": {},
   "outputs": [
    {
     "data": {
      "application/vnd.microsoft.datawrangler.viewer.v0+json": {
       "columns": [
        {
         "name": "id",
         "rawType": "int64",
         "type": "integer"
        },
        {
         "name": "waveform_PT_ratio",
         "rawType": "float64",
         "type": "float"
        },
        {
         "name": "waveform_amplitude",
         "rawType": "float64",
         "type": "float"
        },
        {
         "name": "amplitude_cutoff",
         "rawType": "float64",
         "type": "float"
        },
        {
         "name": "cumulative_drift",
         "rawType": "float64",
         "type": "float"
        },
        {
         "name": "d_prime",
         "rawType": "float64",
         "type": "float"
        },
        {
         "name": "waveform_duration",
         "rawType": "float64",
         "type": "float"
        },
        {
         "name": "ecephys_channel_id",
         "rawType": "int64",
         "type": "integer"
        },
        {
         "name": "firing_rate",
         "rawType": "float64",
         "type": "float"
        },
        {
         "name": "waveform_halfwidth",
         "rawType": "float64",
         "type": "float"
        },
        {
         "name": "isi_violations",
         "rawType": "float64",
         "type": "float"
        },
        {
         "name": "isolation_distance",
         "rawType": "float64",
         "type": "float"
        },
        {
         "name": "L_ratio",
         "rawType": "float64",
         "type": "float"
        },
        {
         "name": "max_drift",
         "rawType": "float64",
         "type": "float"
        },
        {
         "name": "nn_hit_rate",
         "rawType": "float64",
         "type": "float"
        },
        {
         "name": "nn_miss_rate",
         "rawType": "float64",
         "type": "float"
        },
        {
         "name": "presence_ratio",
         "rawType": "float64",
         "type": "float"
        },
        {
         "name": "waveform_recovery_slope",
         "rawType": "float64",
         "type": "float"
        },
        {
         "name": "waveform_repolarization_slope",
         "rawType": "float64",
         "type": "float"
        },
        {
         "name": "silhouette_score",
         "rawType": "float64",
         "type": "float"
        },
        {
         "name": "snr",
         "rawType": "float64",
         "type": "float"
        },
        {
         "name": "waveform_spread",
         "rawType": "float64",
         "type": "float"
        },
        {
         "name": "waveform_velocity_above",
         "rawType": "float64",
         "type": "float"
        },
        {
         "name": "waveform_velocity_below",
         "rawType": "float64",
         "type": "float"
        },
        {
         "name": "ecephys_probe_id",
         "rawType": "int64",
         "type": "integer"
        },
        {
         "name": "local_index",
         "rawType": "int64",
         "type": "integer"
        },
        {
         "name": "probe_horizontal_position",
         "rawType": "int64",
         "type": "integer"
        },
        {
         "name": "probe_vertical_position",
         "rawType": "int64",
         "type": "integer"
        },
        {
         "name": "anterior_posterior_ccf_coordinate",
         "rawType": "float64",
         "type": "float"
        },
        {
         "name": "dorsal_ventral_ccf_coordinate",
         "rawType": "float64",
         "type": "float"
        },
        {
         "name": "left_right_ccf_coordinate",
         "rawType": "float64",
         "type": "float"
        },
        {
         "name": "ecephys_structure_id",
         "rawType": "float64",
         "type": "float"
        },
        {
         "name": "ecephys_structure_acronym",
         "rawType": "object",
         "type": "string"
        },
        {
         "name": "ecephys_session_id",
         "rawType": "int64",
         "type": "integer"
        },
        {
         "name": "lfp_sampling_rate",
         "rawType": "float64",
         "type": "float"
        },
        {
         "name": "name",
         "rawType": "object",
         "type": "string"
        },
        {
         "name": "phase",
         "rawType": "object",
         "type": "string"
        },
        {
         "name": "sampling_rate",
         "rawType": "float64",
         "type": "float"
        },
        {
         "name": "has_lfp_data",
         "rawType": "bool",
         "type": "boolean"
        },
        {
         "name": "date_of_acquisition",
         "rawType": "object",
         "type": "string"
        },
        {
         "name": "published_at",
         "rawType": "object",
         "type": "string"
        },
        {
         "name": "specimen_id",
         "rawType": "int64",
         "type": "integer"
        },
        {
         "name": "session_type",
         "rawType": "object",
         "type": "string"
        },
        {
         "name": "age_in_days",
         "rawType": "float64",
         "type": "float"
        },
        {
         "name": "sex",
         "rawType": "object",
         "type": "string"
        },
        {
         "name": "genotype",
         "rawType": "object",
         "type": "string"
        }
       ],
       "conversionMethod": "pd.DataFrame",
       "ref": "597df28c-4f23-4000-b8be-62c965b69112",
       "rows": [
        [
         "915956282",
         "0.611816208824039",
         "164.87874",
         "0.0727281554327918",
         "309.71",
         "3.91087315516672",
         "0.535678391959799",
         "850229419",
         "6.51943178976288",
         "0.164824120603015",
         "0.104909977654923",
         "30.5469003902896",
         "0.0138653362974338",
         "27.1",
         "0.898125509372453",
         "0.0015987210231814",
         "0.99",
         "-0.0875445483834388",
         "0.480914883152326",
         "0.102368970281187",
         "1.91183857485719",
         "30.0",
         "0.0",
         null,
         "733744647",
         "3",
         "27",
         "40",
         null,
         null,
         null,
         "8.0",
         "grey",
         "732592105",
         "1249.99647462834",
         "probeB",
         "3a",
         "29999.9153910801",
         "True",
         "2019-01-09T00:26:20Z",
         "2019-10-03T00:00:00Z",
         "717038288",
         "brain_observatory_1.1",
         "100.0",
         "M",
         "wt/wt"
        ],
        [
         "915956340",
         "0.439371887052594",
         "247.254345",
         "0.0008814493235457",
         "160.24",
         "5.51902433787735",
         "0.563149078726968",
         "850229419",
         "9.66055365767542",
         "0.206030150753769",
         "0.0068254959307406",
         "59.6131819282818",
         "0.0004103577410685",
         "7.79",
         "0.987654320987654",
         "0.0009032482195587",
         "0.99",
         "-0.104195822770096",
         "0.70452162491483",
         "0.1974579238242",
         "3.3579084951184",
         "30.0",
         "0.0",
         null,
         "733744647",
         "3",
         "27",
         "40",
         null,
         null,
         null,
         "8.0",
         "grey",
         "732592105",
         "1249.99647462834",
         "probeB",
         "3a",
         "29999.9153910801",
         "True",
         "2019-01-09T00:26:20Z",
         "2019-10-03T00:00:00Z",
         "717038288",
         "brain_observatory_1.1",
         "100.0",
         "M",
         "wt/wt"
        ],
        [
         "915956345",
         "0.500520089958511",
         "251.27583",
         "0.001703146028512",
         "129.36",
         "3.5599113500233",
         "0.521943048576214",
         "850229419",
         "12.6984302105734",
         "0.192294807370184",
         "0.0449355000110959",
         "47.8057144591376",
         "0.0082813048784944",
         "11.56",
         "0.93",
         "0.0049560711872043",
         "0.99",
         "-0.153126636184457",
         "0.781296236974266",
         "0.13882712202092",
         "3.36219763391065",
         "30.0",
         "0.343383584589615",
         null,
         "733744647",
         "3",
         "27",
         "40",
         null,
         null,
         null,
         "8.0",
         "grey",
         "732592105",
         "1249.99647462834",
         "probeB",
         "3a",
         "29999.9153910801",
         "True",
         "2019-01-09T00:26:20Z",
         "2019-10-03T00:00:00Z",
         "717038288",
         "brain_observatory_1.1",
         "100.0",
         "M",
         "wt/wt"
        ],
        [
         "915956349",
         "0.42461996928519",
         "177.11538",
         "0.0963782675238437",
         "169.29",
         "2.97395941383064",
         "0.50820770519263",
         "850229419",
         "16.1924131242456",
         "0.192294807370184",
         "0.120715278559496",
         "54.6355149475873",
         "0.0104056849504318",
         "14.87",
         "0.874666666666667",
         "0.021635550369506",
         "0.99",
         "-0.0860223026888568",
         "0.553393001063124",
         "0.136900919308215",
         "2.68463555169015",
         "40.0",
         "0.206030150753769",
         null,
         "733744647",
         "3",
         "27",
         "40",
         null,
         null,
         null,
         "8.0",
         "grey",
         "732592105",
         "1249.99647462834",
         "probeB",
         "3a",
         "29999.9153910801",
         "True",
         "2019-01-09T00:26:20Z",
         "2019-10-03T00:00:00Z",
         "717038288",
         "brain_observatory_1.1",
         "100.0",
         "M",
         "wt/wt"
        ],
        [
         "915956356",
         "0.512847028152019",
         "214.954545",
         "0.0547059056768061",
         "263.01",
         "2.9368505533501",
         "0.549413735343384",
         "850229419",
         "2.19311318838057",
         "0.233500837520938",
         "0.430427007873802",
         "18.1363020704327",
         "0.0613453515168913",
         "18.37",
         "0.637362637362637",
         "0.0006727890469943",
         "0.99",
         "-0.106051023749338",
         "0.632977262066443",
         "0.108867367919851",
         "2.60540773205121",
         "60.0",
         "-0.451304139746351",
         null,
         "733744647",
         "3",
         "27",
         "40",
         null,
         null,
         null,
         "8.0",
         "grey",
         "732592105",
         "1249.99647462834",
         "probeB",
         "3a",
         "29999.9153910801",
         "True",
         "2019-01-09T00:26:20Z",
         "2019-10-03T00:00:00Z",
         "717038288",
         "brain_observatory_1.1",
         "100.0",
         "M",
         "wt/wt"
        ]
       ],
       "shape": {
        "columns": 45,
        "rows": 5
       }
      },
      "text/html": [
       "<div>\n",
       "<style scoped>\n",
       "    .dataframe tbody tr th:only-of-type {\n",
       "        vertical-align: middle;\n",
       "    }\n",
       "\n",
       "    .dataframe tbody tr th {\n",
       "        vertical-align: top;\n",
       "    }\n",
       "\n",
       "    .dataframe thead th {\n",
       "        text-align: right;\n",
       "    }\n",
       "</style>\n",
       "<table border=\"1\" class=\"dataframe\">\n",
       "  <thead>\n",
       "    <tr style=\"text-align: right;\">\n",
       "      <th></th>\n",
       "      <th>waveform_PT_ratio</th>\n",
       "      <th>waveform_amplitude</th>\n",
       "      <th>amplitude_cutoff</th>\n",
       "      <th>cumulative_drift</th>\n",
       "      <th>d_prime</th>\n",
       "      <th>waveform_duration</th>\n",
       "      <th>ecephys_channel_id</th>\n",
       "      <th>firing_rate</th>\n",
       "      <th>waveform_halfwidth</th>\n",
       "      <th>isi_violations</th>\n",
       "      <th>...</th>\n",
       "      <th>phase</th>\n",
       "      <th>sampling_rate</th>\n",
       "      <th>has_lfp_data</th>\n",
       "      <th>date_of_acquisition</th>\n",
       "      <th>published_at</th>\n",
       "      <th>specimen_id</th>\n",
       "      <th>session_type</th>\n",
       "      <th>age_in_days</th>\n",
       "      <th>sex</th>\n",
       "      <th>genotype</th>\n",
       "    </tr>\n",
       "    <tr>\n",
       "      <th>id</th>\n",
       "      <th></th>\n",
       "      <th></th>\n",
       "      <th></th>\n",
       "      <th></th>\n",
       "      <th></th>\n",
       "      <th></th>\n",
       "      <th></th>\n",
       "      <th></th>\n",
       "      <th></th>\n",
       "      <th></th>\n",
       "      <th></th>\n",
       "      <th></th>\n",
       "      <th></th>\n",
       "      <th></th>\n",
       "      <th></th>\n",
       "      <th></th>\n",
       "      <th></th>\n",
       "      <th></th>\n",
       "      <th></th>\n",
       "      <th></th>\n",
       "      <th></th>\n",
       "    </tr>\n",
       "  </thead>\n",
       "  <tbody>\n",
       "    <tr>\n",
       "      <th>915956282</th>\n",
       "      <td>0.611816</td>\n",
       "      <td>164.878740</td>\n",
       "      <td>0.072728</td>\n",
       "      <td>309.71</td>\n",
       "      <td>3.910873</td>\n",
       "      <td>0.535678</td>\n",
       "      <td>850229419</td>\n",
       "      <td>6.519432</td>\n",
       "      <td>0.164824</td>\n",
       "      <td>0.104910</td>\n",
       "      <td>...</td>\n",
       "      <td>3a</td>\n",
       "      <td>29999.915391</td>\n",
       "      <td>True</td>\n",
       "      <td>2019-01-09T00:26:20Z</td>\n",
       "      <td>2019-10-03T00:00:00Z</td>\n",
       "      <td>717038288</td>\n",
       "      <td>brain_observatory_1.1</td>\n",
       "      <td>100.0</td>\n",
       "      <td>M</td>\n",
       "      <td>wt/wt</td>\n",
       "    </tr>\n",
       "    <tr>\n",
       "      <th>915956340</th>\n",
       "      <td>0.439372</td>\n",
       "      <td>247.254345</td>\n",
       "      <td>0.000881</td>\n",
       "      <td>160.24</td>\n",
       "      <td>5.519024</td>\n",
       "      <td>0.563149</td>\n",
       "      <td>850229419</td>\n",
       "      <td>9.660554</td>\n",
       "      <td>0.206030</td>\n",
       "      <td>0.006825</td>\n",
       "      <td>...</td>\n",
       "      <td>3a</td>\n",
       "      <td>29999.915391</td>\n",
       "      <td>True</td>\n",
       "      <td>2019-01-09T00:26:20Z</td>\n",
       "      <td>2019-10-03T00:00:00Z</td>\n",
       "      <td>717038288</td>\n",
       "      <td>brain_observatory_1.1</td>\n",
       "      <td>100.0</td>\n",
       "      <td>M</td>\n",
       "      <td>wt/wt</td>\n",
       "    </tr>\n",
       "    <tr>\n",
       "      <th>915956345</th>\n",
       "      <td>0.500520</td>\n",
       "      <td>251.275830</td>\n",
       "      <td>0.001703</td>\n",
       "      <td>129.36</td>\n",
       "      <td>3.559911</td>\n",
       "      <td>0.521943</td>\n",
       "      <td>850229419</td>\n",
       "      <td>12.698430</td>\n",
       "      <td>0.192295</td>\n",
       "      <td>0.044936</td>\n",
       "      <td>...</td>\n",
       "      <td>3a</td>\n",
       "      <td>29999.915391</td>\n",
       "      <td>True</td>\n",
       "      <td>2019-01-09T00:26:20Z</td>\n",
       "      <td>2019-10-03T00:00:00Z</td>\n",
       "      <td>717038288</td>\n",
       "      <td>brain_observatory_1.1</td>\n",
       "      <td>100.0</td>\n",
       "      <td>M</td>\n",
       "      <td>wt/wt</td>\n",
       "    </tr>\n",
       "    <tr>\n",
       "      <th>915956349</th>\n",
       "      <td>0.424620</td>\n",
       "      <td>177.115380</td>\n",
       "      <td>0.096378</td>\n",
       "      <td>169.29</td>\n",
       "      <td>2.973959</td>\n",
       "      <td>0.508208</td>\n",
       "      <td>850229419</td>\n",
       "      <td>16.192413</td>\n",
       "      <td>0.192295</td>\n",
       "      <td>0.120715</td>\n",
       "      <td>...</td>\n",
       "      <td>3a</td>\n",
       "      <td>29999.915391</td>\n",
       "      <td>True</td>\n",
       "      <td>2019-01-09T00:26:20Z</td>\n",
       "      <td>2019-10-03T00:00:00Z</td>\n",
       "      <td>717038288</td>\n",
       "      <td>brain_observatory_1.1</td>\n",
       "      <td>100.0</td>\n",
       "      <td>M</td>\n",
       "      <td>wt/wt</td>\n",
       "    </tr>\n",
       "    <tr>\n",
       "      <th>915956356</th>\n",
       "      <td>0.512847</td>\n",
       "      <td>214.954545</td>\n",
       "      <td>0.054706</td>\n",
       "      <td>263.01</td>\n",
       "      <td>2.936851</td>\n",
       "      <td>0.549414</td>\n",
       "      <td>850229419</td>\n",
       "      <td>2.193113</td>\n",
       "      <td>0.233501</td>\n",
       "      <td>0.430427</td>\n",
       "      <td>...</td>\n",
       "      <td>3a</td>\n",
       "      <td>29999.915391</td>\n",
       "      <td>True</td>\n",
       "      <td>2019-01-09T00:26:20Z</td>\n",
       "      <td>2019-10-03T00:00:00Z</td>\n",
       "      <td>717038288</td>\n",
       "      <td>brain_observatory_1.1</td>\n",
       "      <td>100.0</td>\n",
       "      <td>M</td>\n",
       "      <td>wt/wt</td>\n",
       "    </tr>\n",
       "  </tbody>\n",
       "</table>\n",
       "<p>5 rows × 45 columns</p>\n",
       "</div>"
      ],
      "text/plain": [
       "           waveform_PT_ratio  waveform_amplitude  amplitude_cutoff  \\\n",
       "id                                                                   \n",
       "915956282           0.611816          164.878740          0.072728   \n",
       "915956340           0.439372          247.254345          0.000881   \n",
       "915956345           0.500520          251.275830          0.001703   \n",
       "915956349           0.424620          177.115380          0.096378   \n",
       "915956356           0.512847          214.954545          0.054706   \n",
       "\n",
       "           cumulative_drift   d_prime  waveform_duration  ecephys_channel_id  \\\n",
       "id                                                                             \n",
       "915956282            309.71  3.910873           0.535678           850229419   \n",
       "915956340            160.24  5.519024           0.563149           850229419   \n",
       "915956345            129.36  3.559911           0.521943           850229419   \n",
       "915956349            169.29  2.973959           0.508208           850229419   \n",
       "915956356            263.01  2.936851           0.549414           850229419   \n",
       "\n",
       "           firing_rate  waveform_halfwidth  isi_violations  ...  phase  \\\n",
       "id                                                          ...          \n",
       "915956282     6.519432            0.164824        0.104910  ...     3a   \n",
       "915956340     9.660554            0.206030        0.006825  ...     3a   \n",
       "915956345    12.698430            0.192295        0.044936  ...     3a   \n",
       "915956349    16.192413            0.192295        0.120715  ...     3a   \n",
       "915956356     2.193113            0.233501        0.430427  ...     3a   \n",
       "\n",
       "           sampling_rate  has_lfp_data   date_of_acquisition  \\\n",
       "id                                                             \n",
       "915956282   29999.915391          True  2019-01-09T00:26:20Z   \n",
       "915956340   29999.915391          True  2019-01-09T00:26:20Z   \n",
       "915956345   29999.915391          True  2019-01-09T00:26:20Z   \n",
       "915956349   29999.915391          True  2019-01-09T00:26:20Z   \n",
       "915956356   29999.915391          True  2019-01-09T00:26:20Z   \n",
       "\n",
       "                   published_at  specimen_id           session_type  \\\n",
       "id                                                                    \n",
       "915956282  2019-10-03T00:00:00Z    717038288  brain_observatory_1.1   \n",
       "915956340  2019-10-03T00:00:00Z    717038288  brain_observatory_1.1   \n",
       "915956345  2019-10-03T00:00:00Z    717038288  brain_observatory_1.1   \n",
       "915956349  2019-10-03T00:00:00Z    717038288  brain_observatory_1.1   \n",
       "915956356  2019-10-03T00:00:00Z    717038288  brain_observatory_1.1   \n",
       "\n",
       "           age_in_days  sex  genotype  \n",
       "id                                     \n",
       "915956282        100.0    M     wt/wt  \n",
       "915956340        100.0    M     wt/wt  \n",
       "915956345        100.0    M     wt/wt  \n",
       "915956349        100.0    M     wt/wt  \n",
       "915956356        100.0    M     wt/wt  \n",
       "\n",
       "[5 rows x 45 columns]"
      ]
     },
     "execution_count": 4,
     "metadata": {},
     "output_type": "execute_result"
    }
   ],
   "source": [
    "units = cache.get_units()\n",
    "units.head()"
   ]
  },
  {
   "cell_type": "code",
   "execution_count": 5,
   "metadata": {},
   "outputs": [
    {
     "name": "stderr",
     "output_type": "stream",
     "text": [
      "/Users/edoardoghirardo/miniconda/envs/envallen/lib/python3.11/site-packages/hdmf/spec/namespace.py:535: UserWarning: Ignoring cached namespace 'hdmf-common' version 1.1.3 because version 1.8.0 is already loaded.\n",
      "  warn(\"Ignoring cached namespace '%s' version %s because version %s is already loaded.\"\n",
      "/Users/edoardoghirardo/miniconda/envs/envallen/lib/python3.11/site-packages/hdmf/spec/namespace.py:535: UserWarning: Ignoring cached namespace 'core' version 2.2.2 because version 2.7.0 is already loaded.\n",
      "  warn(\"Ignoring cached namespace '%s' version %s because version %s is already loaded.\"\n"
     ]
    }
   ],
   "source": [
    "oursession = cache.get_session_data(798911424) #Returns a session object"
   ]
  },
  {
   "cell_type": "code",
   "execution_count": 6,
   "metadata": {},
   "outputs": [
    {
     "name": "stderr",
     "output_type": "stream",
     "text": [
      "/Users/edoardoghirardo/miniconda/envs/envallen/lib/python3.11/site-packages/hdmf/spec/namespace.py:535: UserWarning: Ignoring cached namespace 'hdmf-common' version 1.1.3 because version 1.8.0 is already loaded.\n",
      "  warn(\"Ignoring cached namespace '%s' version %s because version %s is already loaded.\"\n",
      "/Users/edoardoghirardo/miniconda/envs/envallen/lib/python3.11/site-packages/hdmf/spec/namespace.py:535: UserWarning: Ignoring cached namespace 'core' version 2.2.2 because version 2.7.0 is already loaded.\n",
      "  warn(\"Ignoring cached namespace '%s' version %s because version %s is already loaded.\"\n",
      "/Users/edoardoghirardo/miniconda/envs/envallen/lib/python3.11/site-packages/hdmf/spec/namespace.py:535: UserWarning: Ignoring cached namespace 'hdmf-common' version 1.1.3 because version 1.8.0 is already loaded.\n",
      "  warn(\"Ignoring cached namespace '%s' version %s because version %s is already loaded.\"\n",
      "/Users/edoardoghirardo/miniconda/envs/envallen/lib/python3.11/site-packages/hdmf/spec/namespace.py:535: UserWarning: Ignoring cached namespace 'core' version 2.2.2 because version 2.7.0 is already loaded.\n",
      "  warn(\"Ignoring cached namespace '%s' version %s because version %s is already loaded.\"\n"
     ]
    },
    {
     "data": {
      "application/vnd.microsoft.datawrangler.viewer.v0+json": {
       "columns": [
        {
         "name": "unit_id",
         "rawType": "int64",
         "type": "integer"
        },
        {
         "name": "waveform_PT_ratio",
         "rawType": "float64",
         "type": "float"
        },
        {
         "name": "waveform_amplitude",
         "rawType": "float64",
         "type": "float"
        },
        {
         "name": "amplitude_cutoff",
         "rawType": "float64",
         "type": "float"
        },
        {
         "name": "cluster_id",
         "rawType": "int64",
         "type": "integer"
        },
        {
         "name": "cumulative_drift",
         "rawType": "float64",
         "type": "float"
        },
        {
         "name": "d_prime",
         "rawType": "float64",
         "type": "float"
        },
        {
         "name": "firing_rate",
         "rawType": "float64",
         "type": "float"
        },
        {
         "name": "isi_violations",
         "rawType": "float64",
         "type": "float"
        },
        {
         "name": "isolation_distance",
         "rawType": "float64",
         "type": "float"
        },
        {
         "name": "L_ratio",
         "rawType": "float64",
         "type": "float"
        },
        {
         "name": "local_index",
         "rawType": "int64",
         "type": "integer"
        },
        {
         "name": "max_drift",
         "rawType": "float64",
         "type": "float"
        },
        {
         "name": "nn_hit_rate",
         "rawType": "float64",
         "type": "float"
        },
        {
         "name": "nn_miss_rate",
         "rawType": "float64",
         "type": "float"
        },
        {
         "name": "peak_channel_id",
         "rawType": "int64",
         "type": "integer"
        },
        {
         "name": "presence_ratio",
         "rawType": "float64",
         "type": "float"
        },
        {
         "name": "waveform_recovery_slope",
         "rawType": "float64",
         "type": "float"
        },
        {
         "name": "waveform_repolarization_slope",
         "rawType": "float64",
         "type": "float"
        },
        {
         "name": "silhouette_score",
         "rawType": "float64",
         "type": "float"
        },
        {
         "name": "snr",
         "rawType": "float64",
         "type": "float"
        },
        {
         "name": "waveform_spread",
         "rawType": "float64",
         "type": "float"
        },
        {
         "name": "waveform_velocity_above",
         "rawType": "float64",
         "type": "float"
        },
        {
         "name": "waveform_velocity_below",
         "rawType": "float64",
         "type": "float"
        },
        {
         "name": "waveform_duration",
         "rawType": "float64",
         "type": "float"
        },
        {
         "name": "filtering",
         "rawType": "object",
         "type": "string"
        },
        {
         "name": "probe_channel_number",
         "rawType": "int64",
         "type": "integer"
        },
        {
         "name": "probe_horizontal_position",
         "rawType": "int64",
         "type": "integer"
        },
        {
         "name": "probe_id",
         "rawType": "int64",
         "type": "integer"
        },
        {
         "name": "probe_vertical_position",
         "rawType": "int64",
         "type": "integer"
        },
        {
         "name": "structure_acronym",
         "rawType": "object",
         "type": "string"
        },
        {
         "name": "ecephys_structure_id",
         "rawType": "float64",
         "type": "float"
        },
        {
         "name": "ecephys_structure_acronym",
         "rawType": "object",
         "type": "string"
        },
        {
         "name": "anterior_posterior_ccf_coordinate",
         "rawType": "float64",
         "type": "float"
        },
        {
         "name": "dorsal_ventral_ccf_coordinate",
         "rawType": "float64",
         "type": "float"
        },
        {
         "name": "left_right_ccf_coordinate",
         "rawType": "float64",
         "type": "float"
        },
        {
         "name": "probe_description",
         "rawType": "object",
         "type": "string"
        },
        {
         "name": "location",
         "rawType": "object",
         "type": "string"
        },
        {
         "name": "probe_sampling_rate",
         "rawType": "float64",
         "type": "float"
        },
        {
         "name": "probe_lfp_sampling_rate",
         "rawType": "float64",
         "type": "float"
        },
        {
         "name": "probe_has_lfp_data",
         "rawType": "bool",
         "type": "boolean"
        }
       ],
       "conversionMethod": "pd.DataFrame",
       "ref": "09473385-147b-4141-98fb-a5fff5a24475",
       "rows": [
        [
         "951088679",
         "0.620606870358191",
         "82.147455",
         "0.0236536461428605",
         "1",
         "480.97",
         "2.57564807566661",
         "7.42913138455978",
         "0.0533502167112244",
         "51.3642906269018",
         "0.028062301282542",
         "1",
         "44.88",
         "0.9",
         "0.0425627240143369",
         "849855458",
         "0.99",
         "-0.12349688649029",
         "0.567885479191177",
         "0.0576531832930727",
         "2.92734086468288",
         "40.0",
         "-0.137353433835845",
         null,
         "0.260971524288107",
         "AP band: 500 Hz high-pass; LFP band: 1000 Hz low-pass",
         "1",
         "11",
         "800036196",
         "20",
         "APN",
         "215.0",
         "APN",
         "8328.0",
         "3018.0",
         "7095.0",
         "probeA",
         "See electrode locations",
         "29999.9659742314",
         "1249.99858225964",
         "True"
        ],
        [
         "951088664",
         "0.58704380468356",
         "78.3991650000001",
         "0.00173878552415002",
         "0",
         "427.07",
         "3.08533376515168",
         "6.84386394464391",
         "0.0337324865151357",
         "40.3582930716947",
         "0.0515127285092609",
         "0",
         "36.74",
         "0.815333333333333",
         "0.034198432008651",
         "849855458",
         "0.99",
         "-0.186872520290065",
         "0.851415101603465",
         null,
         "4.10527751541578",
         "40.0",
         "0.343383584589614",
         null,
         "0.260971524288107",
         "AP band: 500 Hz high-pass; LFP band: 1000 Hz low-pass",
         "1",
         "11",
         "800036196",
         "20",
         "APN",
         "215.0",
         "APN",
         "8328.0",
         "3018.0",
         "7095.0",
         "probeA",
         "See electrode locations",
         "29999.9659742314",
         "1249.99858225964",
         "True"
        ],
        [
         "951088734",
         "0.560996021142899",
         "187.504005",
         "0.00124925440872779",
         "5",
         "311.01",
         "5.15256390643775",
         "1.41847597240044",
         "0.356931142161392",
         "56.9509611497678",
         "0.00129228227347346",
         "5",
         "39.79",
         "0.982200647249191",
         "0.000204206657137023",
         "849855466",
         "0.99",
         "-0.212237321001229",
         "0.834119175319326",
         "0.075775692801181",
         "4.04060891292345",
         "50.0",
         "0.0",
         "-0.686767169179227",
         "0.219765494137353",
         "AP band: 500 Hz high-pass; LFP band: 1000 Hz low-pass",
         "5",
         "11",
         "800036196",
         "60",
         "APN",
         "215.0",
         "APN",
         "8316.0",
         "2988.0",
         "7099.0",
         "probeA",
         "See electrode locations",
         "29999.9659742314",
         "1249.99858225964",
         "True"
        ],
        [
         "951088721",
         "0.47445697091909",
         "196.741545",
         "5.92944022429885e-05",
         "4",
         "355.17",
         "4.29501371792914",
         "11.5173810921272",
         "0.000270701672474989",
         "58.3585516837712",
         "0.0202176977297147",
         "4",
         "63.73",
         "0.990666666666667",
         "0.000945051977858782",
         "849855466",
         "0.99",
         "-0.156233554980706",
         "0.83606302716591",
         "0.164986457220555",
         "3.77110910946417",
         "70.0",
         "0.804498683895669",
         "0.68676716917923",
         "0.302177554438861",
         "AP band: 500 Hz high-pass; LFP band: 1000 Hz low-pass",
         "5",
         "11",
         "800036196",
         "60",
         "APN",
         "215.0",
         "APN",
         "8316.0",
         "2988.0",
         "7099.0",
         "probeA",
         "See electrode locations",
         "29999.9659742314",
         "1249.99858225964",
         "True"
        ],
        [
         "951088862",
         "0.534674020273183",
         "92.12502",
         "0.0899008501835906",
         "16",
         "239.5",
         "4.04334802966831",
         "19.9531264873591",
         "0.0136192580701074",
         "79.9342370909681",
         "0.0113351227937152",
         "16",
         "20.43",
         "0.981333333333333",
         "0.00951847704367301",
         "849855474",
         "0.99",
         "-0.100100937647603",
         "0.412598041630975",
         "0.0759192605833311",
         "2.02899247694688",
         "90.0",
         "-0.156975352955252",
         "-0.892797319932998",
         "0.219765494137353",
         "AP band: 500 Hz high-pass; LFP band: 1000 Hz low-pass",
         "9",
         "11",
         "800036196",
         "100",
         "APN",
         "215.0",
         "APN",
         "8304.0",
         "2958.0",
         "7103.0",
         "probeA",
         "See electrode locations",
         "29999.9659742314",
         "1249.99858225964",
         "True"
        ]
       ],
       "shape": {
        "columns": 40,
        "rows": 5
       }
      },
      "text/html": [
       "<div>\n",
       "<style scoped>\n",
       "    .dataframe tbody tr th:only-of-type {\n",
       "        vertical-align: middle;\n",
       "    }\n",
       "\n",
       "    .dataframe tbody tr th {\n",
       "        vertical-align: top;\n",
       "    }\n",
       "\n",
       "    .dataframe thead th {\n",
       "        text-align: right;\n",
       "    }\n",
       "</style>\n",
       "<table border=\"1\" class=\"dataframe\">\n",
       "  <thead>\n",
       "    <tr style=\"text-align: right;\">\n",
       "      <th></th>\n",
       "      <th>waveform_PT_ratio</th>\n",
       "      <th>waveform_amplitude</th>\n",
       "      <th>amplitude_cutoff</th>\n",
       "      <th>cluster_id</th>\n",
       "      <th>cumulative_drift</th>\n",
       "      <th>d_prime</th>\n",
       "      <th>firing_rate</th>\n",
       "      <th>isi_violations</th>\n",
       "      <th>isolation_distance</th>\n",
       "      <th>L_ratio</th>\n",
       "      <th>...</th>\n",
       "      <th>ecephys_structure_id</th>\n",
       "      <th>ecephys_structure_acronym</th>\n",
       "      <th>anterior_posterior_ccf_coordinate</th>\n",
       "      <th>dorsal_ventral_ccf_coordinate</th>\n",
       "      <th>left_right_ccf_coordinate</th>\n",
       "      <th>probe_description</th>\n",
       "      <th>location</th>\n",
       "      <th>probe_sampling_rate</th>\n",
       "      <th>probe_lfp_sampling_rate</th>\n",
       "      <th>probe_has_lfp_data</th>\n",
       "    </tr>\n",
       "    <tr>\n",
       "      <th>unit_id</th>\n",
       "      <th></th>\n",
       "      <th></th>\n",
       "      <th></th>\n",
       "      <th></th>\n",
       "      <th></th>\n",
       "      <th></th>\n",
       "      <th></th>\n",
       "      <th></th>\n",
       "      <th></th>\n",
       "      <th></th>\n",
       "      <th></th>\n",
       "      <th></th>\n",
       "      <th></th>\n",
       "      <th></th>\n",
       "      <th></th>\n",
       "      <th></th>\n",
       "      <th></th>\n",
       "      <th></th>\n",
       "      <th></th>\n",
       "      <th></th>\n",
       "      <th></th>\n",
       "    </tr>\n",
       "  </thead>\n",
       "  <tbody>\n",
       "    <tr>\n",
       "      <th>951088679</th>\n",
       "      <td>0.620607</td>\n",
       "      <td>82.147455</td>\n",
       "      <td>0.023654</td>\n",
       "      <td>1</td>\n",
       "      <td>480.97</td>\n",
       "      <td>2.575648</td>\n",
       "      <td>7.429131</td>\n",
       "      <td>0.053350</td>\n",
       "      <td>51.364291</td>\n",
       "      <td>0.028062</td>\n",
       "      <td>...</td>\n",
       "      <td>215.0</td>\n",
       "      <td>APN</td>\n",
       "      <td>8328.0</td>\n",
       "      <td>3018.0</td>\n",
       "      <td>7095.0</td>\n",
       "      <td>probeA</td>\n",
       "      <td>See electrode locations</td>\n",
       "      <td>29999.965974</td>\n",
       "      <td>1249.998582</td>\n",
       "      <td>True</td>\n",
       "    </tr>\n",
       "    <tr>\n",
       "      <th>951088664</th>\n",
       "      <td>0.587044</td>\n",
       "      <td>78.399165</td>\n",
       "      <td>0.001739</td>\n",
       "      <td>0</td>\n",
       "      <td>427.07</td>\n",
       "      <td>3.085334</td>\n",
       "      <td>6.843864</td>\n",
       "      <td>0.033732</td>\n",
       "      <td>40.358293</td>\n",
       "      <td>0.051513</td>\n",
       "      <td>...</td>\n",
       "      <td>215.0</td>\n",
       "      <td>APN</td>\n",
       "      <td>8328.0</td>\n",
       "      <td>3018.0</td>\n",
       "      <td>7095.0</td>\n",
       "      <td>probeA</td>\n",
       "      <td>See electrode locations</td>\n",
       "      <td>29999.965974</td>\n",
       "      <td>1249.998582</td>\n",
       "      <td>True</td>\n",
       "    </tr>\n",
       "    <tr>\n",
       "      <th>951088734</th>\n",
       "      <td>0.560996</td>\n",
       "      <td>187.504005</td>\n",
       "      <td>0.001249</td>\n",
       "      <td>5</td>\n",
       "      <td>311.01</td>\n",
       "      <td>5.152564</td>\n",
       "      <td>1.418476</td>\n",
       "      <td>0.356931</td>\n",
       "      <td>56.950961</td>\n",
       "      <td>0.001292</td>\n",
       "      <td>...</td>\n",
       "      <td>215.0</td>\n",
       "      <td>APN</td>\n",
       "      <td>8316.0</td>\n",
       "      <td>2988.0</td>\n",
       "      <td>7099.0</td>\n",
       "      <td>probeA</td>\n",
       "      <td>See electrode locations</td>\n",
       "      <td>29999.965974</td>\n",
       "      <td>1249.998582</td>\n",
       "      <td>True</td>\n",
       "    </tr>\n",
       "    <tr>\n",
       "      <th>951088721</th>\n",
       "      <td>0.474457</td>\n",
       "      <td>196.741545</td>\n",
       "      <td>0.000059</td>\n",
       "      <td>4</td>\n",
       "      <td>355.17</td>\n",
       "      <td>4.295014</td>\n",
       "      <td>11.517381</td>\n",
       "      <td>0.000271</td>\n",
       "      <td>58.358552</td>\n",
       "      <td>0.020218</td>\n",
       "      <td>...</td>\n",
       "      <td>215.0</td>\n",
       "      <td>APN</td>\n",
       "      <td>8316.0</td>\n",
       "      <td>2988.0</td>\n",
       "      <td>7099.0</td>\n",
       "      <td>probeA</td>\n",
       "      <td>See electrode locations</td>\n",
       "      <td>29999.965974</td>\n",
       "      <td>1249.998582</td>\n",
       "      <td>True</td>\n",
       "    </tr>\n",
       "    <tr>\n",
       "      <th>951088862</th>\n",
       "      <td>0.534674</td>\n",
       "      <td>92.125020</td>\n",
       "      <td>0.089901</td>\n",
       "      <td>16</td>\n",
       "      <td>239.50</td>\n",
       "      <td>4.043348</td>\n",
       "      <td>19.953126</td>\n",
       "      <td>0.013619</td>\n",
       "      <td>79.934237</td>\n",
       "      <td>0.011335</td>\n",
       "      <td>...</td>\n",
       "      <td>215.0</td>\n",
       "      <td>APN</td>\n",
       "      <td>8304.0</td>\n",
       "      <td>2958.0</td>\n",
       "      <td>7103.0</td>\n",
       "      <td>probeA</td>\n",
       "      <td>See electrode locations</td>\n",
       "      <td>29999.965974</td>\n",
       "      <td>1249.998582</td>\n",
       "      <td>True</td>\n",
       "    </tr>\n",
       "  </tbody>\n",
       "</table>\n",
       "<p>5 rows × 40 columns</p>\n",
       "</div>"
      ],
      "text/plain": [
       "           waveform_PT_ratio  waveform_amplitude  amplitude_cutoff  \\\n",
       "unit_id                                                              \n",
       "951088679           0.620607           82.147455          0.023654   \n",
       "951088664           0.587044           78.399165          0.001739   \n",
       "951088734           0.560996          187.504005          0.001249   \n",
       "951088721           0.474457          196.741545          0.000059   \n",
       "951088862           0.534674           92.125020          0.089901   \n",
       "\n",
       "           cluster_id  cumulative_drift   d_prime  firing_rate  \\\n",
       "unit_id                                                          \n",
       "951088679           1            480.97  2.575648     7.429131   \n",
       "951088664           0            427.07  3.085334     6.843864   \n",
       "951088734           5            311.01  5.152564     1.418476   \n",
       "951088721           4            355.17  4.295014    11.517381   \n",
       "951088862          16            239.50  4.043348    19.953126   \n",
       "\n",
       "           isi_violations  isolation_distance   L_ratio  ...  \\\n",
       "unit_id                                                  ...   \n",
       "951088679        0.053350           51.364291  0.028062  ...   \n",
       "951088664        0.033732           40.358293  0.051513  ...   \n",
       "951088734        0.356931           56.950961  0.001292  ...   \n",
       "951088721        0.000271           58.358552  0.020218  ...   \n",
       "951088862        0.013619           79.934237  0.011335  ...   \n",
       "\n",
       "           ecephys_structure_id  ecephys_structure_acronym  \\\n",
       "unit_id                                                      \n",
       "951088679                 215.0                        APN   \n",
       "951088664                 215.0                        APN   \n",
       "951088734                 215.0                        APN   \n",
       "951088721                 215.0                        APN   \n",
       "951088862                 215.0                        APN   \n",
       "\n",
       "           anterior_posterior_ccf_coordinate  dorsal_ventral_ccf_coordinate  \\\n",
       "unit_id                                                                       \n",
       "951088679                             8328.0                         3018.0   \n",
       "951088664                             8328.0                         3018.0   \n",
       "951088734                             8316.0                         2988.0   \n",
       "951088721                             8316.0                         2988.0   \n",
       "951088862                             8304.0                         2958.0   \n",
       "\n",
       "           left_right_ccf_coordinate  probe_description  \\\n",
       "unit_id                                                   \n",
       "951088679                     7095.0             probeA   \n",
       "951088664                     7095.0             probeA   \n",
       "951088734                     7099.0             probeA   \n",
       "951088721                     7099.0             probeA   \n",
       "951088862                     7103.0             probeA   \n",
       "\n",
       "                          location  probe_sampling_rate  \\\n",
       "unit_id                                                   \n",
       "951088679  See electrode locations         29999.965974   \n",
       "951088664  See electrode locations         29999.965974   \n",
       "951088734  See electrode locations         29999.965974   \n",
       "951088721  See electrode locations         29999.965974   \n",
       "951088862  See electrode locations         29999.965974   \n",
       "\n",
       "           probe_lfp_sampling_rate  probe_has_lfp_data  \n",
       "unit_id                                                 \n",
       "951088679              1249.998582                True  \n",
       "951088664              1249.998582                True  \n",
       "951088734              1249.998582                True  \n",
       "951088721              1249.998582                True  \n",
       "951088862              1249.998582                True  \n",
       "\n",
       "[5 rows x 40 columns]"
      ]
     },
     "execution_count": 6,
     "metadata": {},
     "output_type": "execute_result"
    }
   ],
   "source": [
    "oursession.units.head()"
   ]
  },
  {
   "cell_type": "code",
   "execution_count": 7,
   "metadata": {},
   "outputs": [
    {
     "name": "stderr",
     "output_type": "stream",
     "text": [
      "/Users/edoardoghirardo/miniconda/envs/envallen/lib/python3.11/site-packages/hdmf/spec/namespace.py:535: UserWarning: Ignoring cached namespace 'hdmf-common' version 1.1.3 because version 1.8.0 is already loaded.\n",
      "  warn(\"Ignoring cached namespace '%s' version %s because version %s is already loaded.\"\n",
      "/Users/edoardoghirardo/miniconda/envs/envallen/lib/python3.11/site-packages/hdmf/spec/namespace.py:535: UserWarning: Ignoring cached namespace 'core' version 2.2.2 because version 2.7.0 is already loaded.\n",
      "  warn(\"Ignoring cached namespace '%s' version %s because version %s is already loaded.\"\n",
      "/Users/edoardoghirardo/miniconda/envs/envallen/lib/python3.11/site-packages/hdmf/spec/namespace.py:535: UserWarning: Ignoring cached namespace 'hdmf-common' version 1.1.3 because version 1.8.0 is already loaded.\n",
      "  warn(\"Ignoring cached namespace '%s' version %s because version %s is already loaded.\"\n",
      "/Users/edoardoghirardo/miniconda/envs/envallen/lib/python3.11/site-packages/hdmf/spec/namespace.py:535: UserWarning: Ignoring cached namespace 'core' version 2.2.2 because version 2.7.0 is already loaded.\n",
      "  warn(\"Ignoring cached namespace '%s' version %s because version %s is already loaded.\"\n"
     ]
    },
    {
     "data": {
      "text/plain": [
       "['spontaneous',\n",
       " 'gabors',\n",
       " 'flashes',\n",
       " 'drifting_gratings',\n",
       " 'natural_movie_three',\n",
       " 'natural_movie_one',\n",
       " 'static_gratings',\n",
       " 'natural_scenes',\n",
       " 'drifting_gratings_contrast']"
      ]
     },
     "execution_count": 7,
     "metadata": {},
     "output_type": "execute_result"
    }
   ],
   "source": [
    "oursession.metadata['stimulus_names']"
   ]
  },
  {
   "cell_type": "code",
   "execution_count": 8,
   "metadata": {},
   "outputs": [
    {
     "data": {
      "application/vnd.microsoft.datawrangler.viewer.v0+json": {
       "columns": [
        {
         "name": "stimulus_presentation_id",
         "rawType": "int64",
         "type": "integer"
        },
        {
         "name": "stimulus_block",
         "rawType": "object",
         "type": "string"
        },
        {
         "name": "start_time",
         "rawType": "float64",
         "type": "float"
        },
        {
         "name": "stop_time",
         "rawType": "float64",
         "type": "float"
        },
        {
         "name": "stimulus_name",
         "rawType": "object",
         "type": "string"
        },
        {
         "name": "y_position",
         "rawType": "object",
         "type": "string"
        },
        {
         "name": "size",
         "rawType": "object",
         "type": "string"
        },
        {
         "name": "color",
         "rawType": "object",
         "type": "string"
        },
        {
         "name": "contrast",
         "rawType": "object",
         "type": "string"
        },
        {
         "name": "phase",
         "rawType": "object",
         "type": "string"
        },
        {
         "name": "spatial_frequency",
         "rawType": "object",
         "type": "string"
        },
        {
         "name": "frame",
         "rawType": "object",
         "type": "string"
        },
        {
         "name": "orientation",
         "rawType": "object",
         "type": "string"
        },
        {
         "name": "x_position",
         "rawType": "object",
         "type": "string"
        },
        {
         "name": "temporal_frequency",
         "rawType": "object",
         "type": "string"
        },
        {
         "name": "duration",
         "rawType": "float64",
         "type": "float"
        },
        {
         "name": "stimulus_condition_id",
         "rawType": "int64",
         "type": "integer"
        }
       ],
       "conversionMethod": "pd.DataFrame",
       "ref": "7d352188-d2c7-4b53-bd4d-08c910ef01c0",
       "rows": [
        [
         "0",
         "null",
         "24.875986561008897",
         "84.9427865610089",
         "spontaneous",
         "null",
         "null",
         "null",
         "null",
         "null",
         "null",
         "null",
         "null",
         "null",
         "null",
         "60.0668",
         "0"
        ],
        [
         "1",
         "0.0",
         "84.9427865610089",
         "85.1763058428053",
         "gabors",
         "-10.0",
         "[20.0, 20.0]",
         "null",
         "0.8",
         "[3644.93333333, 3644.93333333]",
         "0.08",
         "null",
         "90.0",
         "20.0",
         "4.0",
         "0.23351928179640424",
         "1"
        ],
        [
         "2",
         "0.0",
         "85.1763058428053",
         "85.42650507330144",
         "gabors",
         "40.0",
         "[20.0, 20.0]",
         "null",
         "0.8",
         "[3644.93333333, 3644.93333333]",
         "0.08",
         "null",
         "0.0",
         "30.0",
         "4.0",
         "0.25019923049613624",
         "2"
        ],
        [
         "3",
         "0.0",
         "85.42650507330144",
         "85.67670430379759",
         "gabors",
         "-30.0",
         "[20.0, 20.0]",
         "null",
         "0.8",
         "[3644.93333333, 3644.93333333]",
         "0.08",
         "null",
         "45.0",
         "40.0",
         "4.0",
         "0.25019923049615045",
         "3"
        ],
        [
         "4",
         "0.0",
         "85.67670430379759",
         "85.92690353429377",
         "gabors",
         "-40.0",
         "[20.0, 20.0]",
         "null",
         "0.8",
         "[3644.93333333, 3644.93333333]",
         "0.08",
         "null",
         "90.0",
         "0.0",
         "4.0",
         "0.25019923049617887",
         "4"
        ]
       ],
       "shape": {
        "columns": 16,
        "rows": 5
       }
      },
      "text/html": [
       "<div>\n",
       "<style scoped>\n",
       "    .dataframe tbody tr th:only-of-type {\n",
       "        vertical-align: middle;\n",
       "    }\n",
       "\n",
       "    .dataframe tbody tr th {\n",
       "        vertical-align: top;\n",
       "    }\n",
       "\n",
       "    .dataframe thead th {\n",
       "        text-align: right;\n",
       "    }\n",
       "</style>\n",
       "<table border=\"1\" class=\"dataframe\">\n",
       "  <thead>\n",
       "    <tr style=\"text-align: right;\">\n",
       "      <th></th>\n",
       "      <th>stimulus_block</th>\n",
       "      <th>start_time</th>\n",
       "      <th>stop_time</th>\n",
       "      <th>stimulus_name</th>\n",
       "      <th>y_position</th>\n",
       "      <th>size</th>\n",
       "      <th>color</th>\n",
       "      <th>contrast</th>\n",
       "      <th>phase</th>\n",
       "      <th>spatial_frequency</th>\n",
       "      <th>frame</th>\n",
       "      <th>orientation</th>\n",
       "      <th>x_position</th>\n",
       "      <th>temporal_frequency</th>\n",
       "      <th>duration</th>\n",
       "      <th>stimulus_condition_id</th>\n",
       "    </tr>\n",
       "    <tr>\n",
       "      <th>stimulus_presentation_id</th>\n",
       "      <th></th>\n",
       "      <th></th>\n",
       "      <th></th>\n",
       "      <th></th>\n",
       "      <th></th>\n",
       "      <th></th>\n",
       "      <th></th>\n",
       "      <th></th>\n",
       "      <th></th>\n",
       "      <th></th>\n",
       "      <th></th>\n",
       "      <th></th>\n",
       "      <th></th>\n",
       "      <th></th>\n",
       "      <th></th>\n",
       "      <th></th>\n",
       "    </tr>\n",
       "  </thead>\n",
       "  <tbody>\n",
       "    <tr>\n",
       "      <th>0</th>\n",
       "      <td>null</td>\n",
       "      <td>24.875987</td>\n",
       "      <td>84.942787</td>\n",
       "      <td>spontaneous</td>\n",
       "      <td>null</td>\n",
       "      <td>null</td>\n",
       "      <td>null</td>\n",
       "      <td>null</td>\n",
       "      <td>null</td>\n",
       "      <td>null</td>\n",
       "      <td>null</td>\n",
       "      <td>null</td>\n",
       "      <td>null</td>\n",
       "      <td>null</td>\n",
       "      <td>60.066800</td>\n",
       "      <td>0</td>\n",
       "    </tr>\n",
       "    <tr>\n",
       "      <th>1</th>\n",
       "      <td>0.0</td>\n",
       "      <td>84.942787</td>\n",
       "      <td>85.176306</td>\n",
       "      <td>gabors</td>\n",
       "      <td>-10.0</td>\n",
       "      <td>[20.0, 20.0]</td>\n",
       "      <td>null</td>\n",
       "      <td>0.8</td>\n",
       "      <td>[3644.93333333, 3644.93333333]</td>\n",
       "      <td>0.08</td>\n",
       "      <td>null</td>\n",
       "      <td>90.0</td>\n",
       "      <td>20.0</td>\n",
       "      <td>4.0</td>\n",
       "      <td>0.233519</td>\n",
       "      <td>1</td>\n",
       "    </tr>\n",
       "    <tr>\n",
       "      <th>2</th>\n",
       "      <td>0.0</td>\n",
       "      <td>85.176306</td>\n",
       "      <td>85.426505</td>\n",
       "      <td>gabors</td>\n",
       "      <td>40.0</td>\n",
       "      <td>[20.0, 20.0]</td>\n",
       "      <td>null</td>\n",
       "      <td>0.8</td>\n",
       "      <td>[3644.93333333, 3644.93333333]</td>\n",
       "      <td>0.08</td>\n",
       "      <td>null</td>\n",
       "      <td>0.0</td>\n",
       "      <td>30.0</td>\n",
       "      <td>4.0</td>\n",
       "      <td>0.250199</td>\n",
       "      <td>2</td>\n",
       "    </tr>\n",
       "    <tr>\n",
       "      <th>3</th>\n",
       "      <td>0.0</td>\n",
       "      <td>85.426505</td>\n",
       "      <td>85.676704</td>\n",
       "      <td>gabors</td>\n",
       "      <td>-30.0</td>\n",
       "      <td>[20.0, 20.0]</td>\n",
       "      <td>null</td>\n",
       "      <td>0.8</td>\n",
       "      <td>[3644.93333333, 3644.93333333]</td>\n",
       "      <td>0.08</td>\n",
       "      <td>null</td>\n",
       "      <td>45.0</td>\n",
       "      <td>40.0</td>\n",
       "      <td>4.0</td>\n",
       "      <td>0.250199</td>\n",
       "      <td>3</td>\n",
       "    </tr>\n",
       "    <tr>\n",
       "      <th>4</th>\n",
       "      <td>0.0</td>\n",
       "      <td>85.676704</td>\n",
       "      <td>85.926904</td>\n",
       "      <td>gabors</td>\n",
       "      <td>-40.0</td>\n",
       "      <td>[20.0, 20.0]</td>\n",
       "      <td>null</td>\n",
       "      <td>0.8</td>\n",
       "      <td>[3644.93333333, 3644.93333333]</td>\n",
       "      <td>0.08</td>\n",
       "      <td>null</td>\n",
       "      <td>90.0</td>\n",
       "      <td>0.0</td>\n",
       "      <td>4.0</td>\n",
       "      <td>0.250199</td>\n",
       "      <td>4</td>\n",
       "    </tr>\n",
       "  </tbody>\n",
       "</table>\n",
       "</div>"
      ],
      "text/plain": [
       "                         stimulus_block  start_time  stop_time stimulus_name  \\\n",
       "stimulus_presentation_id                                                       \n",
       "0                                  null   24.875987  84.942787   spontaneous   \n",
       "1                                   0.0   84.942787  85.176306        gabors   \n",
       "2                                   0.0   85.176306  85.426505        gabors   \n",
       "3                                   0.0   85.426505  85.676704        gabors   \n",
       "4                                   0.0   85.676704  85.926904        gabors   \n",
       "\n",
       "                         y_position          size color contrast  \\\n",
       "stimulus_presentation_id                                           \n",
       "0                              null          null  null     null   \n",
       "1                             -10.0  [20.0, 20.0]  null      0.8   \n",
       "2                              40.0  [20.0, 20.0]  null      0.8   \n",
       "3                             -30.0  [20.0, 20.0]  null      0.8   \n",
       "4                             -40.0  [20.0, 20.0]  null      0.8   \n",
       "\n",
       "                                                   phase spatial_frequency  \\\n",
       "stimulus_presentation_id                                                     \n",
       "0                                                   null              null   \n",
       "1                         [3644.93333333, 3644.93333333]              0.08   \n",
       "2                         [3644.93333333, 3644.93333333]              0.08   \n",
       "3                         [3644.93333333, 3644.93333333]              0.08   \n",
       "4                         [3644.93333333, 3644.93333333]              0.08   \n",
       "\n",
       "                         frame orientation x_position temporal_frequency  \\\n",
       "stimulus_presentation_id                                                   \n",
       "0                         null        null       null               null   \n",
       "1                         null        90.0       20.0                4.0   \n",
       "2                         null         0.0       30.0                4.0   \n",
       "3                         null        45.0       40.0                4.0   \n",
       "4                         null        90.0        0.0                4.0   \n",
       "\n",
       "                           duration  stimulus_condition_id  \n",
       "stimulus_presentation_id                                    \n",
       "0                         60.066800                      0  \n",
       "1                          0.233519                      1  \n",
       "2                          0.250199                      2  \n",
       "3                          0.250199                      3  \n",
       "4                          0.250199                      4  "
      ]
     },
     "execution_count": 8,
     "metadata": {},
     "output_type": "execute_result"
    }
   ],
   "source": [
    "oursession.get_stimulus_table().head()"
   ]
  },
  {
   "cell_type": "code",
   "execution_count": 52,
   "metadata": {},
   "outputs": [
    {
     "data": {
      "application/vnd.microsoft.datawrangler.viewer.v0+json": {
       "columns": [
        {
         "name": "stimulus_presentation_id",
         "rawType": "int64",
         "type": "integer"
        },
        {
         "name": "stimulus_block",
         "rawType": "object",
         "type": "string"
        },
        {
         "name": "start_time",
         "rawType": "float64",
         "type": "float"
        },
        {
         "name": "stop_time",
         "rawType": "float64",
         "type": "float"
        },
        {
         "name": "stimulus_name",
         "rawType": "object",
         "type": "string"
        },
        {
         "name": "size",
         "rawType": "object",
         "type": "string"
        },
        {
         "name": "contrast",
         "rawType": "object",
         "type": "string"
        },
        {
         "name": "phase",
         "rawType": "object",
         "type": "string"
        },
        {
         "name": "spatial_frequency",
         "rawType": "object",
         "type": "string"
        },
        {
         "name": "orientation",
         "rawType": "object",
         "type": "string"
        },
        {
         "name": "temporal_frequency",
         "rawType": "object",
         "type": "string"
        },
        {
         "name": "duration",
         "rawType": "float64",
         "type": "float"
        },
        {
         "name": "stimulus_condition_id",
         "rawType": "int64",
         "type": "integer"
        }
       ],
       "conversionMethod": "pd.DataFrame",
       "ref": "9dba09d4-a9ad-4282-89ab-e379dc73cfcd",
       "rows": [
        [
         "3798",
         "2.0",
         "1586.180716561009",
         "1588.1823865610088",
         "drifting_gratings",
         "[250.0, 250.0]",
         "0.8",
         "[5308.98333333, 5308.98333333]",
         "0.04",
         "0.0",
         "15.0",
         "2.0016699999998764",
         "246"
        ],
        [
         "3799",
         "2.0",
         "1589.1832435342938",
         "1591.1849235342938",
         "drifting_gratings",
         "[250.0, 250.0]",
         "0.8",
         "[5308.98333333, 5308.98333333]",
         "0.04",
         "180.0",
         "2.0",
         "2.0016800000000785",
         "247"
        ],
        [
         "3800",
         "2.0",
         "1592.185736561009",
         "1594.1874265610088",
         "drifting_gratings",
         "[250.0, 250.0]",
         "0.8",
         "[5308.98333333, 5308.98333333]",
         "0.04",
         "45.0",
         "1.0",
         "2.001689999999826",
         "248"
        ],
        [
         "3801",
         "2.0",
         "1595.1882735342938",
         "1597.1899435342934",
         "drifting_gratings",
         "[250.0, 250.0]",
         "0.8",
         "[5308.98333333, 5308.98333333]",
         "0.04",
         "90.0",
         "8.0",
         "2.001669999999649",
         "249"
        ],
        [
         "3802",
         "2.0",
         "1598.190776561009",
         "1600.1924465610089",
         "drifting_gratings",
         "[250.0, 250.0]",
         "0.8",
         "[5308.98333333, 5308.98333333]",
         "0.04",
         "270.0",
         "2.0",
         "2.0016699999998764",
         "250"
        ]
       ],
       "shape": {
        "columns": 12,
        "rows": 5
       }
      },
      "text/html": [
       "<div>\n",
       "<style scoped>\n",
       "    .dataframe tbody tr th:only-of-type {\n",
       "        vertical-align: middle;\n",
       "    }\n",
       "\n",
       "    .dataframe tbody tr th {\n",
       "        vertical-align: top;\n",
       "    }\n",
       "\n",
       "    .dataframe thead th {\n",
       "        text-align: right;\n",
       "    }\n",
       "</style>\n",
       "<table border=\"1\" class=\"dataframe\">\n",
       "  <thead>\n",
       "    <tr style=\"text-align: right;\">\n",
       "      <th></th>\n",
       "      <th>stimulus_block</th>\n",
       "      <th>start_time</th>\n",
       "      <th>stop_time</th>\n",
       "      <th>stimulus_name</th>\n",
       "      <th>size</th>\n",
       "      <th>contrast</th>\n",
       "      <th>phase</th>\n",
       "      <th>spatial_frequency</th>\n",
       "      <th>orientation</th>\n",
       "      <th>temporal_frequency</th>\n",
       "      <th>duration</th>\n",
       "      <th>stimulus_condition_id</th>\n",
       "    </tr>\n",
       "    <tr>\n",
       "      <th>stimulus_presentation_id</th>\n",
       "      <th></th>\n",
       "      <th></th>\n",
       "      <th></th>\n",
       "      <th></th>\n",
       "      <th></th>\n",
       "      <th></th>\n",
       "      <th></th>\n",
       "      <th></th>\n",
       "      <th></th>\n",
       "      <th></th>\n",
       "      <th></th>\n",
       "      <th></th>\n",
       "    </tr>\n",
       "  </thead>\n",
       "  <tbody>\n",
       "    <tr>\n",
       "      <th>3798</th>\n",
       "      <td>2.0</td>\n",
       "      <td>1586.180717</td>\n",
       "      <td>1588.182387</td>\n",
       "      <td>drifting_gratings</td>\n",
       "      <td>[250.0, 250.0]</td>\n",
       "      <td>0.8</td>\n",
       "      <td>[5308.98333333, 5308.98333333]</td>\n",
       "      <td>0.04</td>\n",
       "      <td>0.0</td>\n",
       "      <td>15.0</td>\n",
       "      <td>2.00167</td>\n",
       "      <td>246</td>\n",
       "    </tr>\n",
       "    <tr>\n",
       "      <th>3799</th>\n",
       "      <td>2.0</td>\n",
       "      <td>1589.183244</td>\n",
       "      <td>1591.184924</td>\n",
       "      <td>drifting_gratings</td>\n",
       "      <td>[250.0, 250.0]</td>\n",
       "      <td>0.8</td>\n",
       "      <td>[5308.98333333, 5308.98333333]</td>\n",
       "      <td>0.04</td>\n",
       "      <td>180.0</td>\n",
       "      <td>2.0</td>\n",
       "      <td>2.00168</td>\n",
       "      <td>247</td>\n",
       "    </tr>\n",
       "    <tr>\n",
       "      <th>3800</th>\n",
       "      <td>2.0</td>\n",
       "      <td>1592.185737</td>\n",
       "      <td>1594.187427</td>\n",
       "      <td>drifting_gratings</td>\n",
       "      <td>[250.0, 250.0]</td>\n",
       "      <td>0.8</td>\n",
       "      <td>[5308.98333333, 5308.98333333]</td>\n",
       "      <td>0.04</td>\n",
       "      <td>45.0</td>\n",
       "      <td>1.0</td>\n",
       "      <td>2.00169</td>\n",
       "      <td>248</td>\n",
       "    </tr>\n",
       "    <tr>\n",
       "      <th>3801</th>\n",
       "      <td>2.0</td>\n",
       "      <td>1595.188274</td>\n",
       "      <td>1597.189944</td>\n",
       "      <td>drifting_gratings</td>\n",
       "      <td>[250.0, 250.0]</td>\n",
       "      <td>0.8</td>\n",
       "      <td>[5308.98333333, 5308.98333333]</td>\n",
       "      <td>0.04</td>\n",
       "      <td>90.0</td>\n",
       "      <td>8.0</td>\n",
       "      <td>2.00167</td>\n",
       "      <td>249</td>\n",
       "    </tr>\n",
       "    <tr>\n",
       "      <th>3802</th>\n",
       "      <td>2.0</td>\n",
       "      <td>1598.190777</td>\n",
       "      <td>1600.192447</td>\n",
       "      <td>drifting_gratings</td>\n",
       "      <td>[250.0, 250.0]</td>\n",
       "      <td>0.8</td>\n",
       "      <td>[5308.98333333, 5308.98333333]</td>\n",
       "      <td>0.04</td>\n",
       "      <td>270.0</td>\n",
       "      <td>2.0</td>\n",
       "      <td>2.00167</td>\n",
       "      <td>250</td>\n",
       "    </tr>\n",
       "  </tbody>\n",
       "</table>\n",
       "</div>"
      ],
      "text/plain": [
       "                         stimulus_block   start_time    stop_time  \\\n",
       "stimulus_presentation_id                                            \n",
       "3798                                2.0  1586.180717  1588.182387   \n",
       "3799                                2.0  1589.183244  1591.184924   \n",
       "3800                                2.0  1592.185737  1594.187427   \n",
       "3801                                2.0  1595.188274  1597.189944   \n",
       "3802                                2.0  1598.190777  1600.192447   \n",
       "\n",
       "                              stimulus_name            size contrast  \\\n",
       "stimulus_presentation_id                                               \n",
       "3798                      drifting_gratings  [250.0, 250.0]      0.8   \n",
       "3799                      drifting_gratings  [250.0, 250.0]      0.8   \n",
       "3800                      drifting_gratings  [250.0, 250.0]      0.8   \n",
       "3801                      drifting_gratings  [250.0, 250.0]      0.8   \n",
       "3802                      drifting_gratings  [250.0, 250.0]      0.8   \n",
       "\n",
       "                                                   phase spatial_frequency  \\\n",
       "stimulus_presentation_id                                                     \n",
       "3798                      [5308.98333333, 5308.98333333]              0.04   \n",
       "3799                      [5308.98333333, 5308.98333333]              0.04   \n",
       "3800                      [5308.98333333, 5308.98333333]              0.04   \n",
       "3801                      [5308.98333333, 5308.98333333]              0.04   \n",
       "3802                      [5308.98333333, 5308.98333333]              0.04   \n",
       "\n",
       "                         orientation temporal_frequency  duration  \\\n",
       "stimulus_presentation_id                                            \n",
       "3798                             0.0               15.0   2.00167   \n",
       "3799                           180.0                2.0   2.00168   \n",
       "3800                            45.0                1.0   2.00169   \n",
       "3801                            90.0                8.0   2.00167   \n",
       "3802                           270.0                2.0   2.00167   \n",
       "\n",
       "                          stimulus_condition_id  \n",
       "stimulus_presentation_id                         \n",
       "3798                                        246  \n",
       "3799                                        247  \n",
       "3800                                        248  \n",
       "3801                                        249  \n",
       "3802                                        250  "
      ]
     },
     "execution_count": 52,
     "metadata": {},
     "output_type": "execute_result"
    }
   ],
   "source": [
    "stimuli_table = oursession.get_stimulus_table('drifting_gratings').head()\n",
    "stimuli_table"
   ]
  },
  {
   "cell_type": "code",
   "execution_count": 47,
   "metadata": {},
   "outputs": [],
   "source": [
    "stimuli_ids = stimuli_table.index"
   ]
  },
  {
   "cell_type": "code",
   "execution_count": null,
   "metadata": {},
   "outputs": [],
   "source": [
    "spikes_per_stimulus = oursession.presentationwise_spike_times(stimulus_presentation_ids = stimuli_ids)"
   ]
  },
  {
   "cell_type": "code",
   "execution_count": 41,
   "metadata": {},
   "outputs": [],
   "source": [
    "spikes_per_stimulus.reset_index(inplace=True)"
   ]
  },
  {
   "cell_type": "code",
   "execution_count": 45,
   "metadata": {},
   "outputs": [
    {
     "data": {
      "application/vnd.microsoft.datawrangler.viewer.v0+json": {
       "columns": [
        {
         "name": "index",
         "rawType": "int64",
         "type": "integer"
        },
        {
         "name": "stimulus_presentation_id",
         "rawType": "int64",
         "type": "integer"
        },
        {
         "name": "unit_id",
         "rawType": "int64",
         "type": "integer"
        },
        {
         "name": "spike_count",
         "rawType": "int64",
         "type": "integer"
        }
       ],
       "conversionMethod": "pd.DataFrame",
       "ref": "e2c85cef-e611-4e35-9df2-3bb29849aac6",
       "rows": [
        [
         "0",
         "3798",
         "951088664",
         "25"
        ],
        [
         "1",
         "3798",
         "951088679",
         "24"
        ],
        [
         "2",
         "3798",
         "951088721",
         "25"
        ],
        [
         "3",
         "3798",
         "951088823",
         "2"
        ],
        [
         "4",
         "3798",
         "951088862",
         "78"
        ],
        [
         "5",
         "3798",
         "951088891",
         "2"
        ],
        [
         "6",
         "3798",
         "951088939",
         "26"
        ],
        [
         "7",
         "3798",
         "951088948",
         "134"
        ],
        [
         "8",
         "3798",
         "951088957",
         "6"
        ],
        [
         "9",
         "3798",
         "951088968",
         "98"
        ],
        [
         "10",
         "3798",
         "951089004",
         "23"
        ],
        [
         "11",
         "3798",
         "951089020",
         "130"
        ],
        [
         "12",
         "3798",
         "951089071",
         "2"
        ],
        [
         "13",
         "3798",
         "951089083",
         "53"
        ],
        [
         "14",
         "3798",
         "951089095",
         "7"
        ],
        [
         "15",
         "3798",
         "951089130",
         "52"
        ],
        [
         "16",
         "3798",
         "951089164",
         "67"
        ],
        [
         "17",
         "3798",
         "951089174",
         "46"
        ],
        [
         "18",
         "3798",
         "951089184",
         "2"
        ],
        [
         "19",
         "3798",
         "951089195",
         "169"
        ],
        [
         "20",
         "3798",
         "951089339",
         "14"
        ],
        [
         "21",
         "3798",
         "951089429",
         "70"
        ],
        [
         "22",
         "3798",
         "951089459",
         "1"
        ],
        [
         "23",
         "3798",
         "951089488",
         "163"
        ],
        [
         "24",
         "3798",
         "951089538",
         "142"
        ],
        [
         "25",
         "3798",
         "951089592",
         "11"
        ],
        [
         "26",
         "3798",
         "951089704",
         "18"
        ],
        [
         "27",
         "3798",
         "951089925",
         "4"
        ],
        [
         "28",
         "3798",
         "951090214",
         "49"
        ],
        [
         "29",
         "3798",
         "951090343",
         "5"
        ],
        [
         "30",
         "3798",
         "951090551",
         "19"
        ],
        [
         "31",
         "3798",
         "951090679",
         "13"
        ],
        [
         "32",
         "3798",
         "951090729",
         "11"
        ],
        [
         "33",
         "3798",
         "951090804",
         "3"
        ],
        [
         "34",
         "3798",
         "951090856",
         "3"
        ],
        [
         "35",
         "3798",
         "951090924",
         "5"
        ],
        [
         "36",
         "3798",
         "951090982",
         "9"
        ],
        [
         "37",
         "3798",
         "951091025",
         "6"
        ],
        [
         "38",
         "3798",
         "951091188",
         "36"
        ],
        [
         "39",
         "3798",
         "951091287",
         "8"
        ],
        [
         "40",
         "3798",
         "951091304",
         "30"
        ],
        [
         "41",
         "3798",
         "951091412",
         "6"
        ],
        [
         "42",
         "3798",
         "951091444",
         "22"
        ],
        [
         "43",
         "3798",
         "951091492",
         "17"
        ],
        [
         "44",
         "3798",
         "951091758",
         "14"
        ],
        [
         "45",
         "3798",
         "951091785",
         "39"
        ],
        [
         "46",
         "3798",
         "951091890",
         "6"
        ],
        [
         "47",
         "3798",
         "951091914",
         "8"
        ],
        [
         "48",
         "3798",
         "951092050",
         "46"
        ],
        [
         "49",
         "3798",
         "951092075",
         "20"
        ]
       ],
       "shape": {
        "columns": 3,
        "rows": 396810
       }
      },
      "text/html": [
       "<div>\n",
       "<style scoped>\n",
       "    .dataframe tbody tr th:only-of-type {\n",
       "        vertical-align: middle;\n",
       "    }\n",
       "\n",
       "    .dataframe tbody tr th {\n",
       "        vertical-align: top;\n",
       "    }\n",
       "\n",
       "    .dataframe thead th {\n",
       "        text-align: right;\n",
       "    }\n",
       "</style>\n",
       "<table border=\"1\" class=\"dataframe\">\n",
       "  <thead>\n",
       "    <tr style=\"text-align: right;\">\n",
       "      <th></th>\n",
       "      <th>stimulus_presentation_id</th>\n",
       "      <th>unit_id</th>\n",
       "      <th>spike_count</th>\n",
       "    </tr>\n",
       "  </thead>\n",
       "  <tbody>\n",
       "    <tr>\n",
       "      <th>0</th>\n",
       "      <td>3798</td>\n",
       "      <td>951088664</td>\n",
       "      <td>25</td>\n",
       "    </tr>\n",
       "    <tr>\n",
       "      <th>1</th>\n",
       "      <td>3798</td>\n",
       "      <td>951088679</td>\n",
       "      <td>24</td>\n",
       "    </tr>\n",
       "    <tr>\n",
       "      <th>2</th>\n",
       "      <td>3798</td>\n",
       "      <td>951088721</td>\n",
       "      <td>25</td>\n",
       "    </tr>\n",
       "    <tr>\n",
       "      <th>3</th>\n",
       "      <td>3798</td>\n",
       "      <td>951088823</td>\n",
       "      <td>2</td>\n",
       "    </tr>\n",
       "    <tr>\n",
       "      <th>4</th>\n",
       "      <td>3798</td>\n",
       "      <td>951088862</td>\n",
       "      <td>78</td>\n",
       "    </tr>\n",
       "    <tr>\n",
       "      <th>...</th>\n",
       "      <td>...</td>\n",
       "      <td>...</td>\n",
       "      <td>...</td>\n",
       "    </tr>\n",
       "    <tr>\n",
       "      <th>396805</th>\n",
       "      <td>49432</td>\n",
       "      <td>951117127</td>\n",
       "      <td>23</td>\n",
       "    </tr>\n",
       "    <tr>\n",
       "      <th>396806</th>\n",
       "      <td>49432</td>\n",
       "      <td>951117252</td>\n",
       "      <td>22</td>\n",
       "    </tr>\n",
       "    <tr>\n",
       "      <th>396807</th>\n",
       "      <td>49432</td>\n",
       "      <td>951117258</td>\n",
       "      <td>6</td>\n",
       "    </tr>\n",
       "    <tr>\n",
       "      <th>396808</th>\n",
       "      <td>49432</td>\n",
       "      <td>951117264</td>\n",
       "      <td>21</td>\n",
       "    </tr>\n",
       "    <tr>\n",
       "      <th>396809</th>\n",
       "      <td>49432</td>\n",
       "      <td>951117389</td>\n",
       "      <td>1</td>\n",
       "    </tr>\n",
       "  </tbody>\n",
       "</table>\n",
       "<p>396810 rows × 3 columns</p>\n",
       "</div>"
      ],
      "text/plain": [
       "        stimulus_presentation_id    unit_id  spike_count\n",
       "0                           3798  951088664           25\n",
       "1                           3798  951088679           24\n",
       "2                           3798  951088721           25\n",
       "3                           3798  951088823            2\n",
       "4                           3798  951088862           78\n",
       "...                          ...        ...          ...\n",
       "396805                     49432  951117127           23\n",
       "396806                     49432  951117252           22\n",
       "396807                     49432  951117258            6\n",
       "396808                     49432  951117264           21\n",
       "396809                     49432  951117389            1\n",
       "\n",
       "[396810 rows x 3 columns]"
      ]
     },
     "execution_count": 45,
     "metadata": {},
     "output_type": "execute_result"
    }
   ],
   "source": [
    "spike_counts = spikes_per_stimulus.groupby(['stimulus_presentation_id', 'unit_id'])['spike_time'].count().reset_index()\n",
    "spike_counts.rename(columns={'spike_time': 'spike_count'}, inplace=True)\n",
    "spike_counts"
   ]
  },
  {
   "cell_type": "code",
   "execution_count": 55,
   "metadata": {},
   "outputs": [
    {
     "data": {
      "application/vnd.microsoft.datawrangler.viewer.v0+json": {
       "columns": [
        {
         "name": "index",
         "rawType": "int64",
         "type": "integer"
        },
        {
         "name": "stimulus_presentation_id",
         "rawType": "int64",
         "type": "integer"
        },
        {
         "name": "unit_id",
         "rawType": "int64",
         "type": "integer"
        },
        {
         "name": "spike_count",
         "rawType": "int64",
         "type": "integer"
        },
        {
         "name": "spatial_frequency",
         "rawType": "object",
         "type": "string"
        },
        {
         "name": "temporal_frequency",
         "rawType": "object",
         "type": "string"
        }
       ],
       "conversionMethod": "pd.DataFrame",
       "ref": "d8dace03-c60a-455b-9136-2a6e80084501",
       "rows": [
        [
         "0",
         "3798",
         "951088664",
         "25",
         "0.04",
         "15.0"
        ],
        [
         "1",
         "3798",
         "951088679",
         "24",
         "0.04",
         "15.0"
        ],
        [
         "2",
         "3798",
         "951088721",
         "25",
         "0.04",
         "15.0"
        ],
        [
         "3",
         "3798",
         "951088823",
         "2",
         "0.04",
         "15.0"
        ],
        [
         "4",
         "3798",
         "951088862",
         "78",
         "0.04",
         "15.0"
        ],
        [
         "5",
         "3798",
         "951088891",
         "2",
         "0.04",
         "15.0"
        ],
        [
         "6",
         "3798",
         "951088939",
         "26",
         "0.04",
         "15.0"
        ],
        [
         "7",
         "3798",
         "951088948",
         "134",
         "0.04",
         "15.0"
        ],
        [
         "8",
         "3798",
         "951088957",
         "6",
         "0.04",
         "15.0"
        ],
        [
         "9",
         "3798",
         "951088968",
         "98",
         "0.04",
         "15.0"
        ],
        [
         "10",
         "3798",
         "951089004",
         "23",
         "0.04",
         "15.0"
        ],
        [
         "11",
         "3798",
         "951089020",
         "130",
         "0.04",
         "15.0"
        ],
        [
         "12",
         "3798",
         "951089071",
         "2",
         "0.04",
         "15.0"
        ],
        [
         "13",
         "3798",
         "951089083",
         "53",
         "0.04",
         "15.0"
        ],
        [
         "14",
         "3798",
         "951089095",
         "7",
         "0.04",
         "15.0"
        ],
        [
         "15",
         "3798",
         "951089130",
         "52",
         "0.04",
         "15.0"
        ],
        [
         "16",
         "3798",
         "951089164",
         "67",
         "0.04",
         "15.0"
        ],
        [
         "17",
         "3798",
         "951089174",
         "46",
         "0.04",
         "15.0"
        ],
        [
         "18",
         "3798",
         "951089184",
         "2",
         "0.04",
         "15.0"
        ],
        [
         "19",
         "3798",
         "951089195",
         "169",
         "0.04",
         "15.0"
        ],
        [
         "20",
         "3798",
         "951089339",
         "14",
         "0.04",
         "15.0"
        ],
        [
         "21",
         "3798",
         "951089429",
         "70",
         "0.04",
         "15.0"
        ],
        [
         "22",
         "3798",
         "951089459",
         "1",
         "0.04",
         "15.0"
        ],
        [
         "23",
         "3798",
         "951089488",
         "163",
         "0.04",
         "15.0"
        ],
        [
         "24",
         "3798",
         "951089538",
         "142",
         "0.04",
         "15.0"
        ],
        [
         "25",
         "3798",
         "951089592",
         "11",
         "0.04",
         "15.0"
        ],
        [
         "26",
         "3798",
         "951089704",
         "18",
         "0.04",
         "15.0"
        ],
        [
         "27",
         "3798",
         "951089925",
         "4",
         "0.04",
         "15.0"
        ],
        [
         "28",
         "3798",
         "951090214",
         "49",
         "0.04",
         "15.0"
        ],
        [
         "29",
         "3798",
         "951090343",
         "5",
         "0.04",
         "15.0"
        ],
        [
         "30",
         "3798",
         "951090551",
         "19",
         "0.04",
         "15.0"
        ],
        [
         "31",
         "3798",
         "951090679",
         "13",
         "0.04",
         "15.0"
        ],
        [
         "32",
         "3798",
         "951090729",
         "11",
         "0.04",
         "15.0"
        ],
        [
         "33",
         "3798",
         "951090804",
         "3",
         "0.04",
         "15.0"
        ],
        [
         "34",
         "3798",
         "951090856",
         "3",
         "0.04",
         "15.0"
        ],
        [
         "35",
         "3798",
         "951090924",
         "5",
         "0.04",
         "15.0"
        ],
        [
         "36",
         "3798",
         "951090982",
         "9",
         "0.04",
         "15.0"
        ],
        [
         "37",
         "3798",
         "951091025",
         "6",
         "0.04",
         "15.0"
        ],
        [
         "38",
         "3798",
         "951091188",
         "36",
         "0.04",
         "15.0"
        ],
        [
         "39",
         "3798",
         "951091287",
         "8",
         "0.04",
         "15.0"
        ],
        [
         "40",
         "3798",
         "951091304",
         "30",
         "0.04",
         "15.0"
        ],
        [
         "41",
         "3798",
         "951091412",
         "6",
         "0.04",
         "15.0"
        ],
        [
         "42",
         "3798",
         "951091444",
         "22",
         "0.04",
         "15.0"
        ],
        [
         "43",
         "3798",
         "951091492",
         "17",
         "0.04",
         "15.0"
        ],
        [
         "44",
         "3798",
         "951091758",
         "14",
         "0.04",
         "15.0"
        ],
        [
         "45",
         "3798",
         "951091785",
         "39",
         "0.04",
         "15.0"
        ],
        [
         "46",
         "3798",
         "951091890",
         "6",
         "0.04",
         "15.0"
        ],
        [
         "47",
         "3798",
         "951091914",
         "8",
         "0.04",
         "15.0"
        ],
        [
         "48",
         "3798",
         "951092050",
         "46",
         "0.04",
         "15.0"
        ],
        [
         "49",
         "3798",
         "951092075",
         "20",
         "0.04",
         "15.0"
        ]
       ],
       "shape": {
        "columns": 5,
        "rows": 3239
       }
      },
      "text/html": [
       "<div>\n",
       "<style scoped>\n",
       "    .dataframe tbody tr th:only-of-type {\n",
       "        vertical-align: middle;\n",
       "    }\n",
       "\n",
       "    .dataframe tbody tr th {\n",
       "        vertical-align: top;\n",
       "    }\n",
       "\n",
       "    .dataframe thead th {\n",
       "        text-align: right;\n",
       "    }\n",
       "</style>\n",
       "<table border=\"1\" class=\"dataframe\">\n",
       "  <thead>\n",
       "    <tr style=\"text-align: right;\">\n",
       "      <th></th>\n",
       "      <th>stimulus_presentation_id</th>\n",
       "      <th>unit_id</th>\n",
       "      <th>spike_count</th>\n",
       "      <th>spatial_frequency</th>\n",
       "      <th>temporal_frequency</th>\n",
       "    </tr>\n",
       "  </thead>\n",
       "  <tbody>\n",
       "    <tr>\n",
       "      <th>0</th>\n",
       "      <td>3798</td>\n",
       "      <td>951088664</td>\n",
       "      <td>25</td>\n",
       "      <td>0.04</td>\n",
       "      <td>15.0</td>\n",
       "    </tr>\n",
       "    <tr>\n",
       "      <th>1</th>\n",
       "      <td>3798</td>\n",
       "      <td>951088679</td>\n",
       "      <td>24</td>\n",
       "      <td>0.04</td>\n",
       "      <td>15.0</td>\n",
       "    </tr>\n",
       "    <tr>\n",
       "      <th>2</th>\n",
       "      <td>3798</td>\n",
       "      <td>951088721</td>\n",
       "      <td>25</td>\n",
       "      <td>0.04</td>\n",
       "      <td>15.0</td>\n",
       "    </tr>\n",
       "    <tr>\n",
       "      <th>3</th>\n",
       "      <td>3798</td>\n",
       "      <td>951088823</td>\n",
       "      <td>2</td>\n",
       "      <td>0.04</td>\n",
       "      <td>15.0</td>\n",
       "    </tr>\n",
       "    <tr>\n",
       "      <th>4</th>\n",
       "      <td>3798</td>\n",
       "      <td>951088862</td>\n",
       "      <td>78</td>\n",
       "      <td>0.04</td>\n",
       "      <td>15.0</td>\n",
       "    </tr>\n",
       "    <tr>\n",
       "      <th>...</th>\n",
       "      <td>...</td>\n",
       "      <td>...</td>\n",
       "      <td>...</td>\n",
       "      <td>...</td>\n",
       "      <td>...</td>\n",
       "    </tr>\n",
       "    <tr>\n",
       "      <th>3234</th>\n",
       "      <td>3802</td>\n",
       "      <td>951117252</td>\n",
       "      <td>8</td>\n",
       "      <td>0.04</td>\n",
       "      <td>2.0</td>\n",
       "    </tr>\n",
       "    <tr>\n",
       "      <th>3235</th>\n",
       "      <td>3802</td>\n",
       "      <td>951117264</td>\n",
       "      <td>13</td>\n",
       "      <td>0.04</td>\n",
       "      <td>2.0</td>\n",
       "    </tr>\n",
       "    <tr>\n",
       "      <th>3236</th>\n",
       "      <td>3802</td>\n",
       "      <td>951117297</td>\n",
       "      <td>3</td>\n",
       "      <td>0.04</td>\n",
       "      <td>2.0</td>\n",
       "    </tr>\n",
       "    <tr>\n",
       "      <th>3237</th>\n",
       "      <td>3802</td>\n",
       "      <td>951117389</td>\n",
       "      <td>6</td>\n",
       "      <td>0.04</td>\n",
       "      <td>2.0</td>\n",
       "    </tr>\n",
       "    <tr>\n",
       "      <th>3238</th>\n",
       "      <td>3802</td>\n",
       "      <td>951117426</td>\n",
       "      <td>1</td>\n",
       "      <td>0.04</td>\n",
       "      <td>2.0</td>\n",
       "    </tr>\n",
       "  </tbody>\n",
       "</table>\n",
       "<p>3239 rows × 5 columns</p>\n",
       "</div>"
      ],
      "text/plain": [
       "      stimulus_presentation_id    unit_id  spike_count spatial_frequency  \\\n",
       "0                         3798  951088664           25              0.04   \n",
       "1                         3798  951088679           24              0.04   \n",
       "2                         3798  951088721           25              0.04   \n",
       "3                         3798  951088823            2              0.04   \n",
       "4                         3798  951088862           78              0.04   \n",
       "...                        ...        ...          ...               ...   \n",
       "3234                      3802  951117252            8              0.04   \n",
       "3235                      3802  951117264           13              0.04   \n",
       "3236                      3802  951117297            3              0.04   \n",
       "3237                      3802  951117389            6              0.04   \n",
       "3238                      3802  951117426            1              0.04   \n",
       "\n",
       "     temporal_frequency  \n",
       "0                  15.0  \n",
       "1                  15.0  \n",
       "2                  15.0  \n",
       "3                  15.0  \n",
       "4                  15.0  \n",
       "...                 ...  \n",
       "3234                2.0  \n",
       "3235                2.0  \n",
       "3236                2.0  \n",
       "3237                2.0  \n",
       "3238                2.0  \n",
       "\n",
       "[3239 rows x 5 columns]"
      ]
     },
     "execution_count": 55,
     "metadata": {},
     "output_type": "execute_result"
    }
   ],
   "source": [
    "pd.merge(spike_counts, stimuli_table[['spatial_frequency', 'temporal_frequency']], on='stimulus_presentation_id')"
   ]
  }
 ],
 "metadata": {
  "kernelspec": {
   "display_name": "envallen",
   "language": "python",
   "name": "python3"
  },
  "language_info": {
   "codemirror_mode": {
    "name": "ipython",
    "version": 3
   },
   "file_extension": ".py",
   "mimetype": "text/x-python",
   "name": "python",
   "nbconvert_exporter": "python",
   "pygments_lexer": "ipython3",
   "version": "3.11.11"
  }
 },
 "nbformat": 4,
 "nbformat_minor": 2
}
