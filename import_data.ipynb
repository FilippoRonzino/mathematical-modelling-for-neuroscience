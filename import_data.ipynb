{
 "cells": [
  {
   "cell_type": "code",
   "execution_count": 1,
   "metadata": {},
   "outputs": [
    {
     "name": "stderr",
     "output_type": "stream",
     "text": [
      "/Users/edoardoghirardo/miniconda/envs/envallen/lib/python3.11/site-packages/tqdm/auto.py:21: TqdmWarning: IProgress not found. Please update jupyter and ipywidgets. See https://ipywidgets.readthedocs.io/en/stable/user_install.html\n",
      "  from .autonotebook import tqdm as notebook_tqdm\n"
     ]
    }
   ],
   "source": [
    "from allensdk.brain_observatory.ecephys.ecephys_project_cache import EcephysProjectCache\n",
    "import os\n",
    "import numpy as np\n",
    "import pandas as pd\n",
    "import matplotlib.pyplot as plt\n",
    "import matplotlib"
   ]
  },
  {
   "cell_type": "code",
   "execution_count": 2,
   "metadata": {},
   "outputs": [],
   "source": [
    "data_dir = \"./allendata\"\n",
    "manifest_path = os.path.join(data_dir, \"manifest.json\")\n",
    "cache = EcephysProjectCache.from_warehouse(manifest=manifest_path)"
   ]
  },
  {
   "cell_type": "code",
   "execution_count": 3,
   "metadata": {},
   "outputs": [
    {
     "data": {
      "application/vnd.microsoft.datawrangler.viewer.v0+json": {
       "columns": [
        {
         "name": "id",
         "rawType": "int64",
         "type": "integer"
        },
        {
         "name": "published_at",
         "rawType": "object",
         "type": "string"
        },
        {
         "name": "specimen_id",
         "rawType": "int64",
         "type": "integer"
        },
        {
         "name": "session_type",
         "rawType": "object",
         "type": "string"
        },
        {
         "name": "age_in_days",
         "rawType": "float64",
         "type": "float"
        },
        {
         "name": "sex",
         "rawType": "object",
         "type": "string"
        },
        {
         "name": "full_genotype",
         "rawType": "object",
         "type": "string"
        },
        {
         "name": "unit_count",
         "rawType": "int64",
         "type": "integer"
        },
        {
         "name": "channel_count",
         "rawType": "int64",
         "type": "integer"
        },
        {
         "name": "probe_count",
         "rawType": "int64",
         "type": "integer"
        },
        {
         "name": "ecephys_structure_acronyms",
         "rawType": "object",
         "type": "string"
        }
       ],
       "conversionMethod": "pd.DataFrame",
       "ref": "16b8a49a-d34d-491b-8a93-89324fe67057",
       "rows": [
        [
         "715093703",
         "2019-10-03T00:00:00Z",
         "699733581",
         "brain_observatory_1.1",
         "118.0",
         "M",
         "Sst-IRES-Cre/wt;Ai32(RCL-ChR2(H134R)_EYFP)/wt",
         "884",
         "2219",
         "6",
         "['CA1' 'VISrl' nan 'PO' 'LP' 'LGd' 'CA3' 'DG' 'VISl' 'PoT' 'VISp' 'grey'\n 'VISpm' 'APN' 'MB' 'VISam']"
        ],
        [
         "719161530",
         "2019-10-03T00:00:00Z",
         "703279284",
         "brain_observatory_1.1",
         "122.0",
         "M",
         "Sst-IRES-Cre/wt;Ai32(RCL-ChR2(H134R)_EYFP)/wt",
         "755",
         "2214",
         "6",
         "['TH' 'Eth' 'APN' 'POL' 'LP' 'DG' 'CA1' 'VISpm' nan 'NOT' 'MB' 'SUB'\n 'VISp' 'VISam' 'grey' 'VL' 'CA3' 'CA2' 'VISl' 'PO' 'VPM' 'LGd' 'VISal'\n 'VISrl']"
        ],
        [
         "721123822",
         "2019-10-03T00:00:00Z",
         "707296982",
         "brain_observatory_1.1",
         "125.0",
         "M",
         "Pvalb-IRES-Cre/wt;Ai32(RCL-ChR2(H134R)_EYFP)/wt",
         "444",
         "2229",
         "6",
         "['MB' 'SCig' 'PPT' 'NOT' 'DG' 'CA1' 'VISam' nan 'LP' 'VIS' 'ProS' 'VISp'\n 'LGv' 'CA3' 'VISl' 'APN' 'POL' 'LGd' 'HPF' 'VISal' 'VISrl']"
        ],
        [
         "732592105",
         "2019-10-03T00:00:00Z",
         "717038288",
         "brain_observatory_1.1",
         "100.0",
         "M",
         "wt/wt",
         "824",
         "1847",
         "5",
         "['grey' 'VISpm' nan 'VISp' 'VISl' 'VISal' 'VISrl']"
        ],
        [
         "737581020",
         "2019-10-03T00:00:00Z",
         "718643567",
         "brain_observatory_1.1",
         "108.0",
         "M",
         "wt/wt",
         "568",
         "2218",
         "6",
         "['grey' 'VISmma' nan 'VISpm' 'VISp' 'VISl' 'VISrl']"
        ]
       ],
       "shape": {
        "columns": 10,
        "rows": 5
       }
      },
      "text/html": [
       "<div>\n",
       "<style scoped>\n",
       "    .dataframe tbody tr th:only-of-type {\n",
       "        vertical-align: middle;\n",
       "    }\n",
       "\n",
       "    .dataframe tbody tr th {\n",
       "        vertical-align: top;\n",
       "    }\n",
       "\n",
       "    .dataframe thead th {\n",
       "        text-align: right;\n",
       "    }\n",
       "</style>\n",
       "<table border=\"1\" class=\"dataframe\">\n",
       "  <thead>\n",
       "    <tr style=\"text-align: right;\">\n",
       "      <th></th>\n",
       "      <th>published_at</th>\n",
       "      <th>specimen_id</th>\n",
       "      <th>session_type</th>\n",
       "      <th>age_in_days</th>\n",
       "      <th>sex</th>\n",
       "      <th>full_genotype</th>\n",
       "      <th>unit_count</th>\n",
       "      <th>channel_count</th>\n",
       "      <th>probe_count</th>\n",
       "      <th>ecephys_structure_acronyms</th>\n",
       "    </tr>\n",
       "    <tr>\n",
       "      <th>id</th>\n",
       "      <th></th>\n",
       "      <th></th>\n",
       "      <th></th>\n",
       "      <th></th>\n",
       "      <th></th>\n",
       "      <th></th>\n",
       "      <th></th>\n",
       "      <th></th>\n",
       "      <th></th>\n",
       "      <th></th>\n",
       "    </tr>\n",
       "  </thead>\n",
       "  <tbody>\n",
       "    <tr>\n",
       "      <th>715093703</th>\n",
       "      <td>2019-10-03T00:00:00Z</td>\n",
       "      <td>699733581</td>\n",
       "      <td>brain_observatory_1.1</td>\n",
       "      <td>118.0</td>\n",
       "      <td>M</td>\n",
       "      <td>Sst-IRES-Cre/wt;Ai32(RCL-ChR2(H134R)_EYFP)/wt</td>\n",
       "      <td>884</td>\n",
       "      <td>2219</td>\n",
       "      <td>6</td>\n",
       "      <td>[CA1, VISrl, nan, PO, LP, LGd, CA3, DG, VISl, ...</td>\n",
       "    </tr>\n",
       "    <tr>\n",
       "      <th>719161530</th>\n",
       "      <td>2019-10-03T00:00:00Z</td>\n",
       "      <td>703279284</td>\n",
       "      <td>brain_observatory_1.1</td>\n",
       "      <td>122.0</td>\n",
       "      <td>M</td>\n",
       "      <td>Sst-IRES-Cre/wt;Ai32(RCL-ChR2(H134R)_EYFP)/wt</td>\n",
       "      <td>755</td>\n",
       "      <td>2214</td>\n",
       "      <td>6</td>\n",
       "      <td>[TH, Eth, APN, POL, LP, DG, CA1, VISpm, nan, N...</td>\n",
       "    </tr>\n",
       "    <tr>\n",
       "      <th>721123822</th>\n",
       "      <td>2019-10-03T00:00:00Z</td>\n",
       "      <td>707296982</td>\n",
       "      <td>brain_observatory_1.1</td>\n",
       "      <td>125.0</td>\n",
       "      <td>M</td>\n",
       "      <td>Pvalb-IRES-Cre/wt;Ai32(RCL-ChR2(H134R)_EYFP)/wt</td>\n",
       "      <td>444</td>\n",
       "      <td>2229</td>\n",
       "      <td>6</td>\n",
       "      <td>[MB, SCig, PPT, NOT, DG, CA1, VISam, nan, LP, ...</td>\n",
       "    </tr>\n",
       "    <tr>\n",
       "      <th>732592105</th>\n",
       "      <td>2019-10-03T00:00:00Z</td>\n",
       "      <td>717038288</td>\n",
       "      <td>brain_observatory_1.1</td>\n",
       "      <td>100.0</td>\n",
       "      <td>M</td>\n",
       "      <td>wt/wt</td>\n",
       "      <td>824</td>\n",
       "      <td>1847</td>\n",
       "      <td>5</td>\n",
       "      <td>[grey, VISpm, nan, VISp, VISl, VISal, VISrl]</td>\n",
       "    </tr>\n",
       "    <tr>\n",
       "      <th>737581020</th>\n",
       "      <td>2019-10-03T00:00:00Z</td>\n",
       "      <td>718643567</td>\n",
       "      <td>brain_observatory_1.1</td>\n",
       "      <td>108.0</td>\n",
       "      <td>M</td>\n",
       "      <td>wt/wt</td>\n",
       "      <td>568</td>\n",
       "      <td>2218</td>\n",
       "      <td>6</td>\n",
       "      <td>[grey, VISmma, nan, VISpm, VISp, VISl, VISrl]</td>\n",
       "    </tr>\n",
       "  </tbody>\n",
       "</table>\n",
       "</div>"
      ],
      "text/plain": [
       "                   published_at  specimen_id           session_type  \\\n",
       "id                                                                    \n",
       "715093703  2019-10-03T00:00:00Z    699733581  brain_observatory_1.1   \n",
       "719161530  2019-10-03T00:00:00Z    703279284  brain_observatory_1.1   \n",
       "721123822  2019-10-03T00:00:00Z    707296982  brain_observatory_1.1   \n",
       "732592105  2019-10-03T00:00:00Z    717038288  brain_observatory_1.1   \n",
       "737581020  2019-10-03T00:00:00Z    718643567  brain_observatory_1.1   \n",
       "\n",
       "           age_in_days sex                                    full_genotype  \\\n",
       "id                                                                            \n",
       "715093703        118.0   M    Sst-IRES-Cre/wt;Ai32(RCL-ChR2(H134R)_EYFP)/wt   \n",
       "719161530        122.0   M    Sst-IRES-Cre/wt;Ai32(RCL-ChR2(H134R)_EYFP)/wt   \n",
       "721123822        125.0   M  Pvalb-IRES-Cre/wt;Ai32(RCL-ChR2(H134R)_EYFP)/wt   \n",
       "732592105        100.0   M                                            wt/wt   \n",
       "737581020        108.0   M                                            wt/wt   \n",
       "\n",
       "           unit_count  channel_count  probe_count  \\\n",
       "id                                                  \n",
       "715093703         884           2219            6   \n",
       "719161530         755           2214            6   \n",
       "721123822         444           2229            6   \n",
       "732592105         824           1847            5   \n",
       "737581020         568           2218            6   \n",
       "\n",
       "                                  ecephys_structure_acronyms  \n",
       "id                                                            \n",
       "715093703  [CA1, VISrl, nan, PO, LP, LGd, CA3, DG, VISl, ...  \n",
       "719161530  [TH, Eth, APN, POL, LP, DG, CA1, VISpm, nan, N...  \n",
       "721123822  [MB, SCig, PPT, NOT, DG, CA1, VISam, nan, LP, ...  \n",
       "732592105       [grey, VISpm, nan, VISp, VISl, VISal, VISrl]  \n",
       "737581020      [grey, VISmma, nan, VISpm, VISp, VISl, VISrl]  "
      ]
     },
     "execution_count": 3,
     "metadata": {},
     "output_type": "execute_result"
    }
   ],
   "source": [
    "sessions = cache.get_session_table()\n",
    "sessions.head()"
   ]
  },
  {
   "cell_type": "code",
   "execution_count": 4,
   "metadata": {},
   "outputs": [],
   "source": [
    "session = 798911424"
   ]
  },
  {
   "cell_type": "code",
   "execution_count": 5,
   "metadata": {},
   "outputs": [
    {
     "name": "stderr",
     "output_type": "stream",
     "text": [
      "/Users/edoardoghirardo/miniconda/envs/envallen/lib/python3.11/site-packages/hdmf/spec/namespace.py:535: UserWarning: Ignoring cached namespace 'hdmf-common' version 1.1.3 because version 1.8.0 is already loaded.\n",
      "  warn(\"Ignoring cached namespace '%s' version %s because version %s is already loaded.\"\n",
      "/Users/edoardoghirardo/miniconda/envs/envallen/lib/python3.11/site-packages/hdmf/spec/namespace.py:535: UserWarning: Ignoring cached namespace 'core' version 2.2.2 because version 2.7.0 is already loaded.\n",
      "  warn(\"Ignoring cached namespace '%s' version %s because version %s is already loaded.\"\n"
     ]
    }
   ],
   "source": [
    "oursession = cache.get_session_data(session)"
   ]
  },
  {
   "cell_type": "code",
   "execution_count": 6,
   "metadata": {},
   "outputs": [
    {
     "name": "stderr",
     "output_type": "stream",
     "text": [
      "/Users/edoardoghirardo/miniconda/envs/envallen/lib/python3.11/site-packages/hdmf/spec/namespace.py:535: UserWarning: Ignoring cached namespace 'hdmf-common' version 1.1.3 because version 1.8.0 is already loaded.\n",
      "  warn(\"Ignoring cached namespace '%s' version %s because version %s is already loaded.\"\n",
      "/Users/edoardoghirardo/miniconda/envs/envallen/lib/python3.11/site-packages/hdmf/spec/namespace.py:535: UserWarning: Ignoring cached namespace 'core' version 2.2.2 because version 2.7.0 is already loaded.\n",
      "  warn(\"Ignoring cached namespace '%s' version %s because version %s is already loaded.\"\n",
      "/Users/edoardoghirardo/miniconda/envs/envallen/lib/python3.11/site-packages/hdmf/spec/namespace.py:535: UserWarning: Ignoring cached namespace 'hdmf-common' version 1.1.3 because version 1.8.0 is already loaded.\n",
      "  warn(\"Ignoring cached namespace '%s' version %s because version %s is already loaded.\"\n",
      "/Users/edoardoghirardo/miniconda/envs/envallen/lib/python3.11/site-packages/hdmf/spec/namespace.py:535: UserWarning: Ignoring cached namespace 'core' version 2.2.2 because version 2.7.0 is already loaded.\n",
      "  warn(\"Ignoring cached namespace '%s' version %s because version %s is already loaded.\"\n",
      "/Users/edoardoghirardo/miniconda/envs/envallen/lib/python3.11/site-packages/hdmf/spec/namespace.py:535: UserWarning: Ignoring cached namespace 'hdmf-common' version 1.1.3 because version 1.8.0 is already loaded.\n",
      "  warn(\"Ignoring cached namespace '%s' version %s because version %s is already loaded.\"\n",
      "/Users/edoardoghirardo/miniconda/envs/envallen/lib/python3.11/site-packages/hdmf/spec/namespace.py:535: UserWarning: Ignoring cached namespace 'core' version 2.2.2 because version 2.7.0 is already loaded.\n",
      "  warn(\"Ignoring cached namespace '%s' version %s because version %s is already loaded.\"\n",
      "/Users/edoardoghirardo/miniconda/envs/envallen/lib/python3.11/site-packages/hdmf/spec/namespace.py:535: UserWarning: Ignoring cached namespace 'hdmf-common' version 1.1.3 because version 1.8.0 is already loaded.\n",
      "  warn(\"Ignoring cached namespace '%s' version %s because version %s is already loaded.\"\n",
      "/Users/edoardoghirardo/miniconda/envs/envallen/lib/python3.11/site-packages/hdmf/spec/namespace.py:535: UserWarning: Ignoring cached namespace 'core' version 2.2.2 because version 2.7.0 is already loaded.\n",
      "  warn(\"Ignoring cached namespace '%s' version %s because version %s is already loaded.\"\n",
      "/Users/edoardoghirardo/miniconda/envs/envallen/lib/python3.11/site-packages/hdmf/spec/namespace.py:535: UserWarning: Ignoring cached namespace 'hdmf-common' version 1.1.3 because version 1.8.0 is already loaded.\n",
      "  warn(\"Ignoring cached namespace '%s' version %s because version %s is already loaded.\"\n",
      "/Users/edoardoghirardo/miniconda/envs/envallen/lib/python3.11/site-packages/hdmf/spec/namespace.py:535: UserWarning: Ignoring cached namespace 'core' version 2.2.2 because version 2.7.0 is already loaded.\n",
      "  warn(\"Ignoring cached namespace '%s' version %s because version %s is already loaded.\"\n"
     ]
    },
    {
     "data": {
      "text/plain": [
       "['spontaneous',\n",
       " 'gabors',\n",
       " 'flashes',\n",
       " 'drifting_gratings',\n",
       " 'natural_movie_three',\n",
       " 'natural_movie_one',\n",
       " 'static_gratings',\n",
       " 'natural_scenes',\n",
       " 'drifting_gratings_contrast']"
      ]
     },
     "execution_count": 6,
     "metadata": {},
     "output_type": "execute_result"
    }
   ],
   "source": [
    "oursession.metadata['stimulus_names']"
   ]
  },
  {
   "cell_type": "markdown",
   "metadata": {},
   "source": [
    "We will focus on the stimuli: static_gratings and drifting_gratings"
   ]
  },
  {
   "cell_type": "code",
   "execution_count": 7,
   "metadata": {},
   "outputs": [
    {
     "data": {
      "application/vnd.microsoft.datawrangler.viewer.v0+json": {
       "columns": [
        {
         "name": "stimulus_presentation_id",
         "rawType": "int64",
         "type": "integer"
        },
        {
         "name": "stimulus_block",
         "rawType": "object",
         "type": "string"
        },
        {
         "name": "start_time",
         "rawType": "float64",
         "type": "float"
        },
        {
         "name": "stop_time",
         "rawType": "float64",
         "type": "float"
        },
        {
         "name": "color",
         "rawType": "object",
         "type": "string"
        },
        {
         "name": "stimulus_name",
         "rawType": "object",
         "type": "string"
        },
        {
         "name": "x_position",
         "rawType": "object",
         "type": "string"
        },
        {
         "name": "y_position",
         "rawType": "object",
         "type": "string"
        },
        {
         "name": "contrast",
         "rawType": "object",
         "type": "string"
        },
        {
         "name": "spatial_frequency",
         "rawType": "object",
         "type": "string"
        },
        {
         "name": "orientation",
         "rawType": "object",
         "type": "string"
        },
        {
         "name": "size",
         "rawType": "object",
         "type": "string"
        },
        {
         "name": "frame",
         "rawType": "object",
         "type": "string"
        },
        {
         "name": "phase",
         "rawType": "object",
         "type": "string"
        },
        {
         "name": "temporal_frequency",
         "rawType": "object",
         "type": "string"
        },
        {
         "name": "duration",
         "rawType": "float64",
         "type": "float"
        },
        {
         "name": "stimulus_condition_id",
         "rawType": "int64",
         "type": "integer"
        }
       ],
       "conversionMethod": "pd.DataFrame",
       "ref": "0f2f12c1-60fb-4f26-ba65-a249ff9a1f17",
       "rows": [
        [
         "0",
         "null",
         "24.875986561008897",
         "84.9427865610089",
         "null",
         "spontaneous",
         "null",
         "null",
         "null",
         "null",
         "null",
         "null",
         "null",
         "null",
         "null",
         "60.0668",
         "0"
        ],
        [
         "1",
         "0.0",
         "84.9427865610089",
         "85.1763058428053",
         "null",
         "gabors",
         "20.0",
         "-10.0",
         "0.8",
         "0.08",
         "90.0",
         "[20.0, 20.0]",
         "null",
         "[3644.93333333, 3644.93333333]",
         "4.0",
         "0.23351928179640424",
         "1"
        ],
        [
         "2",
         "0.0",
         "85.1763058428053",
         "85.42650507330144",
         "null",
         "gabors",
         "30.0",
         "40.0",
         "0.8",
         "0.08",
         "0.0",
         "[20.0, 20.0]",
         "null",
         "[3644.93333333, 3644.93333333]",
         "4.0",
         "0.25019923049613624",
         "2"
        ],
        [
         "3",
         "0.0",
         "85.42650507330144",
         "85.67670430379759",
         "null",
         "gabors",
         "40.0",
         "-30.0",
         "0.8",
         "0.08",
         "45.0",
         "[20.0, 20.0]",
         "null",
         "[3644.93333333, 3644.93333333]",
         "4.0",
         "0.25019923049615045",
         "3"
        ],
        [
         "4",
         "0.0",
         "85.67670430379759",
         "85.92690353429377",
         "null",
         "gabors",
         "0.0",
         "-40.0",
         "0.8",
         "0.08",
         "90.0",
         "[20.0, 20.0]",
         "null",
         "[3644.93333333, 3644.93333333]",
         "4.0",
         "0.25019923049617887",
         "4"
        ]
       ],
       "shape": {
        "columns": 16,
        "rows": 5
       }
      },
      "text/html": [
       "<div>\n",
       "<style scoped>\n",
       "    .dataframe tbody tr th:only-of-type {\n",
       "        vertical-align: middle;\n",
       "    }\n",
       "\n",
       "    .dataframe tbody tr th {\n",
       "        vertical-align: top;\n",
       "    }\n",
       "\n",
       "    .dataframe thead th {\n",
       "        text-align: right;\n",
       "    }\n",
       "</style>\n",
       "<table border=\"1\" class=\"dataframe\">\n",
       "  <thead>\n",
       "    <tr style=\"text-align: right;\">\n",
       "      <th></th>\n",
       "      <th>stimulus_block</th>\n",
       "      <th>start_time</th>\n",
       "      <th>stop_time</th>\n",
       "      <th>color</th>\n",
       "      <th>stimulus_name</th>\n",
       "      <th>x_position</th>\n",
       "      <th>y_position</th>\n",
       "      <th>contrast</th>\n",
       "      <th>spatial_frequency</th>\n",
       "      <th>orientation</th>\n",
       "      <th>size</th>\n",
       "      <th>frame</th>\n",
       "      <th>phase</th>\n",
       "      <th>temporal_frequency</th>\n",
       "      <th>duration</th>\n",
       "      <th>stimulus_condition_id</th>\n",
       "    </tr>\n",
       "    <tr>\n",
       "      <th>stimulus_presentation_id</th>\n",
       "      <th></th>\n",
       "      <th></th>\n",
       "      <th></th>\n",
       "      <th></th>\n",
       "      <th></th>\n",
       "      <th></th>\n",
       "      <th></th>\n",
       "      <th></th>\n",
       "      <th></th>\n",
       "      <th></th>\n",
       "      <th></th>\n",
       "      <th></th>\n",
       "      <th></th>\n",
       "      <th></th>\n",
       "      <th></th>\n",
       "      <th></th>\n",
       "    </tr>\n",
       "  </thead>\n",
       "  <tbody>\n",
       "    <tr>\n",
       "      <th>0</th>\n",
       "      <td>null</td>\n",
       "      <td>24.875987</td>\n",
       "      <td>84.942787</td>\n",
       "      <td>null</td>\n",
       "      <td>spontaneous</td>\n",
       "      <td>null</td>\n",
       "      <td>null</td>\n",
       "      <td>null</td>\n",
       "      <td>null</td>\n",
       "      <td>null</td>\n",
       "      <td>null</td>\n",
       "      <td>null</td>\n",
       "      <td>null</td>\n",
       "      <td>null</td>\n",
       "      <td>60.066800</td>\n",
       "      <td>0</td>\n",
       "    </tr>\n",
       "    <tr>\n",
       "      <th>1</th>\n",
       "      <td>0.0</td>\n",
       "      <td>84.942787</td>\n",
       "      <td>85.176306</td>\n",
       "      <td>null</td>\n",
       "      <td>gabors</td>\n",
       "      <td>20.0</td>\n",
       "      <td>-10.0</td>\n",
       "      <td>0.8</td>\n",
       "      <td>0.08</td>\n",
       "      <td>90.0</td>\n",
       "      <td>[20.0, 20.0]</td>\n",
       "      <td>null</td>\n",
       "      <td>[3644.93333333, 3644.93333333]</td>\n",
       "      <td>4.0</td>\n",
       "      <td>0.233519</td>\n",
       "      <td>1</td>\n",
       "    </tr>\n",
       "    <tr>\n",
       "      <th>2</th>\n",
       "      <td>0.0</td>\n",
       "      <td>85.176306</td>\n",
       "      <td>85.426505</td>\n",
       "      <td>null</td>\n",
       "      <td>gabors</td>\n",
       "      <td>30.0</td>\n",
       "      <td>40.0</td>\n",
       "      <td>0.8</td>\n",
       "      <td>0.08</td>\n",
       "      <td>0.0</td>\n",
       "      <td>[20.0, 20.0]</td>\n",
       "      <td>null</td>\n",
       "      <td>[3644.93333333, 3644.93333333]</td>\n",
       "      <td>4.0</td>\n",
       "      <td>0.250199</td>\n",
       "      <td>2</td>\n",
       "    </tr>\n",
       "    <tr>\n",
       "      <th>3</th>\n",
       "      <td>0.0</td>\n",
       "      <td>85.426505</td>\n",
       "      <td>85.676704</td>\n",
       "      <td>null</td>\n",
       "      <td>gabors</td>\n",
       "      <td>40.0</td>\n",
       "      <td>-30.0</td>\n",
       "      <td>0.8</td>\n",
       "      <td>0.08</td>\n",
       "      <td>45.0</td>\n",
       "      <td>[20.0, 20.0]</td>\n",
       "      <td>null</td>\n",
       "      <td>[3644.93333333, 3644.93333333]</td>\n",
       "      <td>4.0</td>\n",
       "      <td>0.250199</td>\n",
       "      <td>3</td>\n",
       "    </tr>\n",
       "    <tr>\n",
       "      <th>4</th>\n",
       "      <td>0.0</td>\n",
       "      <td>85.676704</td>\n",
       "      <td>85.926904</td>\n",
       "      <td>null</td>\n",
       "      <td>gabors</td>\n",
       "      <td>0.0</td>\n",
       "      <td>-40.0</td>\n",
       "      <td>0.8</td>\n",
       "      <td>0.08</td>\n",
       "      <td>90.0</td>\n",
       "      <td>[20.0, 20.0]</td>\n",
       "      <td>null</td>\n",
       "      <td>[3644.93333333, 3644.93333333]</td>\n",
       "      <td>4.0</td>\n",
       "      <td>0.250199</td>\n",
       "      <td>4</td>\n",
       "    </tr>\n",
       "  </tbody>\n",
       "</table>\n",
       "</div>"
      ],
      "text/plain": [
       "                         stimulus_block  start_time  stop_time color  \\\n",
       "stimulus_presentation_id                                               \n",
       "0                                  null   24.875987  84.942787  null   \n",
       "1                                   0.0   84.942787  85.176306  null   \n",
       "2                                   0.0   85.176306  85.426505  null   \n",
       "3                                   0.0   85.426505  85.676704  null   \n",
       "4                                   0.0   85.676704  85.926904  null   \n",
       "\n",
       "                         stimulus_name x_position y_position contrast  \\\n",
       "stimulus_presentation_id                                                \n",
       "0                          spontaneous       null       null     null   \n",
       "1                               gabors       20.0      -10.0      0.8   \n",
       "2                               gabors       30.0       40.0      0.8   \n",
       "3                               gabors       40.0      -30.0      0.8   \n",
       "4                               gabors        0.0      -40.0      0.8   \n",
       "\n",
       "                         spatial_frequency orientation          size frame  \\\n",
       "stimulus_presentation_id                                                     \n",
       "0                                     null        null          null  null   \n",
       "1                                     0.08        90.0  [20.0, 20.0]  null   \n",
       "2                                     0.08         0.0  [20.0, 20.0]  null   \n",
       "3                                     0.08        45.0  [20.0, 20.0]  null   \n",
       "4                                     0.08        90.0  [20.0, 20.0]  null   \n",
       "\n",
       "                                                   phase temporal_frequency  \\\n",
       "stimulus_presentation_id                                                      \n",
       "0                                                   null               null   \n",
       "1                         [3644.93333333, 3644.93333333]                4.0   \n",
       "2                         [3644.93333333, 3644.93333333]                4.0   \n",
       "3                         [3644.93333333, 3644.93333333]                4.0   \n",
       "4                         [3644.93333333, 3644.93333333]                4.0   \n",
       "\n",
       "                           duration  stimulus_condition_id  \n",
       "stimulus_presentation_id                                    \n",
       "0                         60.066800                      0  \n",
       "1                          0.233519                      1  \n",
       "2                          0.250199                      2  \n",
       "3                          0.250199                      3  \n",
       "4                          0.250199                      4  "
      ]
     },
     "execution_count": 7,
     "metadata": {},
     "output_type": "execute_result"
    }
   ],
   "source": [
    "oursession.get_stimulus_table().head()"
   ]
  },
  {
   "cell_type": "code",
   "execution_count": 8,
   "metadata": {},
   "outputs": [
    {
     "data": {
      "application/vnd.microsoft.datawrangler.viewer.v0+json": {
       "columns": [
        {
         "name": "stimulus_presentation_id",
         "rawType": "int64",
         "type": "integer"
        },
        {
         "name": "stimulus_block",
         "rawType": "object",
         "type": "string"
        },
        {
         "name": "start_time",
         "rawType": "float64",
         "type": "float"
        },
        {
         "name": "stop_time",
         "rawType": "float64",
         "type": "float"
        },
        {
         "name": "stimulus_name",
         "rawType": "object",
         "type": "string"
        },
        {
         "name": "contrast",
         "rawType": "object",
         "type": "string"
        },
        {
         "name": "spatial_frequency",
         "rawType": "object",
         "type": "string"
        },
        {
         "name": "orientation",
         "rawType": "object",
         "type": "string"
        },
        {
         "name": "size",
         "rawType": "object",
         "type": "string"
        },
        {
         "name": "phase",
         "rawType": "object",
         "type": "string"
        },
        {
         "name": "temporal_frequency",
         "rawType": "object",
         "type": "string"
        },
        {
         "name": "duration",
         "rawType": "float64",
         "type": "float"
        },
        {
         "name": "stimulus_condition_id",
         "rawType": "int64",
         "type": "integer"
        }
       ],
       "conversionMethod": "pd.DataFrame",
       "ref": "1e4bce57-fc06-40a8-95e0-ead74417eea1",
       "rows": [
        [
         "3798",
         "2.0",
         "1586.180716561009",
         "1588.1823865610088",
         "drifting_gratings",
         "0.8",
         "0.04",
         "0.0",
         "[250.0, 250.0]",
         "[5308.98333333, 5308.98333333]",
         "15.0",
         "2.0016699999998764",
         "246"
        ],
        [
         "3799",
         "2.0",
         "1589.1832435342938",
         "1591.1849235342938",
         "drifting_gratings",
         "0.8",
         "0.04",
         "180.0",
         "[250.0, 250.0]",
         "[5308.98333333, 5308.98333333]",
         "2.0",
         "2.0016800000000785",
         "247"
        ],
        [
         "3800",
         "2.0",
         "1592.185736561009",
         "1594.1874265610088",
         "drifting_gratings",
         "0.8",
         "0.04",
         "45.0",
         "[250.0, 250.0]",
         "[5308.98333333, 5308.98333333]",
         "1.0",
         "2.001689999999826",
         "248"
        ],
        [
         "3801",
         "2.0",
         "1595.1882735342938",
         "1597.1899435342934",
         "drifting_gratings",
         "0.8",
         "0.04",
         "90.0",
         "[250.0, 250.0]",
         "[5308.98333333, 5308.98333333]",
         "8.0",
         "2.001669999999649",
         "249"
        ],
        [
         "3802",
         "2.0",
         "1598.190776561009",
         "1600.1924465610089",
         "drifting_gratings",
         "0.8",
         "0.04",
         "270.0",
         "[250.0, 250.0]",
         "[5308.98333333, 5308.98333333]",
         "2.0",
         "2.0016699999998764",
         "250"
        ]
       ],
       "shape": {
        "columns": 12,
        "rows": 5
       }
      },
      "text/html": [
       "<div>\n",
       "<style scoped>\n",
       "    .dataframe tbody tr th:only-of-type {\n",
       "        vertical-align: middle;\n",
       "    }\n",
       "\n",
       "    .dataframe tbody tr th {\n",
       "        vertical-align: top;\n",
       "    }\n",
       "\n",
       "    .dataframe thead th {\n",
       "        text-align: right;\n",
       "    }\n",
       "</style>\n",
       "<table border=\"1\" class=\"dataframe\">\n",
       "  <thead>\n",
       "    <tr style=\"text-align: right;\">\n",
       "      <th></th>\n",
       "      <th>stimulus_block</th>\n",
       "      <th>start_time</th>\n",
       "      <th>stop_time</th>\n",
       "      <th>stimulus_name</th>\n",
       "      <th>contrast</th>\n",
       "      <th>spatial_frequency</th>\n",
       "      <th>orientation</th>\n",
       "      <th>size</th>\n",
       "      <th>phase</th>\n",
       "      <th>temporal_frequency</th>\n",
       "      <th>duration</th>\n",
       "      <th>stimulus_condition_id</th>\n",
       "    </tr>\n",
       "    <tr>\n",
       "      <th>stimulus_presentation_id</th>\n",
       "      <th></th>\n",
       "      <th></th>\n",
       "      <th></th>\n",
       "      <th></th>\n",
       "      <th></th>\n",
       "      <th></th>\n",
       "      <th></th>\n",
       "      <th></th>\n",
       "      <th></th>\n",
       "      <th></th>\n",
       "      <th></th>\n",
       "      <th></th>\n",
       "    </tr>\n",
       "  </thead>\n",
       "  <tbody>\n",
       "    <tr>\n",
       "      <th>3798</th>\n",
       "      <td>2.0</td>\n",
       "      <td>1586.180717</td>\n",
       "      <td>1588.182387</td>\n",
       "      <td>drifting_gratings</td>\n",
       "      <td>0.8</td>\n",
       "      <td>0.04</td>\n",
       "      <td>0.0</td>\n",
       "      <td>[250.0, 250.0]</td>\n",
       "      <td>[5308.98333333, 5308.98333333]</td>\n",
       "      <td>15.0</td>\n",
       "      <td>2.00167</td>\n",
       "      <td>246</td>\n",
       "    </tr>\n",
       "    <tr>\n",
       "      <th>3799</th>\n",
       "      <td>2.0</td>\n",
       "      <td>1589.183244</td>\n",
       "      <td>1591.184924</td>\n",
       "      <td>drifting_gratings</td>\n",
       "      <td>0.8</td>\n",
       "      <td>0.04</td>\n",
       "      <td>180.0</td>\n",
       "      <td>[250.0, 250.0]</td>\n",
       "      <td>[5308.98333333, 5308.98333333]</td>\n",
       "      <td>2.0</td>\n",
       "      <td>2.00168</td>\n",
       "      <td>247</td>\n",
       "    </tr>\n",
       "    <tr>\n",
       "      <th>3800</th>\n",
       "      <td>2.0</td>\n",
       "      <td>1592.185737</td>\n",
       "      <td>1594.187427</td>\n",
       "      <td>drifting_gratings</td>\n",
       "      <td>0.8</td>\n",
       "      <td>0.04</td>\n",
       "      <td>45.0</td>\n",
       "      <td>[250.0, 250.0]</td>\n",
       "      <td>[5308.98333333, 5308.98333333]</td>\n",
       "      <td>1.0</td>\n",
       "      <td>2.00169</td>\n",
       "      <td>248</td>\n",
       "    </tr>\n",
       "    <tr>\n",
       "      <th>3801</th>\n",
       "      <td>2.0</td>\n",
       "      <td>1595.188274</td>\n",
       "      <td>1597.189944</td>\n",
       "      <td>drifting_gratings</td>\n",
       "      <td>0.8</td>\n",
       "      <td>0.04</td>\n",
       "      <td>90.0</td>\n",
       "      <td>[250.0, 250.0]</td>\n",
       "      <td>[5308.98333333, 5308.98333333]</td>\n",
       "      <td>8.0</td>\n",
       "      <td>2.00167</td>\n",
       "      <td>249</td>\n",
       "    </tr>\n",
       "    <tr>\n",
       "      <th>3802</th>\n",
       "      <td>2.0</td>\n",
       "      <td>1598.190777</td>\n",
       "      <td>1600.192447</td>\n",
       "      <td>drifting_gratings</td>\n",
       "      <td>0.8</td>\n",
       "      <td>0.04</td>\n",
       "      <td>270.0</td>\n",
       "      <td>[250.0, 250.0]</td>\n",
       "      <td>[5308.98333333, 5308.98333333]</td>\n",
       "      <td>2.0</td>\n",
       "      <td>2.00167</td>\n",
       "      <td>250</td>\n",
       "    </tr>\n",
       "  </tbody>\n",
       "</table>\n",
       "</div>"
      ],
      "text/plain": [
       "                         stimulus_block   start_time    stop_time  \\\n",
       "stimulus_presentation_id                                            \n",
       "3798                                2.0  1586.180717  1588.182387   \n",
       "3799                                2.0  1589.183244  1591.184924   \n",
       "3800                                2.0  1592.185737  1594.187427   \n",
       "3801                                2.0  1595.188274  1597.189944   \n",
       "3802                                2.0  1598.190777  1600.192447   \n",
       "\n",
       "                              stimulus_name contrast spatial_frequency  \\\n",
       "stimulus_presentation_id                                                 \n",
       "3798                      drifting_gratings      0.8              0.04   \n",
       "3799                      drifting_gratings      0.8              0.04   \n",
       "3800                      drifting_gratings      0.8              0.04   \n",
       "3801                      drifting_gratings      0.8              0.04   \n",
       "3802                      drifting_gratings      0.8              0.04   \n",
       "\n",
       "                         orientation            size  \\\n",
       "stimulus_presentation_id                               \n",
       "3798                             0.0  [250.0, 250.0]   \n",
       "3799                           180.0  [250.0, 250.0]   \n",
       "3800                            45.0  [250.0, 250.0]   \n",
       "3801                            90.0  [250.0, 250.0]   \n",
       "3802                           270.0  [250.0, 250.0]   \n",
       "\n",
       "                                                   phase temporal_frequency  \\\n",
       "stimulus_presentation_id                                                      \n",
       "3798                      [5308.98333333, 5308.98333333]               15.0   \n",
       "3799                      [5308.98333333, 5308.98333333]                2.0   \n",
       "3800                      [5308.98333333, 5308.98333333]                1.0   \n",
       "3801                      [5308.98333333, 5308.98333333]                8.0   \n",
       "3802                      [5308.98333333, 5308.98333333]                2.0   \n",
       "\n",
       "                          duration  stimulus_condition_id  \n",
       "stimulus_presentation_id                                   \n",
       "3798                       2.00167                    246  \n",
       "3799                       2.00168                    247  \n",
       "3800                       2.00169                    248  \n",
       "3801                       2.00167                    249  \n",
       "3802                       2.00167                    250  "
      ]
     },
     "execution_count": 8,
     "metadata": {},
     "output_type": "execute_result"
    }
   ],
   "source": [
    "drifting_stimuli = oursession.get_stimulus_table('drifting_gratings')\n",
    "drifting_stimuli.head()"
   ]
  },
  {
   "cell_type": "code",
   "execution_count": 9,
   "metadata": {},
   "outputs": [
    {
     "data": {
      "application/vnd.microsoft.datawrangler.viewer.v0+json": {
       "columns": [
        {
         "name": "stimulus_presentation_id",
         "rawType": "int64",
         "type": "integer"
        },
        {
         "name": "stimulus_block",
         "rawType": "object",
         "type": "string"
        },
        {
         "name": "start_time",
         "rawType": "float64",
         "type": "float"
        },
        {
         "name": "stop_time",
         "rawType": "float64",
         "type": "float"
        },
        {
         "name": "stimulus_name",
         "rawType": "object",
         "type": "string"
        },
        {
         "name": "contrast",
         "rawType": "object",
         "type": "string"
        },
        {
         "name": "spatial_frequency",
         "rawType": "object",
         "type": "string"
        },
        {
         "name": "orientation",
         "rawType": "object",
         "type": "string"
        },
        {
         "name": "size",
         "rawType": "object",
         "type": "string"
        },
        {
         "name": "phase",
         "rawType": "object",
         "type": "string"
        },
        {
         "name": "duration",
         "rawType": "float64",
         "type": "float"
        },
        {
         "name": "stimulus_condition_id",
         "rawType": "int64",
         "type": "integer"
        }
       ],
       "conversionMethod": "pd.DataFrame",
       "ref": "d2c6edbb-267e-49a0-ac8b-f3f9ca87dd4b",
       "rows": [
        [
         "49434",
         "8.0",
         "5399.367846561009",
         "5399.61805580433",
         "static_gratings",
         "0.8",
         "0.02",
         "150.0",
         "[250.0, 250.0]",
         "0.5",
         "0.25020924332056893",
         "4787"
        ],
        [
         "49435",
         "8.0",
         "5399.61805580433",
         "5399.86826504765",
         "static_gratings",
         "0.8",
         "0.16",
         "0.0",
         "[250.0, 250.0]",
         "0.5",
         "0.25020924332056893",
         "4788"
        ],
        [
         "49436",
         "8.0",
         "5399.86826504765",
         "5400.118474290973",
         "static_gratings",
         "0.8",
         "0.04",
         "30.0",
         "[250.0, 250.0]",
         "0.25",
         "0.2502092433223879",
         "4789"
        ],
        [
         "49437",
         "8.0",
         "5400.118474290973",
         "5400.368683534293",
         "static_gratings",
         "0.8",
         "0.04",
         "60.0",
         "[250.0, 250.0]",
         "0.75",
         "0.25020924332056893",
         "4790"
        ],
        [
         "49438",
         "8.0",
         "5400.368683534293",
         "5400.618889290972",
         "static_gratings",
         "0.8",
         "0.08",
         "60.0",
         "[250.0, 250.0]",
         "0.0",
         "0.25020575667895173",
         "4791"
        ]
       ],
       "shape": {
        "columns": 11,
        "rows": 5
       }
      },
      "text/html": [
       "<div>\n",
       "<style scoped>\n",
       "    .dataframe tbody tr th:only-of-type {\n",
       "        vertical-align: middle;\n",
       "    }\n",
       "\n",
       "    .dataframe tbody tr th {\n",
       "        vertical-align: top;\n",
       "    }\n",
       "\n",
       "    .dataframe thead th {\n",
       "        text-align: right;\n",
       "    }\n",
       "</style>\n",
       "<table border=\"1\" class=\"dataframe\">\n",
       "  <thead>\n",
       "    <tr style=\"text-align: right;\">\n",
       "      <th></th>\n",
       "      <th>stimulus_block</th>\n",
       "      <th>start_time</th>\n",
       "      <th>stop_time</th>\n",
       "      <th>stimulus_name</th>\n",
       "      <th>contrast</th>\n",
       "      <th>spatial_frequency</th>\n",
       "      <th>orientation</th>\n",
       "      <th>size</th>\n",
       "      <th>phase</th>\n",
       "      <th>duration</th>\n",
       "      <th>stimulus_condition_id</th>\n",
       "    </tr>\n",
       "    <tr>\n",
       "      <th>stimulus_presentation_id</th>\n",
       "      <th></th>\n",
       "      <th></th>\n",
       "      <th></th>\n",
       "      <th></th>\n",
       "      <th></th>\n",
       "      <th></th>\n",
       "      <th></th>\n",
       "      <th></th>\n",
       "      <th></th>\n",
       "      <th></th>\n",
       "      <th></th>\n",
       "    </tr>\n",
       "  </thead>\n",
       "  <tbody>\n",
       "    <tr>\n",
       "      <th>49434</th>\n",
       "      <td>8.0</td>\n",
       "      <td>5399.367847</td>\n",
       "      <td>5399.618056</td>\n",
       "      <td>static_gratings</td>\n",
       "      <td>0.8</td>\n",
       "      <td>0.02</td>\n",
       "      <td>150.0</td>\n",
       "      <td>[250.0, 250.0]</td>\n",
       "      <td>0.5</td>\n",
       "      <td>0.250209</td>\n",
       "      <td>4787</td>\n",
       "    </tr>\n",
       "    <tr>\n",
       "      <th>49435</th>\n",
       "      <td>8.0</td>\n",
       "      <td>5399.618056</td>\n",
       "      <td>5399.868265</td>\n",
       "      <td>static_gratings</td>\n",
       "      <td>0.8</td>\n",
       "      <td>0.16</td>\n",
       "      <td>0.0</td>\n",
       "      <td>[250.0, 250.0]</td>\n",
       "      <td>0.5</td>\n",
       "      <td>0.250209</td>\n",
       "      <td>4788</td>\n",
       "    </tr>\n",
       "    <tr>\n",
       "      <th>49436</th>\n",
       "      <td>8.0</td>\n",
       "      <td>5399.868265</td>\n",
       "      <td>5400.118474</td>\n",
       "      <td>static_gratings</td>\n",
       "      <td>0.8</td>\n",
       "      <td>0.04</td>\n",
       "      <td>30.0</td>\n",
       "      <td>[250.0, 250.0]</td>\n",
       "      <td>0.25</td>\n",
       "      <td>0.250209</td>\n",
       "      <td>4789</td>\n",
       "    </tr>\n",
       "    <tr>\n",
       "      <th>49437</th>\n",
       "      <td>8.0</td>\n",
       "      <td>5400.118474</td>\n",
       "      <td>5400.368684</td>\n",
       "      <td>static_gratings</td>\n",
       "      <td>0.8</td>\n",
       "      <td>0.04</td>\n",
       "      <td>60.0</td>\n",
       "      <td>[250.0, 250.0]</td>\n",
       "      <td>0.75</td>\n",
       "      <td>0.250209</td>\n",
       "      <td>4790</td>\n",
       "    </tr>\n",
       "    <tr>\n",
       "      <th>49438</th>\n",
       "      <td>8.0</td>\n",
       "      <td>5400.368684</td>\n",
       "      <td>5400.618889</td>\n",
       "      <td>static_gratings</td>\n",
       "      <td>0.8</td>\n",
       "      <td>0.08</td>\n",
       "      <td>60.0</td>\n",
       "      <td>[250.0, 250.0]</td>\n",
       "      <td>0.0</td>\n",
       "      <td>0.250206</td>\n",
       "      <td>4791</td>\n",
       "    </tr>\n",
       "  </tbody>\n",
       "</table>\n",
       "</div>"
      ],
      "text/plain": [
       "                         stimulus_block   start_time    stop_time  \\\n",
       "stimulus_presentation_id                                            \n",
       "49434                               8.0  5399.367847  5399.618056   \n",
       "49435                               8.0  5399.618056  5399.868265   \n",
       "49436                               8.0  5399.868265  5400.118474   \n",
       "49437                               8.0  5400.118474  5400.368684   \n",
       "49438                               8.0  5400.368684  5400.618889   \n",
       "\n",
       "                            stimulus_name contrast spatial_frequency  \\\n",
       "stimulus_presentation_id                                               \n",
       "49434                     static_gratings      0.8              0.02   \n",
       "49435                     static_gratings      0.8              0.16   \n",
       "49436                     static_gratings      0.8              0.04   \n",
       "49437                     static_gratings      0.8              0.04   \n",
       "49438                     static_gratings      0.8              0.08   \n",
       "\n",
       "                         orientation            size phase  duration  \\\n",
       "stimulus_presentation_id                                               \n",
       "49434                          150.0  [250.0, 250.0]   0.5  0.250209   \n",
       "49435                            0.0  [250.0, 250.0]   0.5  0.250209   \n",
       "49436                           30.0  [250.0, 250.0]  0.25  0.250209   \n",
       "49437                           60.0  [250.0, 250.0]  0.75  0.250209   \n",
       "49438                           60.0  [250.0, 250.0]   0.0  0.250206   \n",
       "\n",
       "                          stimulus_condition_id  \n",
       "stimulus_presentation_id                         \n",
       "49434                                      4787  \n",
       "49435                                      4788  \n",
       "49436                                      4789  \n",
       "49437                                      4790  \n",
       "49438                                      4791  "
      ]
     },
     "execution_count": 9,
     "metadata": {},
     "output_type": "execute_result"
    }
   ],
   "source": [
    "static_stimuli = oursession.get_stimulus_table('static_gratings')\n",
    "static_stimuli.head()"
   ]
  },
  {
   "cell_type": "code",
   "execution_count": 10,
   "metadata": {},
   "outputs": [],
   "source": [
    "def generate_stimuli_spike_table(stimuli_table, columns):\n",
    "    stimuli_ids = stimuli_table.index\n",
    "    spikes_per_stimulus = oursession.presentationwise_spike_times(stimulus_presentation_ids = stimuli_ids)\n",
    "    spikes_per_stimulus.reset_index(inplace=True)\n",
    "    spike_counts = spikes_per_stimulus.groupby(['stimulus_presentation_id', 'unit_id'])['spike_time'].count().reset_index()\n",
    "    spike_counts.rename(columns={'spike_time': 'spike_count'}, inplace=True)\n",
    "    dataset = pd.merge(spike_counts, stimuli_table[columns + ['duration']], on='stimulus_presentation_id')\n",
    "    dataset['spikes_per_second'] = dataset['spike_count'] / dataset['duration']\n",
    "    dataset = dataset.drop(columns=['duration', 'spike_count'])\n",
    "    return dataset"
   ]
  },
  {
   "cell_type": "code",
   "execution_count": 11,
   "metadata": {},
   "outputs": [],
   "source": [
    "drifting_dataset = generate_stimuli_spike_table(drifting_stimuli, columns=['temporal_frequency', 'orientation'])\n",
    "static_dataset = generate_stimuli_spike_table(static_stimuli, columns= ['spatial_frequency', 'orientation'])"
   ]
  },
  {
   "cell_type": "code",
   "execution_count": 22,
   "metadata": {},
   "outputs": [],
   "source": [
    "drifting_dataset = drifting_dataset.replace(['null', 'NULL', '', ' '], np.nan)\n",
    "static_dataset = static_dataset.replace(['null', 'NULL', '', ' '], np.nan)"
   ]
  },
  {
   "cell_type": "code",
   "execution_count": 23,
   "metadata": {},
   "outputs": [],
   "source": [
    "drifting_dataset.dropna(inplace=True)\n",
    "static_dataset.dropna(inplace=True)"
   ]
  },
  {
   "cell_type": "code",
   "execution_count": 24,
   "metadata": {},
   "outputs": [
    {
     "data": {
      "application/vnd.microsoft.datawrangler.viewer.v0+json": {
       "columns": [
        {
         "name": "index",
         "rawType": "int64",
         "type": "integer"
        },
        {
         "name": "stimulus_presentation_id",
         "rawType": "int64",
         "type": "integer"
        },
        {
         "name": "unit_id",
         "rawType": "int64",
         "type": "integer"
        },
        {
         "name": "temporal_frequency",
         "rawType": "float64",
         "type": "float"
        },
        {
         "name": "orientation",
         "rawType": "float64",
         "type": "float"
        },
        {
         "name": "spikes_per_second",
         "rawType": "float64",
         "type": "float"
        }
       ],
       "conversionMethod": "pd.DataFrame",
       "ref": "805d51af-c6bd-4cb7-abdf-e0e357d6384a",
       "rows": [
        [
         "0",
         "3798",
         "951088664",
         "15.0",
         "0.0",
         "12.489571208042056"
        ],
        [
         "1",
         "3798",
         "951088679",
         "15.0",
         "0.0",
         "11.989988359720375"
        ],
        [
         "2",
         "3798",
         "951088721",
         "15.0",
         "0.0",
         "12.489571208042056"
        ],
        [
         "3",
         "3798",
         "951088823",
         "15.0",
         "0.0",
         "0.9991656966433645"
        ],
        [
         "4",
         "3798",
         "951088862",
         "15.0",
         "0.0",
         "38.96746216909122"
        ]
       ],
       "shape": {
        "columns": 5,
        "rows": 5
       }
      },
      "text/html": [
       "<div>\n",
       "<style scoped>\n",
       "    .dataframe tbody tr th:only-of-type {\n",
       "        vertical-align: middle;\n",
       "    }\n",
       "\n",
       "    .dataframe tbody tr th {\n",
       "        vertical-align: top;\n",
       "    }\n",
       "\n",
       "    .dataframe thead th {\n",
       "        text-align: right;\n",
       "    }\n",
       "</style>\n",
       "<table border=\"1\" class=\"dataframe\">\n",
       "  <thead>\n",
       "    <tr style=\"text-align: right;\">\n",
       "      <th></th>\n",
       "      <th>stimulus_presentation_id</th>\n",
       "      <th>unit_id</th>\n",
       "      <th>temporal_frequency</th>\n",
       "      <th>orientation</th>\n",
       "      <th>spikes_per_second</th>\n",
       "    </tr>\n",
       "  </thead>\n",
       "  <tbody>\n",
       "    <tr>\n",
       "      <th>0</th>\n",
       "      <td>3798</td>\n",
       "      <td>951088664</td>\n",
       "      <td>15.0</td>\n",
       "      <td>0.0</td>\n",
       "      <td>12.489571</td>\n",
       "    </tr>\n",
       "    <tr>\n",
       "      <th>1</th>\n",
       "      <td>3798</td>\n",
       "      <td>951088679</td>\n",
       "      <td>15.0</td>\n",
       "      <td>0.0</td>\n",
       "      <td>11.989988</td>\n",
       "    </tr>\n",
       "    <tr>\n",
       "      <th>2</th>\n",
       "      <td>3798</td>\n",
       "      <td>951088721</td>\n",
       "      <td>15.0</td>\n",
       "      <td>0.0</td>\n",
       "      <td>12.489571</td>\n",
       "    </tr>\n",
       "    <tr>\n",
       "      <th>3</th>\n",
       "      <td>3798</td>\n",
       "      <td>951088823</td>\n",
       "      <td>15.0</td>\n",
       "      <td>0.0</td>\n",
       "      <td>0.999166</td>\n",
       "    </tr>\n",
       "    <tr>\n",
       "      <th>4</th>\n",
       "      <td>3798</td>\n",
       "      <td>951088862</td>\n",
       "      <td>15.0</td>\n",
       "      <td>0.0</td>\n",
       "      <td>38.967462</td>\n",
       "    </tr>\n",
       "  </tbody>\n",
       "</table>\n",
       "</div>"
      ],
      "text/plain": [
       "   stimulus_presentation_id    unit_id  temporal_frequency  orientation  \\\n",
       "0                      3798  951088664                15.0          0.0   \n",
       "1                      3798  951088679                15.0          0.0   \n",
       "2                      3798  951088721                15.0          0.0   \n",
       "3                      3798  951088823                15.0          0.0   \n",
       "4                      3798  951088862                15.0          0.0   \n",
       "\n",
       "   spikes_per_second  \n",
       "0          12.489571  \n",
       "1          11.989988  \n",
       "2          12.489571  \n",
       "3           0.999166  \n",
       "4          38.967462  "
      ]
     },
     "execution_count": 24,
     "metadata": {},
     "output_type": "execute_result"
    }
   ],
   "source": [
    "drifting_dataset.head()"
   ]
  },
  {
   "cell_type": "code",
   "execution_count": 25,
   "metadata": {},
   "outputs": [
    {
     "data": {
      "application/vnd.microsoft.datawrangler.viewer.v0+json": {
       "columns": [
        {
         "name": "index",
         "rawType": "int64",
         "type": "integer"
        },
        {
         "name": "stimulus_presentation_id",
         "rawType": "int64",
         "type": "integer"
        },
        {
         "name": "unit_id",
         "rawType": "int64",
         "type": "integer"
        },
        {
         "name": "spatial_frequency",
         "rawType": "float64",
         "type": "float"
        },
        {
         "name": "orientation",
         "rawType": "float64",
         "type": "float"
        },
        {
         "name": "spikes_per_second",
         "rawType": "float64",
         "type": "float"
        }
       ],
       "conversionMethod": "pd.DataFrame",
       "ref": "d04a9adf-c68d-4879-85c7-efb2af225185",
       "rows": [
        [
         "0",
         "49434",
         "951088664",
         "0.02",
         "150.0",
         "11.989964719874036"
        ],
        [
         "1",
         "49434",
         "951088679",
         "0.02",
         "150.0",
         "7.993309813249358"
        ],
        [
         "2",
         "49434",
         "951088721",
         "0.02",
         "150.0",
         "31.97323925299743"
        ],
        [
         "3",
         "49434",
         "951088823",
         "0.02",
         "150.0",
         "3.996654906624679"
        ],
        [
         "4",
         "49434",
         "951088862",
         "0.02",
         "150.0",
         "19.983274533123396"
        ]
       ],
       "shape": {
        "columns": 5,
        "rows": 5
       }
      },
      "text/html": [
       "<div>\n",
       "<style scoped>\n",
       "    .dataframe tbody tr th:only-of-type {\n",
       "        vertical-align: middle;\n",
       "    }\n",
       "\n",
       "    .dataframe tbody tr th {\n",
       "        vertical-align: top;\n",
       "    }\n",
       "\n",
       "    .dataframe thead th {\n",
       "        text-align: right;\n",
       "    }\n",
       "</style>\n",
       "<table border=\"1\" class=\"dataframe\">\n",
       "  <thead>\n",
       "    <tr style=\"text-align: right;\">\n",
       "      <th></th>\n",
       "      <th>stimulus_presentation_id</th>\n",
       "      <th>unit_id</th>\n",
       "      <th>spatial_frequency</th>\n",
       "      <th>orientation</th>\n",
       "      <th>spikes_per_second</th>\n",
       "    </tr>\n",
       "  </thead>\n",
       "  <tbody>\n",
       "    <tr>\n",
       "      <th>0</th>\n",
       "      <td>49434</td>\n",
       "      <td>951088664</td>\n",
       "      <td>0.02</td>\n",
       "      <td>150.0</td>\n",
       "      <td>11.989965</td>\n",
       "    </tr>\n",
       "    <tr>\n",
       "      <th>1</th>\n",
       "      <td>49434</td>\n",
       "      <td>951088679</td>\n",
       "      <td>0.02</td>\n",
       "      <td>150.0</td>\n",
       "      <td>7.993310</td>\n",
       "    </tr>\n",
       "    <tr>\n",
       "      <th>2</th>\n",
       "      <td>49434</td>\n",
       "      <td>951088721</td>\n",
       "      <td>0.02</td>\n",
       "      <td>150.0</td>\n",
       "      <td>31.973239</td>\n",
       "    </tr>\n",
       "    <tr>\n",
       "      <th>3</th>\n",
       "      <td>49434</td>\n",
       "      <td>951088823</td>\n",
       "      <td>0.02</td>\n",
       "      <td>150.0</td>\n",
       "      <td>3.996655</td>\n",
       "    </tr>\n",
       "    <tr>\n",
       "      <th>4</th>\n",
       "      <td>49434</td>\n",
       "      <td>951088862</td>\n",
       "      <td>0.02</td>\n",
       "      <td>150.0</td>\n",
       "      <td>19.983275</td>\n",
       "    </tr>\n",
       "  </tbody>\n",
       "</table>\n",
       "</div>"
      ],
      "text/plain": [
       "   stimulus_presentation_id    unit_id  spatial_frequency  orientation  \\\n",
       "0                     49434  951088664               0.02        150.0   \n",
       "1                     49434  951088679               0.02        150.0   \n",
       "2                     49434  951088721               0.02        150.0   \n",
       "3                     49434  951088823               0.02        150.0   \n",
       "4                     49434  951088862               0.02        150.0   \n",
       "\n",
       "   spikes_per_second  \n",
       "0          11.989965  \n",
       "1           7.993310  \n",
       "2          31.973239  \n",
       "3           3.996655  \n",
       "4          19.983275  "
      ]
     },
     "execution_count": 25,
     "metadata": {},
     "output_type": "execute_result"
    }
   ],
   "source": [
    "static_dataset.head()"
   ]
  },
  {
   "cell_type": "code",
   "execution_count": 28,
   "metadata": {},
   "outputs": [],
   "source": [
    "drifting_dataset.to_parquet(f'ourdata/drifting_dataset_session_{session}.parquet', index=False)\n",
    "static_dataset.to_parquet(f'ourdata/static_dataset_session_{session}.parquet', index=False)"
   ]
  }
 ],
 "metadata": {
  "kernelspec": {
   "display_name": "envallen",
   "language": "python",
   "name": "python3"
  },
  "language_info": {
   "codemirror_mode": {
    "name": "ipython",
    "version": 3
   },
   "file_extension": ".py",
   "mimetype": "text/x-python",
   "name": "python",
   "nbconvert_exporter": "python",
   "pygments_lexer": "ipython3",
   "version": "3.11.11"
  }
 },
 "nbformat": 4,
 "nbformat_minor": 2
}
