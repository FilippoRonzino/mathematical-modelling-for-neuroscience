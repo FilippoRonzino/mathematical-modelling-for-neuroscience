{
 "cells": [
  {
   "cell_type": "code",
   "execution_count": 8,
   "metadata": {},
   "outputs": [],
   "source": [
    "import pandas as pd\n",
    "import matplotlib.pyplot as plt\n",
    "import numpy as np\n",
    "import seaborn as sns"
   ]
  },
  {
   "cell_type": "code",
   "execution_count": 4,
   "metadata": {},
   "outputs": [
    {
     "data": {
      "application/vnd.microsoft.datawrangler.viewer.v0+json": {
       "columns": [
        {
         "name": "index",
         "rawType": "int64",
         "type": "integer"
        },
        {
         "name": "stimulus_presentation_id",
         "rawType": "int64",
         "type": "integer"
        },
        {
         "name": "unit_id",
         "rawType": "int64",
         "type": "integer"
        },
        {
         "name": "orientation",
         "rawType": "float64",
         "type": "float"
        },
        {
         "name": "temporal_frequency",
         "rawType": "float64",
         "type": "float"
        },
        {
         "name": "spikes_per_second",
         "rawType": "float64",
         "type": "float"
        },
        {
         "name": "area",
         "rawType": "object",
         "type": "string"
        }
       ],
       "conversionMethod": "pd.DataFrame",
       "ref": "ea7008db-d375-48bb-83c2-78c303b70312",
       "rows": [
        [
         "0",
         "3798",
         "951088664",
         "0.0",
         "15.0",
         "12.489571208042056",
         "APN"
        ],
        [
         "1",
         "3798",
         "951088679",
         "0.0",
         "15.0",
         "11.989988359720375",
         "APN"
        ],
        [
         "2",
         "3798",
         "951088721",
         "0.0",
         "15.0",
         "12.489571208042056",
         "APN"
        ],
        [
         "3",
         "3798",
         "951088823",
         "0.0",
         "15.0",
         "0.9991656966433645",
         "APN"
        ],
        [
         "4",
         "3798",
         "951088862",
         "0.0",
         "15.0",
         "38.96746216909122",
         "APN"
        ],
        [
         "5",
         "3798",
         "951088891",
         "0.0",
         "15.0",
         "0.9991656966433645",
         "APN"
        ],
        [
         "6",
         "3798",
         "951088939",
         "0.0",
         "15.0",
         "12.98915405636374",
         "APN"
        ],
        [
         "7",
         "3798",
         "951088948",
         "0.0",
         "15.0",
         "66.94410167510543",
         "APN"
        ],
        [
         "8",
         "3798",
         "951088957",
         "0.0",
         "15.0",
         "2.9974970899300937",
         "APN"
        ],
        [
         "9",
         "3798",
         "951088968",
         "0.0",
         "15.0",
         "48.959119135524865",
         "APN"
        ],
        [
         "10",
         "3798",
         "951089004",
         "0.0",
         "15.0",
         "11.490405511398693",
         "APN"
        ],
        [
         "11",
         "3798",
         "951089020",
         "0.0",
         "15.0",
         "64.9457702818187",
         "APN"
        ],
        [
         "12",
         "3798",
         "951089071",
         "0.0",
         "15.0",
         "0.9991656966433645",
         "APN"
        ],
        [
         "13",
         "3798",
         "951089083",
         "0.0",
         "15.0",
         "26.47789096104916",
         "APN"
        ],
        [
         "14",
         "3798",
         "951089095",
         "0.0",
         "15.0",
         "3.497079938251776",
         "APN"
        ],
        [
         "15",
         "3798",
         "951089130",
         "0.0",
         "15.0",
         "25.97830811272748",
         "APN"
        ],
        [
         "16",
         "3798",
         "951089164",
         "0.0",
         "15.0",
         "33.472050837552715",
         "APN"
        ],
        [
         "17",
         "3798",
         "951089174",
         "0.0",
         "15.0",
         "22.980811022797386",
         "MB"
        ],
        [
         "18",
         "3798",
         "951089184",
         "0.0",
         "15.0",
         "0.9991656966433645",
         "APN"
        ],
        [
         "19",
         "3798",
         "951089195",
         "0.0",
         "15.0",
         "84.4295013663643",
         "NOT"
        ],
        [
         "20",
         "3798",
         "951089339",
         "0.0",
         "15.0",
         "6.994159876503552",
         "NOT"
        ],
        [
         "21",
         "3798",
         "951089429",
         "0.0",
         "15.0",
         "34.97079938251776",
         "NOT"
        ],
        [
         "22",
         "3798",
         "951089459",
         "0.0",
         "15.0",
         "0.49958284832168226",
         "NOT"
        ],
        [
         "23",
         "3798",
         "951089488",
         "0.0",
         "15.0",
         "81.43200427643421",
         "NOT"
        ],
        [
         "24",
         "3798",
         "951089538",
         "0.0",
         "15.0",
         "70.94076446167888",
         "NOT"
        ],
        [
         "25",
         "3798",
         "951089592",
         "0.0",
         "15.0",
         "5.495411331538505",
         "NOT"
        ],
        [
         "26",
         "3798",
         "951089704",
         "0.0",
         "15.0",
         "8.99249126979028",
         "NOT"
        ],
        [
         "27",
         "3798",
         "951089925",
         "0.0",
         "15.0",
         "1.998331393286729",
         "NOT"
        ],
        [
         "28",
         "3798",
         "951090214",
         "0.0",
         "15.0",
         "24.479559567762433",
         "DG"
        ],
        [
         "29",
         "3798",
         "951090343",
         "0.0",
         "15.0",
         "2.4979142416084112",
         "CA1"
        ],
        [
         "30",
         "3798",
         "951090551",
         "0.0",
         "15.0",
         "9.492074118111963",
         "CA1"
        ],
        [
         "31",
         "3798",
         "951090679",
         "0.0",
         "15.0",
         "6.49457702818187",
         "CA1"
        ],
        [
         "32",
         "3798",
         "951090729",
         "0.0",
         "15.0",
         "5.495411331538505",
         "CA1"
        ],
        [
         "33",
         "3798",
         "951090804",
         "0.0",
         "15.0",
         "1.4987485449650468",
         "CA1"
        ],
        [
         "34",
         "3798",
         "951090856",
         "0.0",
         "15.0",
         "1.4987485449650468",
         "CA1"
        ],
        [
         "35",
         "3798",
         "951090924",
         "0.0",
         "15.0",
         "2.4979142416084112",
         "CA1"
        ],
        [
         "36",
         "3798",
         "951090982",
         "0.0",
         "15.0",
         "4.49624563489514",
         "CA1"
        ],
        [
         "37",
         "3798",
         "951091025",
         "0.0",
         "15.0",
         "2.9974970899300937",
         "CA1"
        ],
        [
         "38",
         "3798",
         "951091188",
         "0.0",
         "15.0",
         "17.98498253958056",
         "CA1"
        ],
        [
         "39",
         "3798",
         "951091287",
         "0.0",
         "15.0",
         "3.996662786573458",
         "CA1"
        ],
        [
         "40",
         "3798",
         "951091304",
         "0.0",
         "15.0",
         "14.987485449650467",
         "CA1"
        ],
        [
         "41",
         "3798",
         "951091412",
         "0.0",
         "15.0",
         "2.9974970899300937",
         "CA1"
        ],
        [
         "42",
         "3798",
         "951091444",
         "0.0",
         "15.0",
         "10.99082266307701",
         "CA1"
        ],
        [
         "43",
         "3798",
         "951091492",
         "0.0",
         "15.0",
         "8.492908421468599",
         "CA1"
        ],
        [
         "44",
         "3798",
         "951091758",
         "0.0",
         "15.0",
         "6.994159876503552",
         "CA1"
        ],
        [
         "45",
         "3798",
         "951091785",
         "0.0",
         "15.0",
         "19.48373108454561",
         "CA1"
        ],
        [
         "46",
         "3798",
         "951091890",
         "0.0",
         "15.0",
         "2.9974970899300937",
         "CA1"
        ],
        [
         "47",
         "3798",
         "951091914",
         "0.0",
         "15.0",
         "3.996662786573458",
         "CA1"
        ],
        [
         "48",
         "3798",
         "951092050",
         "0.0",
         "15.0",
         "22.980811022797386",
         "VISam"
        ],
        [
         "49",
         "3798",
         "951092075",
         "0.0",
         "15.0",
         "9.991656966433645",
         "VISam"
        ]
       ],
       "shape": {
        "columns": 6,
        "rows": 378168
       }
      },
      "text/html": [
       "<div>\n",
       "<style scoped>\n",
       "    .dataframe tbody tr th:only-of-type {\n",
       "        vertical-align: middle;\n",
       "    }\n",
       "\n",
       "    .dataframe tbody tr th {\n",
       "        vertical-align: top;\n",
       "    }\n",
       "\n",
       "    .dataframe thead th {\n",
       "        text-align: right;\n",
       "    }\n",
       "</style>\n",
       "<table border=\"1\" class=\"dataframe\">\n",
       "  <thead>\n",
       "    <tr style=\"text-align: right;\">\n",
       "      <th></th>\n",
       "      <th>stimulus_presentation_id</th>\n",
       "      <th>unit_id</th>\n",
       "      <th>orientation</th>\n",
       "      <th>temporal_frequency</th>\n",
       "      <th>spikes_per_second</th>\n",
       "      <th>area</th>\n",
       "    </tr>\n",
       "  </thead>\n",
       "  <tbody>\n",
       "    <tr>\n",
       "      <th>0</th>\n",
       "      <td>3798</td>\n",
       "      <td>951088664</td>\n",
       "      <td>0.0</td>\n",
       "      <td>15.0</td>\n",
       "      <td>12.489571</td>\n",
       "      <td>APN</td>\n",
       "    </tr>\n",
       "    <tr>\n",
       "      <th>1</th>\n",
       "      <td>3798</td>\n",
       "      <td>951088679</td>\n",
       "      <td>0.0</td>\n",
       "      <td>15.0</td>\n",
       "      <td>11.989988</td>\n",
       "      <td>APN</td>\n",
       "    </tr>\n",
       "    <tr>\n",
       "      <th>2</th>\n",
       "      <td>3798</td>\n",
       "      <td>951088721</td>\n",
       "      <td>0.0</td>\n",
       "      <td>15.0</td>\n",
       "      <td>12.489571</td>\n",
       "      <td>APN</td>\n",
       "    </tr>\n",
       "    <tr>\n",
       "      <th>3</th>\n",
       "      <td>3798</td>\n",
       "      <td>951088823</td>\n",
       "      <td>0.0</td>\n",
       "      <td>15.0</td>\n",
       "      <td>0.999166</td>\n",
       "      <td>APN</td>\n",
       "    </tr>\n",
       "    <tr>\n",
       "      <th>4</th>\n",
       "      <td>3798</td>\n",
       "      <td>951088862</td>\n",
       "      <td>0.0</td>\n",
       "      <td>15.0</td>\n",
       "      <td>38.967462</td>\n",
       "      <td>APN</td>\n",
       "    </tr>\n",
       "    <tr>\n",
       "      <th>...</th>\n",
       "      <td>...</td>\n",
       "      <td>...</td>\n",
       "      <td>...</td>\n",
       "      <td>...</td>\n",
       "      <td>...</td>\n",
       "      <td>...</td>\n",
       "    </tr>\n",
       "    <tr>\n",
       "      <th>396805</th>\n",
       "      <td>49432</td>\n",
       "      <td>951117127</td>\n",
       "      <td>180.0</td>\n",
       "      <td>1.0</td>\n",
       "      <td>11.490348</td>\n",
       "      <td>VISrl</td>\n",
       "    </tr>\n",
       "    <tr>\n",
       "      <th>396806</th>\n",
       "      <td>49432</td>\n",
       "      <td>951117252</td>\n",
       "      <td>180.0</td>\n",
       "      <td>1.0</td>\n",
       "      <td>10.990768</td>\n",
       "      <td>LP</td>\n",
       "    </tr>\n",
       "    <tr>\n",
       "      <th>396807</th>\n",
       "      <td>49432</td>\n",
       "      <td>951117258</td>\n",
       "      <td>180.0</td>\n",
       "      <td>1.0</td>\n",
       "      <td>2.997482</td>\n",
       "      <td>LP</td>\n",
       "    </tr>\n",
       "    <tr>\n",
       "      <th>396808</th>\n",
       "      <td>49432</td>\n",
       "      <td>951117264</td>\n",
       "      <td>180.0</td>\n",
       "      <td>1.0</td>\n",
       "      <td>10.491187</td>\n",
       "      <td>LP</td>\n",
       "    </tr>\n",
       "    <tr>\n",
       "      <th>396809</th>\n",
       "      <td>49432</td>\n",
       "      <td>951117389</td>\n",
       "      <td>180.0</td>\n",
       "      <td>1.0</td>\n",
       "      <td>0.499580</td>\n",
       "      <td>VISrl</td>\n",
       "    </tr>\n",
       "  </tbody>\n",
       "</table>\n",
       "<p>378168 rows × 6 columns</p>\n",
       "</div>"
      ],
      "text/plain": [
       "        stimulus_presentation_id    unit_id  orientation  temporal_frequency  \\\n",
       "0                           3798  951088664          0.0                15.0   \n",
       "1                           3798  951088679          0.0                15.0   \n",
       "2                           3798  951088721          0.0                15.0   \n",
       "3                           3798  951088823          0.0                15.0   \n",
       "4                           3798  951088862          0.0                15.0   \n",
       "...                          ...        ...          ...                 ...   \n",
       "396805                     49432  951117127        180.0                 1.0   \n",
       "396806                     49432  951117252        180.0                 1.0   \n",
       "396807                     49432  951117258        180.0                 1.0   \n",
       "396808                     49432  951117264        180.0                 1.0   \n",
       "396809                     49432  951117389        180.0                 1.0   \n",
       "\n",
       "        spikes_per_second   area  \n",
       "0               12.489571    APN  \n",
       "1               11.989988    APN  \n",
       "2               12.489571    APN  \n",
       "3                0.999166    APN  \n",
       "4               38.967462    APN  \n",
       "...                   ...    ...  \n",
       "396805          11.490348  VISrl  \n",
       "396806          10.990768     LP  \n",
       "396807           2.997482     LP  \n",
       "396808          10.491187     LP  \n",
       "396809           0.499580  VISrl  \n",
       "\n",
       "[378168 rows x 6 columns]"
      ]
     },
     "execution_count": 4,
     "metadata": {},
     "output_type": "execute_result"
    }
   ],
   "source": [
    "# import the data\n",
    "dataset = pd.read_parquet('./ourdata/drifting_dataset_session_798911424.parquet')\n",
    "dataset"
   ]
  },
  {
   "cell_type": "code",
   "execution_count": 9,
   "metadata": {},
   "outputs": [
    {
     "data": {
      "image/png": "[encoded data removed]",
      "text/plain": [
       "<Figure size 1500x800 with 2 Axes>"
      ]
     },
     "metadata": {},
     "output_type": "display_data"
    }
   ],
   "source": [
    "# Group by orientation and calculate the average spikes_per_second for each area\n",
    "grouped_orientation = dataset.groupby(['orientation', 'area'])['spikes_per_second'].mean().reset_index()\n",
    "\n",
    "# Pivot the data for easier visualization\n",
    "pivot_orientation = grouped_orientation.pivot_table(index='orientation', columns='area', values='spikes_per_second', fill_value=0)\n",
    "\n",
    "# Plot the heatmap for orientation\n",
    "plt.figure(figsize=(15, 8))\n",
    "sns.heatmap(pivot_orientation, cmap='viridis', annot=False, cbar_kws={'label': 'Average Spikes per Second'})\n",
    "plt.title('Most Active Brain Areas by Orientation')\n",
    "plt.xlabel('Brain Area')\n",
    "plt.ylabel('Orientation')\n",
    "plt.tight_layout()\n",
    "plt.show()"
   ]
  },
  {
   "cell_type": "code",
   "execution_count": 10,
   "metadata": {},
   "outputs": [
    {
     "data": {
      "image/png": "[encoded data removed]",
      "text/plain": [
       "<Figure size 1500x800 with 2 Axes>"
      ]
     },
     "metadata": {},
     "output_type": "display_data"
    }
   ],
   "source": [
    "# Group by temporal_frequency and calculate the average spikes_per_second for each area\n",
    "grouped_frequency = dataset.groupby(['temporal_frequency', 'area'])['spikes_per_second'].mean().reset_index()\n",
    "\n",
    "# Pivot the data for easier visualization\n",
    "pivot_frequency = grouped_frequency.pivot_table(index='temporal_frequency', columns='area', values='spikes_per_second', fill_value=0)\n",
    "\n",
    "# Plot the heatmap for temporal frequency\n",
    "plt.figure(figsize=(15, 8))\n",
    "sns.heatmap(pivot_frequency, cmap='viridis', annot=False, cbar_kws={'label': 'Average Spikes per Second'})\n",
    "plt.title('Most Active Brain Areas by Temporal Frequency')\n",
    "plt.xlabel('Brain Area')\n",
    "plt.ylabel('Temporal Frequency')\n",
    "plt.tight_layout()\n",
    "plt.show()"
   ]
  }
 ],
 "metadata": {
  "kernelspec": {
   "display_name": "envallen",
   "language": "python",
   "name": "python3"
  },
  "language_info": {
   "codemirror_mode": {
    "name": "ipython",
    "version": 3
   },
   "file_extension": ".py",
   "mimetype": "text/x-python",
   "name": "python",
   "nbconvert_exporter": "python",
   "pygments_lexer": "ipython3",
   "version": "3.11.11"
  }
 },
 "nbformat": 4,
 "nbformat_minor": 2
}
